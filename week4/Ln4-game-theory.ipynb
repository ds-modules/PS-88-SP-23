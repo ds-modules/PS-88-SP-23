{
 "cells": [
  {
   "cell_type": "markdown",
   "id": "bc51c0fa",
   "metadata": {},
   "source": [
    "# PS 88 Lecture Notebook 4: Game Theory"
   ]
  },
  {
   "cell_type": "markdown",
   "id": "8e15dfa9",
   "metadata": {},
   "source": [
    "For this lecture notebook we will just give a quick example of how to plot expected utility graphs to figure out best responses in games."
   ]
  },
  {
   "cell_type": "code",
   "execution_count": 12,
   "id": "478ca076",
   "metadata": {},
   "outputs": [],
   "source": [
    "import numpy as np\n",
    "import matplotlib.pyplot as plt\n",
    "from datascience import Table\n",
    "%matplotlib inline"
   ]
  },
  {
   "cell_type": "markdown",
   "id": "26205be0",
   "metadata": {},
   "source": [
    "As a reminder, here is the payoff matrix for the \"grab/defer\" game you played in the survey:\n",
    "\n",
    "|          | Grab | Defer     | \n",
    "|----------|----------|--------------|\n",
    "| Grab |  0,0       |  4,1           |  \n",
    "| Defer |  1,4       |  3,3           |  \n",
    "\n",
    "As discussed in the lecture, this game has two NE. Since the best response of each player is to do the opposite of what the other does, there is one where player 1 grabs and 2 defers, and one where player 1 defers and 2 grabs. \n",
    "\n",
    "One way to see this visually is to plot the expected utility of grabbing as a function of the probability that the other grabs. If the other grabs with probability $p$, the expected utility to grabbing is:\n",
    "$$\n",
    "EU_g(p) = p \\times 0 + (1-p) \\times 4\n",
    "$$\n",
    "And the expected utility to deferring is:\n",
    "$$\n",
    "EU_g(p) = p \\times 1 + (1-p) \\times 3\n",
    "$$\n",
    "\n",
    "Let's plot both of these as a function of $p$.\n"
   ]
  },
  {
   "cell_type": "code",
   "execution_count": 13,
   "id": "af2e1b3d",
   "metadata": {},
   "outputs": [
    {
     "data": {
      "text/plain": [
       "<matplotlib.legend.Legend at 0x7fe620766910>"
      ]
     },
     "execution_count": 13,
     "metadata": {},
     "output_type": "execute_result"
    },
    {
     "data": {
      "image/png": "[encoded data removed]",
      "text/plain": [
       "<Figure size 432x288 with 1 Axes>"
      ]
     },
     "metadata": {
      "needs_background": "light"
     },
     "output_type": "display_data"
    }
   ],
   "source": [
    "p = np.arange(0,1, step=.01)\n",
    "eug = p*0 + (1-p)*4\n",
    "eud = p*1 + (1-p)*3\n",
    "plt.ticklabel_format(style='plain')\n",
    "plt.plot(p,eug, label='Grabbing Expected Utility')\n",
    "plt.plot(p,eud, label='Deferring Expected Utility')\n",
    "plt.xlabel('Probability of Grabbing')\n",
    "plt.ylabel('Expected Utility')\n",
    "plt.legend()"
   ]
  },
  {
   "cell_type": "markdown",
   "id": "2f877469",
   "metadata": {},
   "source": [
    "Since the blue line is above the orange line for low values of $p$, when the other player always plays defer ($p=0$), it is better to grab. On the other hand, when the other player always grabs ($p=1$), it is better to defer. This confirms our claim about the best responses."
   ]
  },
  {
   "cell_type": "markdown",
   "id": "b8223d25",
   "metadata": {},
   "source": [
    "So far we have only   considered games between two players, and where they always pick one strategy or the other. Technically these are called *pure strategy* equilibria. It is also possible that people don't always play the same strategy (a *mixed strategy*), or that in a larger population different people play different strategies, and they don't know who they are matched with (often called *population games*). \n",
    "\n",
    "In either case, it makes sense to use these expected utility graphs to analyze the best response for intermediate cases where the probability of the opponent is between 0 and 1. Let's see what the optimal strategy is when faced with a randomly drawn member of the class. Let's load up the data that we will explore more in the lab:"
   ]
  },
  {
   "cell_type": "code",
   "execution_count": 16,
   "id": "ac168b26",
   "metadata": {},
   "outputs": [
    {
     "data": {
      "text/html": [
       "<table border=\"1\" class=\"dataframe\">\n",
       "    <thead>\n",
       "        <tr>\n",
       "            <th>ID</th> <th>pd_class</th> <th>pd_stanford</th> <th>pd_class_prc</th> <th>pd_stanford_prc</th> <th>grabshare</th> <th>ult_offer</th> <th>ult_accept</th> <th>gt_knowledge</th> <th>libcon</th> <th>libgon_guess</th> <th>ingroup</th>\n",
       "        </tr>\n",
       "    </thead>\n",
       "    <tbody>\n",
       "        <tr>\n",
       "            <td>1   </td> <td>Defect   </td> <td>Defect     </td> <td>0.5         </td> <td>0.2            </td> <td>Share    </td> <td>5        </td> <td>5         </td> <td>2           </td> <td>4     </td> <td>3           </td> <td>6      </td>\n",
       "        </tr>\n",
       "        <tr>\n",
       "            <td>2   </td> <td>Cooperate</td> <td>Cooperate  </td> <td>0.5         </td> <td>0.5            </td> <td>Grab     </td> <td>5        </td> <td>4         </td> <td>1           </td> <td>3     </td> <td>2           </td> <td>2      </td>\n",
       "        </tr>\n",
       "        <tr>\n",
       "            <td>3   </td> <td>Defect   </td> <td>Defect     </td> <td>1           </td> <td>1              </td> <td>Grab     </td> <td>2        </td> <td>2         </td> <td>1           </td> <td>3     </td> <td>4           </td> <td>3      </td>\n",
       "        </tr>\n",
       "        <tr>\n",
       "            <td>4   </td> <td>Defect   </td> <td>Defect     </td> <td>0.5         </td> <td>0.1            </td> <td>Grab     </td> <td>5        </td> <td>5         </td> <td>3           </td> <td>2     </td> <td>3           </td> <td>1      </td>\n",
       "        </tr>\n",
       "        <tr>\n",
       "            <td>5   </td> <td>Defect   </td> <td>Defect     </td> <td>0           </td> <td>0              </td> <td>Share    </td> <td>5        </td> <td>5         </td> <td>3           </td> <td>1     </td> <td>3           </td> <td>5      </td>\n",
       "        </tr>\n",
       "        <tr>\n",
       "            <td>6   </td> <td>Defect   </td> <td>Defect     </td> <td>0           </td> <td>0              </td> <td>Share    </td> <td>5        </td> <td>1         </td> <td>4           </td> <td>2     </td> <td>3           </td> <td>5      </td>\n",
       "        </tr>\n",
       "        <tr>\n",
       "            <td>7   </td> <td>Cooperate</td> <td>Cooperate  </td> <td>0.25        </td> <td>0.1            </td> <td>Share    </td> <td>5        </td> <td>3         </td> <td>1           </td> <td>3     </td> <td>2           </td> <td>1      </td>\n",
       "        </tr>\n",
       "        <tr>\n",
       "            <td>8   </td> <td>Defect   </td> <td>Defect     </td> <td>0.6         </td> <td>0.9            </td> <td>Share    </td> <td>9        </td> <td>1         </td> <td>2           </td> <td>2     </td> <td>2           </td> <td>6      </td>\n",
       "        </tr>\n",
       "        <tr>\n",
       "            <td>9   </td> <td>Cooperate</td> <td>Cooperate  </td> <td>0.5         </td> <td>0.4            </td> <td>Share    </td> <td>8        </td> <td>6         </td> <td>0           </td> <td>3     </td> <td>3           </td> <td>3      </td>\n",
       "        </tr>\n",
       "        <tr>\n",
       "            <td>10  </td> <td>Defect   </td> <td>Defect     </td> <td>0.5         </td> <td>0.25           </td> <td>Share    </td> <td>1        </td> <td>1         </td> <td>2           </td> <td>3     </td> <td>3           </td> <td>6      </td>\n",
       "        </tr>\n",
       "    </tbody>\n",
       "</table>\n",
       "<p>... (14 rows omitted)</p>"
      ],
      "text/plain": [
       "ID   | pd_class  | pd_stanford | pd_class_prc | pd_stanford_prc | grabshare | ult_offer | ult_accept | gt_knowledge | libcon | libgon_guess | ingroup\n",
       "1    | Defect    | Defect      | 0.5          | 0.2             | Share     | 5         | 5          | 2            | 4      | 3            | 6\n",
       "2    | Cooperate | Cooperate   | 0.5          | 0.5             | Grab      | 5         | 4          | 1            | 3      | 2            | 2\n",
       "3    | Defect    | Defect      | 1            | 1               | Grab      | 2         | 2          | 1            | 3      | 4            | 3\n",
       "4    | Defect    | Defect      | 0.5          | 0.1             | Grab      | 5         | 5          | 3            | 2      | 3            | 1\n",
       "5    | Defect    | Defect      | 0            | 0               | Share     | 5         | 5          | 3            | 1      | 3            | 5\n",
       "6    | Defect    | Defect      | 0            | 0               | Share     | 5         | 1          | 4            | 2      | 3            | 5\n",
       "7    | Cooperate | Cooperate   | 0.25         | 0.1             | Share     | 5         | 3          | 1            | 3      | 2            | 1\n",
       "8    | Defect    | Defect      | 0.6          | 0.9             | Share     | 9         | 1          | 2            | 2      | 2            | 6\n",
       "9    | Cooperate | Cooperate   | 0.5          | 0.4             | Share     | 8         | 6          | 0            | 3      | 3            | 3\n",
       "10   | Defect    | Defect      | 0.5          | 0.25            | Share     | 1         | 1          | 2            | 3      | 3            | 6\n",
       "... (14 rows omitted)"
      ]
     },
     "execution_count": 16,
     "metadata": {},
     "output_type": "execute_result"
    }
   ],
   "source": [
    "classdata = Table.read_table(\"PS 88 Game Theory Survey 2023.csv\")\n",
    "classdata"
   ]
  },
  {
   "cell_type": "markdown",
   "id": "95eb8ceb",
   "metadata": {},
   "source": [
    "We can count the number of respondents who said they would grab with the following:"
   ]
  },
  {
   "cell_type": "code",
   "execution_count": 17,
   "id": "6064f8bb",
   "metadata": {},
   "outputs": [
    {
     "data": {
      "text/plain": [
       "4"
      ]
     },
     "execution_count": 17,
     "metadata": {},
     "output_type": "execute_result"
    }
   ],
   "source": [
    "sum(classdata.column(\"grabshare\")==\"Grab\")"
   ]
  },
  {
   "cell_type": "markdown",
   "id": "dffee0ae",
   "metadata": {},
   "source": [
    "Let's estimate the probability of a partner grabbing by the proportion who answered this way:"
   ]
  },
  {
   "cell_type": "code",
   "execution_count": 18,
   "id": "5b8cb1e5",
   "metadata": {},
   "outputs": [
    {
     "data": {
      "text/plain": [
       "0.16666666666666666"
      ]
     },
     "execution_count": 18,
     "metadata": {},
     "output_type": "execute_result"
    }
   ],
   "source": [
    "sum(classdata.column(\"grabshare\")==\"Grab\")/classdata.num_rows"
   ]
  },
  {
   "cell_type": "markdown",
   "id": "c1f25d07",
   "metadata": {},
   "source": [
    "We can add this so the graph as follows:"
   ]
  },
  {
   "cell_type": "code",
   "execution_count": 19,
   "id": "f4a66877",
   "metadata": {},
   "outputs": [
    {
     "data": {
      "text/plain": [
       "<matplotlib.lines.Line2D at 0x7fe610154c10>"
      ]
     },
     "execution_count": 19,
     "metadata": {},
     "output_type": "execute_result"
    },
    {
     "data": {
      "image/png": "[encoded data removed]",
      "text/plain": [
       "<Figure size 432x288 with 1 Axes>"
      ]
     },
     "metadata": {
      "needs_background": "light"
     },
     "output_type": "display_data"
    }
   ],
   "source": [
    "p = np.arange(0,1, step=.01)\n",
    "eug = p*0 + (1-p)*4\n",
    "eud = p*1 + (1-p)*3\n",
    "plt.ticklabel_format(style='plain')\n",
    "plt.plot(p,eug, label='Grabbing Expected Utility')\n",
    "plt.plot(p,eud, label='Deferring Expected Utility')\n",
    "plt.xlabel('Probability of Grabbing')\n",
    "plt.ylabel('Expected Utility')\n",
    "plt.legend()\n",
    "plt.axvline(sum(classdata.column(\"grabshare\")==\"Grab\")/classdata.num_rows)"
   ]
  },
  {
   "cell_type": "markdown",
   "id": "22a304e4",
   "metadata": {},
   "source": [
    "Given the class behavior, it would be better to grab"
   ]
  },
  {
   "cell_type": "code",
   "execution_count": null,
   "id": "5598ee7e",
   "metadata": {},
   "outputs": [],
   "source": []
  }
 ],
 "metadata": {
  "kernelspec": {
   "display_name": "Python 3 (ipykernel)",
   "language": "python",
   "name": "python3"
  },
  "language_info": {
   "codemirror_mode": {
    "name": "ipython",
    "version": 3
   },
   "file_extension": ".py",
   "mimetype": "text/x-python",
   "name": "python",
   "nbconvert_exporter": "python",
   "pygments_lexer": "ipython3",
   "version": "3.9.7"
  }
 },
 "nbformat": 4,
 "nbformat_minor": 5
}
