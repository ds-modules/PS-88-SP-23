{
 "cells": [
  {
   "cell_type": "markdown",
   "id": "b3cfbf07",
   "metadata": {},
   "source": [
    "# PS 88 Lab 4: Altruism and Cooperation"
   ]
  },
  {
   "cell_type": "markdown",
   "id": "c1bf4178",
   "metadata": {},
   "source": [
    "This is the first lab where we will develop some theoretical ideas *and* see how they play out in some data; in this case, the survey that we had you fill out.\n",
    "\n",
    "As always, let's first import some libraries we will use in the lab"
   ]
  },
  {
   "cell_type": "code",
   "execution_count": null,
   "id": "776d4beb",
   "metadata": {},
   "outputs": [],
   "source": [
    "import numpy as np\n",
    "import matplotlib.pyplot as plt\n",
    "from datascience import Table\n",
    "%matplotlib inline"
   ]
  },
  {
   "cell_type": "markdown",
   "id": "b3ba04e1",
   "metadata": {},
   "source": [
    "## Part 1: A Theory of Altruism"
   ]
  },
  {
   "cell_type": "markdown",
   "id": "7b1c6987",
   "metadata": {},
   "source": [
    "One reason that people may not always defect in a prisoners' dilemma situation (whether in the lab or real life) is that they might put weight on considerations beyond just material payoffs.\n",
    "\n",
    "Here is a simple way to get at this notion. Suppose that players 1 and 2 play a game with the same *material* payoffs as the prisoners' dilemma from lecture (recall player 1's decision determines the row and 2's decision determines the column):\n",
    "\n",
    "|          | Cooperate | Defect     | \n",
    "|----------|----------|--------------|\n",
    "| Cooperate |  2,2       |  0,3           |  \n",
    "| Defect |  3,0       |  1,1           |  \n",
    "\n",
    "\n",
    "Let's consider a theory that people are altruistic, meaning they value the welfare of others. Intuitively, this might lead them to cooperate in a prisoners' dilemma. \n",
    "\n",
    "To formalize this altruism theory let the players' utility be equal to their material payoff plus the material payoff of the other player times $a \\geq 0$, where $a$ measures how altruistic the players are. So, if $m_1$ and $m_2$ are the material payoffs, then the utilities are:\n",
    "$$\n",
    "u_1 = m_1 + a m_2\n",
    "$$\n",
    "$$\n",
    "u_2 = m_2 + a m_1\n",
    "$$\n",
    "\n",
    "\n",
    "**Question 1.1. Write a table which represents this version of the prisoners' dilemma. (Hint: you can double click on this cell and to copy the markdown code for the table above and paste it as a starting point.)**"
   ]
  },
  {
   "cell_type": "markdown",
   "id": "fef59c64",
   "metadata": {},
   "source": [
    "*Answer for 1.1*"
   ]
  },
  {
   "cell_type": "markdown",
   "id": "e310cd55",
   "metadata": {},
   "source": [
    "**Question 1.2. If $a=.1$, what are the Nash Equilibria to this game?**"
   ]
  },
  {
   "cell_type": "markdown",
   "id": "33d4aa83",
   "metadata": {},
   "source": [
    "*Answer for 1.2*"
   ]
  },
  {
   "cell_type": "markdown",
   "id": "93cc1ea8",
   "metadata": {},
   "source": [
    "**Question 1.3 . If $a=.6$, what are the Nash Equilibria to this game**?"
   ]
  },
  {
   "cell_type": "markdown",
   "id": "d5f8c545",
   "metadata": {},
   "source": [
    "*Answer for 1.3*"
   ]
  },
  {
   "cell_type": "markdown",
   "id": "adeecb73",
   "metadata": {},
   "source": [
    "If one player is uncertain about what strategy the other will use, then we can use the concept of expected utility to figure out the best response. For example, the plot below gives the expectued utility to cooperating and defecting as a function of the probability that the other player cooperates, when $a=.1$."
   ]
  },
  {
   "cell_type": "code",
   "execution_count": null,
   "id": "117a1d12",
   "metadata": {},
   "outputs": [],
   "source": [
    "a = .1\n",
    "p = np.arange(0,1, step=.01)\n",
    "euc = p*(2 + 2*a) + (1-p)*(0+3*a)\n",
    "eud = p*3 + (1-p)*(1 + 1*a)\n",
    "plt.ticklabel_format(style='plain')\n",
    "plt.plot(p,euc, label='Cooperating Expected Utility')\n",
    "plt.plot(p,eud, label='Defecting Expected Utility')\n",
    "plt.xlabel('Probability of Cooperation')\n",
    "plt.ylabel('Expected Utility')\n",
    "plt.legend()"
   ]
  },
  {
   "cell_type": "markdown",
   "id": "9f94537d",
   "metadata": {},
   "source": [
    "Note that the EU for defecting (orange) is always above the EU for cooperating (blue). So, for any probability of the other cooperating, it is always better to defect. This should line up with what you found in question 1.1."
   ]
  },
  {
   "cell_type": "markdown",
   "id": "60ab0a3f",
   "metadata": {},
   "source": [
    "**Question 1.4 Create a similar plot for $a=.6$. (Remember, copy and pasting within your own notebook is fine!)**"
   ]
  },
  {
   "cell_type": "code",
   "execution_count": null,
   "id": "fe44099b",
   "metadata": {},
   "outputs": [],
   "source": [
    "# Code for 1.4"
   ]
  },
  {
   "cell_type": "markdown",
   "id": "34a17fca",
   "metadata": {},
   "source": [
    "**Question 1.5. Using the last two graphs, explain why the NE to this game are different when $a=.1$ and $a=.6$.**"
   ]
  },
  {
   "cell_type": "markdown",
   "id": "bad8e92e",
   "metadata": {},
   "source": [
    "*Answer for 1.5*"
   ]
  },
  {
   "cell_type": "markdown",
   "id": "9d97cf40",
   "metadata": {},
   "source": [
    "**Question 1.6. Recall that in the grab/defer game we analyzed in the lecture notebook, the expected utilities for the actions crossed, which meant that the best response depended on what the other player chose. In this game (for $a=.1$ or $a=.6$, the lines are parallel so they never cross. What does this mean about whether the best response depends on the other player's behavior?** "
   ]
  },
  {
   "cell_type": "markdown",
   "id": "82950155",
   "metadata": {},
   "source": [
    "*Answer for 1.6*"
   ]
  },
  {
   "cell_type": "markdown",
   "id": "9838ad98",
   "metadata": {},
   "source": [
    "**Question 1.7. Given the analysis above, suppose this is a reasonable model of how people make decisions in hypothetical prisoners' dilemmas, but in some scenarios they feel more altruistic towards their partner. What does this theory predict about the effect of altruism on cooperation? What are some examples of when people may feel more or less altruistic towards their partner?**"
   ]
  },
  {
   "cell_type": "markdown",
   "id": "df84091f",
   "metadata": {},
   "source": [
    "*Answer for 1.7*"
   ]
  },
  {
   "cell_type": "markdown",
   "id": "a8268636",
   "metadata": {},
   "source": [
    "## Part 2: An Empirical Test of the Theory of Altruism"
   ]
  },
  {
   "cell_type": "markdown",
   "id": "a7132ed9",
   "metadata": {},
   "source": [
    "Now let's explore how you all played this game in the survey. First we can load up the data with the `read_table` function"
   ]
  },
  {
   "cell_type": "code",
   "execution_count": null,
   "id": "6cf3e0e7",
   "metadata": {},
   "outputs": [],
   "source": [
    "classdata = Table.read_table(\"PS 88 Game Theory Survey 2023.csv\")\n",
    "classdata"
   ]
  },
  {
   "cell_type": "markdown",
   "id": "79443c6b",
   "metadata": {},
   "source": [
    "Let's say we want to see how often you said you would cooperate in when matched with a classmate. (Note: there are nicer ways to do this, but let's stick with things that have already been covered in our class and Data 8.)\n",
    "\n",
    "The following line of code asks whether each of these answers is \"Cooperate\". The answer to this question is in the `pd_class` column."
   ]
  },
  {
   "cell_type": "code",
   "execution_count": null,
   "id": "154ae1cb",
   "metadata": {},
   "outputs": [],
   "source": [
    "classdata.column(\"pd_class\") == \"Cooperate\""
   ]
  },
  {
   "cell_type": "markdown",
   "id": "5258b775",
   "metadata": {},
   "source": [
    "We can think of this as the Yes/No answer to whether each person cooperated. We can then count how many said they would cooperate by summing these up, since Python treats 'True' as a 1 and 'False' as a 0."
   ]
  },
  {
   "cell_type": "code",
   "execution_count": null,
   "id": "edaec113",
   "metadata": {},
   "outputs": [],
   "source": [
    "sum(classdata.column(\"pd_class\") == \"Cooperate\")"
   ]
  },
  {
   "cell_type": "markdown",
   "id": "8ffa22a2",
   "metadata": {},
   "source": [
    "We might be more interested in the proportion of cooperators. To get this we want to divide by the number of respondents, which we can do with the `num_rows` function applied to the table."
   ]
  },
  {
   "cell_type": "code",
   "execution_count": null,
   "id": "d319342e",
   "metadata": {},
   "outputs": [],
   "source": [
    "classdata.num_rows"
   ]
  },
  {
   "cell_type": "code",
   "execution_count": null,
   "id": "a9002831",
   "metadata": {},
   "outputs": [],
   "source": [
    "sum(classdata.column(\"pd_class\") == \"Cooperate\")/classdata.num_rows"
   ]
  },
  {
   "cell_type": "markdown",
   "id": "26d493c9",
   "metadata": {},
   "source": [
    "Let's contrast this with how you all said you would behave with a randomly picked student at Stanford, which is storted in the `PD_Class` column.\n",
    "\n",
    "**Question 2.1. Write a line of code to compute the proportion of respondents who said they would cooperate when matched with a random student from Stanford.**"
   ]
  },
  {
   "cell_type": "code",
   "execution_count": null,
   "id": "b1f7e09f",
   "metadata": {},
   "outputs": [],
   "source": [
    "#Code for 2.1"
   ]
  },
  {
   "cell_type": "markdown",
   "id": "b26d9db1",
   "metadata": {},
   "source": [
    "**Question 2.2. Is this more or less than the level of cooperation with a student from our class? What might explain this difference?**"
   ]
  },
  {
   "cell_type": "markdown",
   "id": "c6b072bf",
   "metadata": {},
   "source": [
    "*Answer for 2.2*"
   ]
  },
  {
   "cell_type": "markdown",
   "id": "a1d7bae5",
   "metadata": {},
   "source": [
    "Now let's take a look at how you all expect others to behave. The `pd_class_prc` column has your answers to the question about the probability that a member of the class would cooperate. A first cut is to take the average of that."
   ]
  },
  {
   "cell_type": "code",
   "execution_count": null,
   "id": "e004b688",
   "metadata": {},
   "outputs": [],
   "source": [
    "np.mean(classdata.column(\"pd_class_prc\"))"
   ]
  },
  {
   "cell_type": "markdown",
   "id": "58542ae6",
   "metadata": {},
   "source": [
    "**Question 2.3. Compare this to the real probability that class members would choose to cooperate with each other. What does this say about the correctness of your expectations, on average?**"
   ]
  },
  {
   "cell_type": "markdown",
   "id": "6ed47537",
   "metadata": {},
   "source": [
    "*Answer for 2.3*"
   ]
  },
  {
   "cell_type": "markdown",
   "id": "b9eaf23e",
   "metadata": {},
   "source": [
    "**Question 2.4. Write code to create compute the average expected probability of cooperation with a partner from Stanford. How does this compare to the expected probability of cooperation from class members? To the true probability of cooperation?**"
   ]
  },
  {
   "cell_type": "code",
   "execution_count": null,
   "id": "d88e0985",
   "metadata": {},
   "outputs": [],
   "source": [
    "# Code for 2.4"
   ]
  },
  {
   "cell_type": "markdown",
   "id": "1b3f48eb",
   "metadata": {},
   "source": [
    "On average, the class correctly anticipates that others are less apt to cooperate with a partner from Stanford. Though the real probability of cooperation is even lower."
   ]
  },
  {
   "cell_type": "markdown",
   "id": "20eb686f",
   "metadata": {},
   "source": [
    "Now let's start to look at the relationship between the cooperation choice and the expectation that one's partner will cooperate. There are many ways to do this, but a simple one is to compare the average expectation about cooperation among those who cooperated vs defected.\n",
    "\n",
    "We can do this by first using the `where` function to select people who cooperated, and then take the average of their expectation about the probability of the partner cooperating. Let's first do this for the question about a classmate."
   ]
  },
  {
   "cell_type": "code",
   "execution_count": null,
   "id": "8dae4dfd",
   "metadata": {},
   "outputs": [],
   "source": [
    "np.mean(classdata.where(\"pd_class\", \"Cooperate\").column(\"pd_class_prc\"))"
   ]
  },
  {
   "cell_type": "code",
   "execution_count": null,
   "id": "4c14f3b7",
   "metadata": {},
   "outputs": [],
   "source": [
    "np.mean(classdata.where(\"pd_class\", \"Defect\").column(\"pd_class_prc\"))"
   ]
  },
  {
   "cell_type": "markdown",
   "id": "d69ffe8e",
   "metadata": {},
   "source": [
    "**Question 2.5. Are people who choose to cooperate more or less pessimistic about their partner cooperating than those who choose to defect? How does this compare to what the altruism theory of cooperation predicted? (Hint: recall what the parallel lines in the graphs above meant! Also note: even if you know how to do it, there is no need to do any formal hypothesis testing here, just compare the averages)**"
   ]
  },
  {
   "cell_type": "markdown",
   "id": "0c4d9851",
   "metadata": {},
   "source": [
    "*Answer for 2.5*"
   ]
  },
  {
   "cell_type": "markdown",
   "id": "2c05d8ec",
   "metadata": {},
   "source": [
    "The `ingroup` column contains your answers to the question \"On a scale from 1 to 7 how much do you agree with the following statement: 'It is more important to be kind and generous to those you are close with (friends, family) than strangers'\". We might think that this is a reasonable measure of the $a$ variable when interacting with classmates.\n",
    "\n",
    "**Question 2.6. Write some code to see if people who chose to cooperate with classmates and Stanford students gave higher answers to this question than those who chose to defect. How does this compare to the predictions of altruism theory of coopearation?**"
   ]
  },
  {
   "cell_type": "code",
   "execution_count": null,
   "id": "bc728a66",
   "metadata": {},
   "outputs": [],
   "source": [
    "# Code for 2.6"
   ]
  },
  {
   "cell_type": "markdown",
   "id": "92ab8ceb",
   "metadata": {},
   "source": [
    "*Answer for 2.6*"
   ]
  },
  {
   "cell_type": "markdown",
   "id": "3872e3b3",
   "metadata": {},
   "source": [
    "Note we see a bigger difference here, so people who cooperated with Stanford students tend to think it is important to be generous to everyone."
   ]
  },
  {
   "cell_type": "markdown",
   "id": "c1f75d5c",
   "metadata": {},
   "source": [
    "**Question 2.7. What do you think might be an important factor determining how people decide whether to cooperate or defect in PD like scenarios? What question(s) could you ask in a survey like this to try and test the importance of this factor?**"
   ]
  },
  {
   "cell_type": "markdown",
   "id": "478339c5",
   "metadata": {},
   "source": [
    "*Words for 2.7*"
   ]
  },
  {
   "cell_type": "markdown",
   "id": "861c92f3",
   "metadata": {},
   "source": [
    "## Section 3. Ultimatums with classmates"
   ]
  },
  {
   "cell_type": "markdown",
   "id": "fadc4b8d",
   "metadata": {},
   "source": [
    "Now lets look at how your behavior in the ultimatum game compares with the theoretical predictions. \n",
    "\n",
    "**Question 3.1. Make histograms of the offer one would make as a proposer (`ult_offer`) or responder (`ult_accept`). Make sure there is one bin for each possible offer.** "
   ]
  },
  {
   "cell_type": "code",
   "execution_count": null,
   "id": "4b25e281",
   "metadata": {},
   "outputs": [],
   "source": [
    "# Code for 3.1 (Proposer)"
   ]
  },
  {
   "cell_type": "code",
   "execution_count": null,
   "id": "0605c339",
   "metadata": {},
   "outputs": [],
   "source": [
    "# Code for 3.1 (Responder)"
   ]
  },
  {
   "cell_type": "markdown",
   "id": "269f96f6",
   "metadata": {},
   "source": [
    "**Quetion 3.2 How does this compare to the theoretical predictions discussed in lecture?**"
   ]
  },
  {
   "cell_type": "markdown",
   "id": "93043b1c",
   "metadata": {},
   "source": [
    "*Answer for 3.2*"
   ]
  },
  {
   "cell_type": "markdown",
   "id": "d32b09dd",
   "metadata": {},
   "source": [
    "A related question we can ask is \"Taking the responder behavior as fixed, do proposers make optimal offers?\" To figure this out, we can write the expected utility for making offer $x$ as:\n",
    "$$\n",
    "EU(x) = Pr(x \\text{ accepted}) (10-x) + Pr(x \\text{ rejected})*0 = Pr(x \\text{ accepted}) (10-x)\n",
    "$$\n",
    "\n",
    "Further, we have the information required to compute the probability that an offer is accepted. For each member of the class we know the minimal acceptable offer, which we can use to compute the proportion that would accept a given offer. Let's walk through one way to do this.\n",
    "\n",
    "First, let's make an array with the possible offers:"
   ]
  },
  {
   "cell_type": "code",
   "execution_count": null,
   "id": "7aa4d78c",
   "metadata": {},
   "outputs": [],
   "source": [
    "offers = np.arange(0, 11)\n",
    "offers"
   ]
  },
  {
   "cell_type": "markdown",
   "id": "ad60b771",
   "metadata": {},
   "source": [
    "If we want to know how many people would accept an offer of, say, 3, we can ask how many set their minimal acceptable offer to 0,1,2, or 3. We can do that with the following code:"
   ]
  },
  {
   "cell_type": "code",
   "execution_count": null,
   "id": "18b9ef87",
   "metadata": {},
   "outputs": [],
   "source": [
    "sum(classdata.column(\"ult_accept\") <= 3)"
   ]
  },
  {
   "cell_type": "markdown",
   "id": "b11fe1be",
   "metadata": {},
   "source": [
    "And we can convert this into a probability by dividing by the number of respondents:"
   ]
  },
  {
   "cell_type": "code",
   "execution_count": null,
   "id": "e37e95ad",
   "metadata": {},
   "outputs": [],
   "source": [
    "sum(classdata.column(\"ult_accept\") <= 3)/classdata.num_rows"
   ]
  },
  {
   "cell_type": "markdown",
   "id": "ccf20021",
   "metadata": {},
   "source": [
    "This tells us the probability that an offer of 3 would be accepted by a randomly chosen member of class."
   ]
  },
  {
   "cell_type": "markdown",
   "id": "6489edb1",
   "metadata": {},
   "source": [
    "**Question 3.3. Write code to compute the probability that an offer of 5 would be *rejected***"
   ]
  },
  {
   "cell_type": "code",
   "execution_count": 9,
   "id": "e491e42d",
   "metadata": {},
   "outputs": [],
   "source": [
    "# Code for 3.3"
   ]
  },
  {
   "cell_type": "markdown",
   "id": "50e77bb7",
   "metadata": {},
   "source": [
    "We would like to know the probability of all possible offers being accepted. We can create an array with these probabilities with a for loop:"
   ]
  },
  {
   "cell_type": "code",
   "execution_count": null,
   "id": "7731c809",
   "metadata": {},
   "outputs": [],
   "source": [
    "paccept = []\n",
    "for i in offers:\n",
    "    paccept = np.append(paccept, sum(classdata.column(\"ult_accept\")<= i)/classdata.num_rows)\n",
    "paccept"
   ]
  },
  {
   "cell_type": "markdown",
   "id": "973c8549",
   "metadata": {},
   "source": [
    "Now let's combine the offer and probability of acceptance into a table."
   ]
  },
  {
   "cell_type": "code",
   "execution_count": null,
   "id": "cf966d9b",
   "metadata": {},
   "outputs": [],
   "source": [
    "offertable = Table().with_columns(\"Offer\", offers, \"PrAccept\", paccept)\n",
    "offertable"
   ]
  },
  {
   "cell_type": "markdown",
   "id": "d471416e",
   "metadata": {},
   "source": [
    "One interesting thing to look at is the probability of acceptance as a function of the offer:"
   ]
  },
  {
   "cell_type": "code",
   "execution_count": null,
   "id": "42f1bb96",
   "metadata": {},
   "outputs": [],
   "source": [
    "offertable.plot(\"Offer\", \"PrAccept\")"
   ]
  },
  {
   "cell_type": "markdown",
   "id": "a2070a19",
   "metadata": {},
   "source": [
    "**Question 3.4. Write code to compute the expected utility to making each offer, add this as a column to the `offertable`, and then plot the expected utility as a function of the offer. (Hint: if you want to take the average of an array with NAs you can use `np.nanmean()`**"
   ]
  },
  {
   "cell_type": "code",
   "execution_count": null,
   "id": "22399793",
   "metadata": {},
   "outputs": [],
   "source": [
    "# Code for 3.4 (Making variable and adding it to the table)"
   ]
  },
  {
   "cell_type": "code",
   "execution_count": null,
   "id": "b1c1b209",
   "metadata": {},
   "outputs": [],
   "source": [
    "# Code for 3.4 (Plotting EU as a function of offer)"
   ]
  },
  {
   "cell_type": "markdown",
   "id": "7bfe2a62",
   "metadata": {},
   "source": [
    "**Question 3.5. Compare this to the histogram of offers made. Did you all typically choose to make offers that give close to the maximum EU (assuming all you care about is money!)**"
   ]
  },
  {
   "cell_type": "markdown",
   "id": "3f2a5578",
   "metadata": {},
   "source": [
    "*Answer for 3.5*"
   ]
  },
  {
   "cell_type": "markdown",
   "id": "0313571e",
   "metadata": {},
   "source": [
    "There are some other variables from the survey that we haven't looked at yet, including:\n",
    "- `gt_knowledge` is how much game theory one knew before starting the class\n",
    "- `libcon` is the 1-7 point scale of political views, where 1 is most conservative and 7 is most liberal. \n",
    "\n",
    "**Question 3.6. Come up with a quick theory (2-3 sentences) for why one of these variables might be related with the offers made and/or accepted in the ultimatum game. Then write some code to look at this relationship, and describe what you find.**"
   ]
  },
  {
   "cell_type": "markdown",
   "id": "0ad10001",
   "metadata": {},
   "source": [
    "*Theory for 3.6*"
   ]
  },
  {
   "cell_type": "code",
   "execution_count": null,
   "id": "7ab00930",
   "metadata": {},
   "outputs": [],
   "source": [
    "# Code for 3.6"
   ]
  },
  {
   "cell_type": "markdown",
   "id": "f08cb7ae",
   "metadata": {},
   "source": [
    "*What you found in 3.6*"
   ]
  },
  {
   "cell_type": "markdown",
   "id": "95e509cf",
   "metadata": {},
   "source": [
    "## Part 4 [Optional]\n",
    "\n",
    "The following line of code loads up the data from a study I mentioned in lecture, that compared the bargaining behavior of \"elites\" who participated in high-level bargaining and a student sample \"non-elites\" (don't worry I think you are all elite :)).\n"
   ]
  },
  {
   "cell_type": "code",
   "execution_count": null,
   "id": "331bb140",
   "metadata": {},
   "outputs": [],
   "source": [
    "leveck = Table.read_table(\"pnas.elite.turk.data_1.txt\")\n",
    "leveck"
   ]
  },
  {
   "cell_type": "markdown",
   "id": "9362974d",
   "metadata": {},
   "source": [
    "The variables here are:\n",
    "- `age`: Respondent age.\n",
    "- `income`: Respondent income (in categories, where higher numbers mean more income).\n",
    "- `demand`: is like the \"responder\" variable in our survey, with the caveat that in their version there are 100 dollars to divide, and so the offer in this case is a number between 0 and 100.\n",
    "- `propose` is like the \"Proposer\" variable in our survey.\n",
    "- `elite` is equal to 1 for elites, and 0 for the student sample.\n",
    "\n",
    "**Question 4 [Optional]: Do some exploration of the data here. Some ideas:**\n",
    "- Replicate the analysis of the <a href=\"https://faculty.ucmerced.edu/bleveck/assets/pdfs/role_of_self_interest_in_elite_bargaining.pdf\">paper</a> which compares the average offer/demand between elites and the student sample (left panel of figure 1). Does the behavior of the class more closely resemble the student or elite ample?\n",
    "- Compute the expected utility to making each offer if faced with a randomly chosen subject from the elite sample or the student sample. Does the average student or elite get a higher expected utility?\n",
    "- Do older people play differently?"
   ]
  },
  {
   "cell_type": "code",
   "execution_count": null,
   "id": "aa6c3be1",
   "metadata": {},
   "outputs": [],
   "source": []
  }
 ],
 "metadata": {
  "kernelspec": {
   "display_name": "Python 3 (ipykernel)",
   "language": "python",
   "name": "python3"
  },
  "language_info": {
   "codemirror_mode": {
    "name": "ipython",
    "version": 3
   },
   "file_extension": ".py",
   "mimetype": "text/x-python",
   "name": "python",
   "nbconvert_exporter": "python",
   "pygments_lexer": "ipython3",
   "version": "3.9.7"
  }
 },
 "nbformat": 4,
 "nbformat_minor": 5
}
