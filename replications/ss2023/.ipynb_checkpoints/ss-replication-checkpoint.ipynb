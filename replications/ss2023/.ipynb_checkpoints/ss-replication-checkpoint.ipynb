{
 "cells": [
  {
   "cell_type": "markdown",
   "id": "b6cdd00f",
   "metadata": {},
   "source": [
    "# PS 88 Project Part 2: Replication (Sheve and Stasavage)\n",
    "**General instructions:** these replications will be similar to labs, though with a bit less guidance than we would typically give. An advantage you have is that the answer you are supposed to get for most questions is in the paper.\n",
    "\n",
    "When we say to \"replicate\" a table we don't mean you need to reproduce every bit of formatting. Typically for regressions we just want you to verify that the coefficients match those reported in the table. For graphs, the output should look pretty similar, though again you don't need to make the formatting look exactly the same. \n",
    "\n",
    "\n",
    "On to the paper! In this notebook we will be exploring the replication data from *The Conscription of Wealth: Mass Warfare and the Demand for Progressive Taxation* by Kenneth Scheve and David Stasavage. The original paper is linked [here](https://www.cambridge.org/core/journals/american-political-science-review/article/abs/democracy-war-and-wealth-lessons-from-two-centuries-of-inheritance-taxation/9AE36F339225AA03F2E2A516E16CC2AB). The data repository for this project is linked [here](https://isps.yale.edu/research/data/d062). This paper looks at how tax rates rose after World War I."
   ]
  },
  {
   "cell_type": "markdown",
   "id": "8606d9c1",
   "metadata": {},
   "source": [
    "## Part 1. Reading and Exploring the data"
   ]
  },
  {
   "cell_type": "code",
   "execution_count": null,
   "id": "c77e8664",
   "metadata": {},
   "outputs": [],
   "source": [
    "\n",
    "import pandas as pd\n",
    "import numpy as np\n",
    "from scipy import stats\n",
    "\n",
    "import statsmodels.formula.api as smf\n",
    "\n",
    "import seaborn as sns\n",
    "import matplotlib.pyplot as plt"
   ]
  },
  {
   "cell_type": "markdown",
   "id": "9a508452",
   "metadata": {},
   "source": [
    "First let's load up the data"
   ]
  },
  {
   "cell_type": "code",
   "execution_count": null,
   "id": "7cfe8d20",
   "metadata": {},
   "outputs": [],
   "source": [
    "ss = pd.read_stata(\"Scheve_Stasavage_APSR_2012_inheritannual.dta\")\n",
    "ss"
   ]
  },
  {
   "cell_type": "markdown",
   "id": "bc12a851",
   "metadata": {},
   "source": [
    "A useful command to summarize what columns are in a dataframe is the `.info` with a `verbose=True` argument."
   ]
  },
  {
   "cell_type": "code",
   "execution_count": null,
   "id": "bc7b6908",
   "metadata": {},
   "outputs": [],
   "source": [
    "ss.info(verbose=True)"
   ]
  },
  {
   "cell_type": "markdown",
   "id": "ab510164",
   "metadata": {},
   "source": [
    "The data here are in a \"country-year\" format, where each row corresponds to one country in one year. For example, the first row has data for Denmark in 1816, and the second has Switzerland in 1816. There are different rows for these countries in 1817, etc.\n",
    "\n",
    "**Question 1.1. Use the `value_counts()` function to count how many observations there are for each country. (Hint: take a look at the table above to see what the variable name is.)**"
   ]
  },
  {
   "cell_type": "code",
   "execution_count": null,
   "id": "d9121611",
   "metadata": {},
   "outputs": [],
   "source": [
    "# Code for 1.1"
   ]
  },
  {
   "cell_type": "markdown",
   "id": "b34b310c",
   "metadata": {},
   "source": [
    "The key dependent variable in the paper is the top inheritance tax rate, or `topitaxrate2`. \n",
    "\n",
    "**Question 1.2. Make a histogram of this variable. What does this tell you about the distribution of inheritance tax for these countries and in this time period?**"
   ]
  },
  {
   "cell_type": "code",
   "execution_count": null,
   "id": "d38bd17d",
   "metadata": {},
   "outputs": [],
   "source": [
    "# Code for 1.1"
   ]
  },
  {
   "cell_type": "markdown",
   "id": "31c208c2",
   "metadata": {},
   "source": [
    "*Words for 1.1*"
   ]
  },
  {
   "cell_type": "markdown",
   "id": "c6963e66",
   "metadata": {},
   "source": [
    "Figure 1 in the paper plots out the trends in income tax rate for each country in the dataset. We can do this in Python with the `sns.lineplot` function. For example, the following cell plots the trend for the United States and Canada.\n",
    "\n",
    "It helps a lot in a graph like this to add a legend. When a plot combines multiple calls of `sns.lineplot`, we can label them using `plt.legend(labels=[\"label1\",\"label2\"....])`. \n",
    "\n",
    "To be consistent with the paper we can also set the y axis to range from 0 to 100 with `plt.gca().set_ylim([0,100])`\n"
   ]
  },
  {
   "cell_type": "code",
   "execution_count": null,
   "id": "96a7ae99",
   "metadata": {},
   "outputs": [],
   "source": [
    "sns.lineplot(x=ss.year[ss.name==\"usa\"], y=ss.topitaxrate2[ss.name==\"usa\"])\n",
    "sns.lineplot(x=ss.year[ss.name==\"canada\"], y=ss.topitaxrate2[ss.name==\"canada\"])\n",
    "plt.legend(labels=['usa','canada'])\n",
    "plt.gca().set_ylim([0,100])"
   ]
  },
  {
   "cell_type": "markdown",
   "id": "60f853e0",
   "metadata": {},
   "source": [
    "**Question 1.3. Replicate the top two panels of Figure 1 from the paper. (If you'd like to try and match the style with dotted/dashed lines etc. you can, but the key thing is to plot the right countries with the right y axis range and an appropriate legend.)**"
   ]
  },
  {
   "cell_type": "code",
   "execution_count": null,
   "id": "1464f105",
   "metadata": {},
   "outputs": [],
   "source": [
    "# Code for 1.3"
   ]
  },
  {
   "cell_type": "code",
   "execution_count": null,
   "id": "a375db88",
   "metadata": {},
   "outputs": [],
   "source": []
  },
  {
   "cell_type": "markdown",
   "id": "d7dd354d",
   "metadata": {},
   "source": [
    "In these examples we were making line plots of a range of individual data points (Canada in 1816, then 1817, etc.). We can also use `sns.lineplot` to plot the average of a variable in a year. For example, here is the average of the `unisuffrage` variable, which tells us if all adult men have the right to vote. Since this is a 0/1 variable, the average in a given year tells us what proportion of countries in the dataset had universal male suffrage in that year."
   ]
  },
  {
   "cell_type": "code",
   "execution_count": null,
   "id": "bc85bef4",
   "metadata": {},
   "outputs": [],
   "source": [
    "sns.lineplot(x=ss.year, y=ss.unisuffrage, ci=0)"
   ]
  },
  {
   "cell_type": "markdown",
   "id": "81607415",
   "metadata": {},
   "source": [
    "**Question 1.4. What does this graph say about trends in universal male suffrage over this time period for the countries in the dataset?**"
   ]
  },
  {
   "cell_type": "markdown",
   "id": "e5395e2e",
   "metadata": {},
   "source": [
    "*Words for 1.4*"
   ]
  },
  {
   "cell_type": "markdown",
   "id": "81b24f58",
   "metadata": {},
   "source": [
    "The key independent variable in the paper is `himobpopyear2p`, which is equal to 1 in country-years where at least 2% of the population was mobilized to fight in a war. Let's compare the trends in this to the other variables we have been looking at."
   ]
  },
  {
   "cell_type": "markdown",
   "id": "c343d980",
   "metadata": {},
   "source": [
    "**Question 1.5. Make a graph that plots the average of (1) universal male suffrage, the (2) top inheritance tax rate, and (3) moblization of 2% of the population for war over time. To make them all on a 0-1 scale, you should divide the inheritance tax rate by 100. Be sure to include a legend.** "
   ]
  },
  {
   "cell_type": "code",
   "execution_count": null,
   "id": "b934cf16",
   "metadata": {},
   "outputs": [],
   "source": [
    "# Code for 1.5"
   ]
  },
  {
   "cell_type": "markdown",
   "id": "23e3b1c6",
   "metadata": {},
   "source": [
    "**Question 1.6. Describe two or three patterns you notice in this graph. (When is there lots of moblization? When do the inheritance tax rates increase/decrease?)**"
   ]
  },
  {
   "cell_type": "markdown",
   "id": "ae671a5a",
   "metadata": {},
   "source": [
    "*Words for 1.6*"
   ]
  },
  {
   "cell_type": "markdown",
   "id": "33634826",
   "metadata": {},
   "source": [
    "## Part 2: The main analysis"
   ]
  },
  {
   "cell_type": "markdown",
   "id": "09ac67ef",
   "metadata": {},
   "source": [
    "Now we are going to replicate some of the main regression results in tables 2 and 3. The ones closest to what we did in week 12 are in column 9, using annual data and country/year fixed effects, so let's start there.\n",
    "\n",
    "There are some variables we need to add to the data table before we can run these regressions. First, notice that all of the independent variables us \"lags\", or the value from the previous time period. While not perfect, this can reduce concerns about reverse causation because we are looking at how previous values of the independent variable affect current values of the dependent variables. \n",
    "\n",
    "In week 13 we learned one way to do this, but a slightly easier method is to use the `groupby` and `shift` functions.\n",
    "\n",
    "Fr example to create a version of the key indpendent variable and save it in a column called `himobpopyear2p_l`, we can use the following line:"
   ]
  },
  {
   "cell_type": "code",
   "execution_count": null,
   "id": "f4268977",
   "metadata": {},
   "outputs": [],
   "source": [
    "ss['himobpopyear2p_l'] = ss.groupby('name')['himobpopyear2p'].shift(1)"
   ]
  },
  {
   "cell_type": "markdown",
   "id": "fecaf244",
   "metadata": {},
   "source": [
    "For our regressions we will also need lagged versions of:\n",
    "- The top inheritance tax rate, `topitaxrate2`\n",
    "- Universal Male Suffrage, `unisuffrage` \n",
    "- Left-wing executive, `leftexec2`\n",
    "- GDP per capita, `rgdppc`\n",
    "- Competitive elections, `democracy`\n",
    "\n",
    "**Question 2.1 Make one-year lagged versions of these four variables, named with a \"_l\" after the original variable name.**"
   ]
  },
  {
   "cell_type": "code",
   "execution_count": null,
   "id": "c3c79fe4",
   "metadata": {},
   "outputs": [],
   "source": [
    "# Code for 2.1"
   ]
  },
  {
   "cell_type": "markdown",
   "id": "7746315a",
   "metadata": {},
   "source": [
    "It's always good to do some quality control checks that the variables you create. In this case, let's look at the GDP/capital variable. \n",
    "\n",
    "**Question 2.2. Use `sns.scatterplot` to make a scatterplot with the lagged GDP/capital on the x axis and the current year GDP/capital on the y axis. Does this graph make sense?**"
   ]
  },
  {
   "cell_type": "code",
   "execution_count": null,
   "id": "7f8feb0f",
   "metadata": {},
   "outputs": [],
   "source": [
    "# Code for 2.2"
   ]
  },
  {
   "cell_type": "markdown",
   "id": "a5fd6e26",
   "metadata": {},
   "source": [
    "*Words for 2.2*"
   ]
  },
  {
   "cell_type": "markdown",
   "id": "5d433e35",
   "metadata": {},
   "source": [
    "The regression we want to run includes time and country fixed effects. As in lab 12, we will do these by adding string versions of the country and time variables in our regression formula. We already have a string version of the country, which is the `name` column. But we need a string version of year variable.\n",
    "\n",
    "**Question 2.3. Add a variable called `year_s` to the `ss` data frame using the `.astype(str)` function. (See lab 12 for an example).**"
   ]
  },
  {
   "cell_type": "code",
   "execution_count": 1,
   "id": "4a25c8a2",
   "metadata": {},
   "outputs": [],
   "source": [
    "# Code for 2.3"
   ]
  },
  {
   "cell_type": "markdown",
   "id": "93da8d6b",
   "metadata": {},
   "source": [
    "The regression also includes \"Country-specific time trends\". To account for this, we will add an interaction term between the year and each country.  In effect this will add a linear time trend for each country, that can vary by country. \n",
    "\n",
    "For example, if we wanted to run a regression with just the lagged mobilization variable and the country-specific time trend we can do that with:"
   ]
  },
  {
   "cell_type": "code",
   "execution_count": null,
   "id": "595908a1",
   "metadata": {},
   "outputs": [],
   "source": [
    "smf.ols(\"topitaxrate2 ~ himobpopyear2p_l + name:year\", data=ss).fit().summary()"
   ]
  },
  {
   "cell_type": "markdown",
   "id": "2e4b1ca6",
   "metadata": {},
   "source": [
    "The coefficient on `himobpopyear2p_l` is actually pretty close to what we get in the full specification in column 9. \n",
    "\n",
    "Now let's exactly replicate that regression"
   ]
  },
  {
   "cell_type": "markdown",
   "id": "c52beb44",
   "metadata": {},
   "source": [
    "\n",
    "**Question 2.4. Replicate the regression from column 9 of table 2. This should have the top inheritance tax rate as the dependent variable, the lagged independent variables for war mobilization, universal male suffrage, left executive, and gdp per capta, country fixed effects, year fixed effects, and the country-specific time trend. The coefficients on the lagged variables should match the corresponding entry in the table (don't worry about the standard errors which are in parenthesis; those will be somewhat different.)**"
   ]
  },
  {
   "cell_type": "code",
   "execution_count": null,
   "id": "deed343a",
   "metadata": {},
   "outputs": [],
   "source": [
    "# Code for 2.4"
   ]
  },
  {
   "cell_type": "markdown",
   "id": "43818104",
   "metadata": {},
   "source": [
    "**Question 2.5. Interpret the coefficients on `himobpopyear2p_l` and `unisuffrage_l`.**"
   ]
  },
  {
   "cell_type": "markdown",
   "id": "d7f0ed61",
   "metadata": {},
   "source": [
    "*Words for 2.5*"
   ]
  },
  {
   "cell_type": "markdown",
   "id": "868153ae",
   "metadata": {},
   "source": [
    "**Question 2.6. Now replicate column 9 of table 3, which uses the lagged measure competitive elections (`democracy_l`) instead of universal suffrage. How do the results from this regression compare to the version with universal male suffrage?**"
   ]
  },
  {
   "cell_type": "code",
   "execution_count": null,
   "id": "2202899f",
   "metadata": {},
   "outputs": [],
   "source": [
    "# Code for 2.6"
   ]
  },
  {
   "cell_type": "markdown",
   "id": "404eec85",
   "metadata": {},
   "source": [
    "*Words for 2.6*"
   ]
  },
  {
   "cell_type": "markdown",
   "id": "6238faaa",
   "metadata": {},
   "source": [
    "## Year Groupings\n",
    "\n",
    "Other versions of the analysis primarily focus on 5/10 year windows rather than individual years. The general idea is that mobilization may have a somewhat delayed effect, and the effect might last for more than a year. So it might be easier to see the effects on this time scale. \n",
    "\n",
    "We can generate a \"5 year\" version of the dataset using the `groupby` and `agg` function. The way we do this is to first indicate what variables to use to identify a 5 year window in a country. For the country we have the name variable, and for the 5 year window we use the `hdecadec` variable, which has a numeric code for each 5 year period.\n",
    "\n",
    "To get a sense of what this looks like, let's make plots with the year on the x axis and this and the `decadec` variable on the y axis"
   ]
  },
  {
   "cell_type": "code",
   "execution_count": null,
   "id": "51098b35",
   "metadata": {},
   "outputs": [],
   "source": [
    "sns.scatterplot(x='year', y='decadec', data=ss)\n",
    "sns.scatterplot(x='year', y='hdecadec', data=ss)\n",
    "plt.legend(labels=['decade', 'half decade'])"
   ]
  },
  {
   "cell_type": "markdown",
   "id": "c4756aae",
   "metadata": {},
   "source": [
    "Starting with the decade, if you squint you can see that this variable is equal to 1 for the first decade in the data set, then 2 for the second decade, then 3, etc.\n",
    "\n",
    "The half decade variable is equal to 1 for the first half decade, then 2, then 3, etc.\n",
    "\n",
    "Aftering telling what to group by, the agg function tells us how to aggregate the different variables. For the purposes of the regressions in table 2, we need to take the first year of the top inheritance tax rate, and then the average of the other variables. \n",
    "\n",
    "We save the output as `ss5`."
   ]
  },
  {
   "cell_type": "code",
   "execution_count": null,
   "id": "a92d98ff",
   "metadata": {},
   "outputs": [],
   "source": [
    "ss5 = ss.groupby(['name','hdecadec']).agg(({'topitaxrate2': 'first',\n",
    "                                            'democracy': 'mean',\n",
    "                                        'himobpopyear2p': 'mean',\n",
    "                                        'rgdppc': 'mean',\n",
    "                                        'unisuffrage':'mean',\n",
    "                                        'leftexec2':'mean'})).reset_index()\n",
    "ss5"
   ]
  },
  {
   "cell_type": "markdown",
   "id": "853fd369",
   "metadata": {},
   "source": [
    "**Question 3.1. As a quality control check here, use the `value_counts()` function on the `himobpopyear2p` variable. Interpret the different values this variable takes on.** "
   ]
  },
  {
   "cell_type": "code",
   "execution_count": 2,
   "id": "f37d2e2f",
   "metadata": {},
   "outputs": [],
   "source": [
    "# Code for 3.1"
   ]
  },
  {
   "cell_type": "markdown",
   "id": "957ae0df",
   "metadata": {},
   "source": [
    "*Words for 3.1*"
   ]
  },
  {
   "cell_type": "markdown",
   "id": "6a3be306",
   "metadata": {},
   "source": [
    "Now we need to create lagged versions of the independent variables. Fortunately we can use effectively the same code as above, because now shifting by one observation will get the previous 5 year window. For example, to get the lagged mobilization variable:"
   ]
  },
  {
   "cell_type": "code",
   "execution_count": null,
   "id": "2592538b",
   "metadata": {},
   "outputs": [],
   "source": [
    "ss5['himobpopyear2p_l'] = ss5.groupby('name')['himobpopyear2p'].shift(1)"
   ]
  },
  {
   "cell_type": "markdown",
   "id": "09762a37",
   "metadata": {},
   "source": [
    "**Question 3.2. Add lagged versions of `leftexec2`, `rdgppc`, `democracy`, and `unisuffrage` to the `ss5` dataframe.**"
   ]
  },
  {
   "cell_type": "code",
   "execution_count": null,
   "id": "ff9ff2ef",
   "metadata": {},
   "outputs": [],
   "source": [
    "# Code for 3.2"
   ]
  },
  {
   "cell_type": "markdown",
   "id": "184c5b09",
   "metadata": {},
   "source": [
    "Finally, for this version of the regression we need to include \"period fixed effects\" which corresond to the half decade period."
   ]
  },
  {
   "cell_type": "code",
   "execution_count": null,
   "id": "83d7bc28",
   "metadata": {},
   "outputs": [],
   "source": [
    "ss5['hdecadec_s'] = ss5['hdecadec'].astype(str)"
   ]
  },
  {
   "cell_type": "markdown",
   "id": "06ca2175",
   "metadata": {},
   "source": [
    "**Question 3.3. Replicate column 1 of Table 2, by running a regression with the top income tax rate at the start of the 5 year window as the dependent variable, lagged versions of moblization and stuffrage as independent variables, and country and half decade fixed effects.**"
   ]
  },
  {
   "cell_type": "code",
   "execution_count": null,
   "id": "b8d324ff",
   "metadata": {},
   "outputs": [],
   "source": [
    "# Code for 3.3"
   ]
  },
  {
   "cell_type": "markdown",
   "id": "52fb7933",
   "metadata": {},
   "source": [
    "**Question 3.4. Replicate column 1 of Table 3.**"
   ]
  },
  {
   "cell_type": "code",
   "execution_count": 3,
   "id": "8defd49b",
   "metadata": {},
   "outputs": [],
   "source": [
    "# Code for 3.4"
   ]
  },
  {
   "cell_type": "markdown",
   "id": "46b434d5",
   "metadata": {},
   "source": [
    "Column 7 of Tables 2-3 does a similar analysis but using a 10-year time window and some more control variables. \n",
    "\n",
    "**Quesiton 3.5. Use everything you have learned so far to replicate the column 7 regression in Table 2. (Hint: first make a 10 year version of the data set with the `decadec` variable, then make the lags and appropriate period fixed effects, then run the appropriate regression on that data. You'll need to include a country-specific time trend; to do this include `name:hdecadec` in the regression formula.)**"
   ]
  },
  {
   "cell_type": "code",
   "execution_count": null,
   "id": "d725757a",
   "metadata": {},
   "outputs": [],
   "source": [
    "# Code for 3.5"
   ]
  },
  {
   "cell_type": "code",
   "execution_count": null,
   "id": "be01a646",
   "metadata": {},
   "outputs": [],
   "source": []
  },
  {
   "cell_type": "code",
   "execution_count": null,
   "id": "c33e8605",
   "metadata": {},
   "outputs": [],
   "source": []
  },
  {
   "cell_type": "code",
   "execution_count": null,
   "id": "ccc7affc",
   "metadata": {},
   "outputs": [],
   "source": []
  },
  {
   "cell_type": "markdown",
   "id": "653376e0",
   "metadata": {},
   "source": [
    "## Part 4. Robustness"
   ]
  },
  {
   "cell_type": "markdown",
   "id": "f4f6c29d",
   "metadata": {},
   "source": [
    "There are other interesting things we can do with this datset. For example, one prominent theory is that democracy (or universal suffrage) might be caused by war mobilization.\n",
    "\n",
    "**Question 4.1. Run a regression which tests this idea, using a similar specification to one from the paper but with a different dependent variable. Interpret the result.**"
   ]
  },
  {
   "cell_type": "code",
   "execution_count": null,
   "id": "a67d8b44",
   "metadata": {},
   "outputs": [],
   "source": [
    "# Code for 4.1"
   ]
  },
  {
   "cell_type": "markdown",
   "id": "0cfcf166",
   "metadata": {},
   "source": []
  },
  {
   "cell_type": "markdown",
   "id": "cc1290ac",
   "metadata": {},
   "source": [
    "Two other interesting variables in the data set are:\n",
    "- `secret`: whether there is a secret ballot in elections (one measure of a lack of electoral fraud)\n",
    "- `Neightopitax2`: the average top inheritance tax rate of neighboring countries.\n",
    "\n",
    "**Question 4.2. Create a graph or run a regression using one of these variables. What do you learn from this?**"
   ]
  },
  {
   "cell_type": "code",
   "execution_count": null,
   "id": "773b21f9",
   "metadata": {},
   "outputs": [],
   "source": []
  },
  {
   "cell_type": "markdown",
   "id": "9612c915",
   "metadata": {},
   "source": [
    "## Part 5. Wrapping up\n",
    "\n",
    "**Question 5.1. What did you learn from this replication exercise? (3-4 sentences)**"
   ]
  },
  {
   "cell_type": "markdown",
   "id": "f2f4168c",
   "metadata": {},
   "source": [
    "*Words for 5.1*"
   ]
  },
  {
   "cell_type": "markdown",
   "id": "3e3091a1",
   "metadata": {},
   "source": [
    "**Question 5.2.  What additional data might you want to collect to build on the findings here? What would you expect to find? (4-5 sentences)**"
   ]
  },
  {
   "cell_type": "markdown",
   "id": "8d58bd42",
   "metadata": {},
   "source": [
    "*Words for 5.2*"
   ]
  }
 ],
 "metadata": {
  "kernelspec": {
   "display_name": "Python 3 (ipykernel)",
   "language": "python",
   "name": "python3"
  },
  "language_info": {
   "codemirror_mode": {
    "name": "ipython",
    "version": 3
   },
   "file_extension": ".py",
   "mimetype": "text/x-python",
   "name": "python",
   "nbconvert_exporter": "python",
   "pygments_lexer": "ipython3",
   "version": "3.9.7"
  }
 },
 "nbformat": 4,
 "nbformat_minor": 5
}
