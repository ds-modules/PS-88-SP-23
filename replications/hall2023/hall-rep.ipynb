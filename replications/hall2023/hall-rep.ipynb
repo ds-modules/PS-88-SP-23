{
 "cells": [
  {
   "cell_type": "markdown",
   "id": "29c34736",
   "metadata": {},
   "source": [
    "# PS 88 Project Part 2: Replication (Hall)"
   ]
  },
  {
   "cell_type": "markdown",
   "id": "1ae44bc0",
   "metadata": {},
   "source": [
    "**General instructions:** these replications will be similar to labs, though with a bit less guidance than we would typically give. An advantage you have is that the answer you are supposed to get for most questions is in the paper.\n",
    "\n",
    "When we say to \"replicate\" a table we don't mean you need to reproduce every bit of formatting. E.g., for regressions we just want you to verify that the coefficients match those reported in the table. For graphs, the output should look pretty similar, though again you don't need to make the formatting look exactly the same. "
   ]
  },
  {
   "cell_type": "markdown",
   "id": "9697ebaa",
   "metadata": {},
   "source": [
    "On to the paper! The behavioral literature in American politics suggests that voters are not informed enough, and are too partisan, to be swing voters, while the institutional literature suggests that moderate candidates tend to perform better. We speak to this debate by examining the link between the ideology of congressional candidates and their electoral performance.\n",
    "\n",
    "We will repoduce results from [this](https://www.andrewbenjaminhall.com/Hall_APSR.pdf) by Andrew Hall paper from the American Political Science Review. \n"
   ]
  },
  {
   "cell_type": "code",
   "execution_count": null,
   "id": "b95e2b90",
   "metadata": {},
   "outputs": [],
   "source": [
    "import pandas as pd\n",
    "import numpy as np\n",
    "from scipy import stats\n",
    "\n",
    "import statsmodels.formula.api as smf\n",
    "\n",
    "import seaborn as sns\n",
    "import matplotlib.pyplot as plt"
   ]
  },
  {
   "cell_type": "markdown",
   "id": "95c381a6",
   "metadata": {},
   "source": [
    "## Part 1. Importing and Exploring"
   ]
  },
  {
   "cell_type": "markdown",
   "id": "b14a4e14",
   "metadata": {},
   "source": [
    "The replication data for this paper is stored in Stata format, so we read it in using the `pd.read_stata` function"
   ]
  },
  {
   "cell_type": "code",
   "execution_count": null,
   "id": "972c75b7",
   "metadata": {},
   "outputs": [],
   "source": [
    "#Bring in the main analysis dataset\n",
    "full = pd.read_stata(\"primary_analysis.dta\")\n",
    "full"
   ]
  },
  {
   "cell_type": "code",
   "execution_count": null,
   "id": "96e66690",
   "metadata": {},
   "outputs": [],
   "source": [
    "full.info(verbose=True)"
   ]
  },
  {
   "cell_type": "markdown",
   "id": "7da59714",
   "metadata": {},
   "source": [
    "One of the key aspects of the paper is using campaign contributions to figure out which of the two main candidates in a primary is more extreme. The standard way to estimate the ideology of politicians is to look at their voting records. However, a drawback of this is that we can't use it to figure out the ideology of candidates for office who don't win. Since the key goal of the paper is to figure out which candidate is more extreme, we can't use voting records along as losing candidates typically don't hold office to generate a voting recored. A nice feature of campaign contributions is that we can estimate the ideology of losing candidates.\n",
    "\n",
    "Still, it might be nice to check if the campaign contributions approach gives a similar estimate of ideology for those who do win. Figure 1 of the paper does this by comparing the \"contributions-based ideology\" measure in the `winner_hall_snyder_score` variable and the \"Observed DW-NOMINATE Score\" which is the ideology meausure based on voting (see <a href=\"https://en.wikipedia.org/wiki/NOMINATE_(scaling_method)\">here</a> for more detail) sored in the `dwnom1` column.\n",
    "\n",
    "Let's look at a scatterplot of these two variables to see if it matches figure 1. We add a `hue=` argument to seperate by cases where the winner of the general election was a Republican or Democrat."
   ]
  },
  {
   "cell_type": "code",
   "execution_count": null,
   "id": "3956f071",
   "metadata": {},
   "outputs": [],
   "source": [
    "sns.scatterplot(x='winner_hall_snyder_score', y='dwnom1', data=full, hue=full['dem'])"
   ]
  },
  {
   "cell_type": "markdown",
   "id": "56de3331",
   "metadata": {},
   "source": [
    "Hmm, this doesn't seem to match Figure 1 from the paper. If you give squint we can start to get a sense of why: it looks like there is a band of dots that following the positive correlation from the figure in the paper, but then another band of dots that have a negative correlation. The reason why is that we are looking at *primary* elections here, so the winner of the primary may not win the general election and enter office. So, the `winner_hall_snyder_score` correspond to the primary winner, but the `dwnom1` corresponds to the general election winner, who might be a different person. \n",
    "\n",
    "To fix this, we need want to only compare the ideology of primary winners who go on to win the general election. This is captured by the `dv_win` variable, which will be a key dependent variable for us later."
   ]
  },
  {
   "cell_type": "markdown",
   "id": "808fa0f7",
   "metadata": {},
   "source": [
    "**Question 1.1. Create a subset of the `full` dataframe that only includes observations where `dv_win` is equal to 1 called `win`. The redo the scatterplot from above using the `win` dataframe.** "
   ]
  },
  {
   "cell_type": "code",
   "execution_count": null,
   "id": "c4c29f0e",
   "metadata": {},
   "outputs": [],
   "source": [
    "# Code for 1.1"
   ]
  },
  {
   "cell_type": "markdown",
   "id": "4d4011b3",
   "metadata": {},
   "source": [
    "This should look like the figure from the paper, albeit with the party marked by color rather than Rs and Ds.\n",
    "\n",
    "**Question 1.2. The paper also reports that the correlation between these measures is 0.90. Use the `stats.pearsonr` function to check this.**"
   ]
  },
  {
   "cell_type": "code",
   "execution_count": null,
   "id": "f4469a3e",
   "metadata": {},
   "outputs": [],
   "source": [
    "# Code for 1.2"
   ]
  },
  {
   "cell_type": "markdown",
   "id": "79a17ed2",
   "metadata": {},
   "source": [
    "The paper restricts the analysis to cases where we can clearly say which candidate was more extreme. There is no obvious way to do this, but the authors decide to only look at races where the difference in estimated ideology of the two leading candidates in the primary was more than the median of this distance. This difference is given by the column `absdist`.\n",
    "\n",
    "**Question 1.3. Compute the median absolute distance between the leading candidates and save it as `med_dist`.** "
   ]
  },
  {
   "cell_type": "code",
   "execution_count": null,
   "id": "eb8e66a8",
   "metadata": {},
   "outputs": [],
   "source": [
    "# Code for 1.3"
   ]
  },
  {
   "cell_type": "markdown",
   "id": "eb6ee76c",
   "metadata": {},
   "source": [
    "Hall also sometimes restricts to cases where the margin of victory for the winner was less than or equal to 20%. Let's create a new version of the data frame to run the subsequent analysis on where both of these conditions are met "
   ]
  },
  {
   "cell_type": "code",
   "execution_count": null,
   "id": "daadd3cc",
   "metadata": {},
   "outputs": [],
   "source": [
    "# Subset data to only elections within .2 margin and above median distance\n",
    "within20 = full[(full['margin'] <= 0.2) & (full['absdist'] > med_dist)]\n",
    "within20.shape[0]"
   ]
  },
  {
   "cell_type": "markdown",
   "id": "6874f84b",
   "metadata": {},
   "source": [
    "Other analysis look at elections where the margin of victory was less than equal to 5%. \n",
    "\n",
    "**Question 1.4. Create a version of the data where the distance between candidates is above the median and the margin is less than or equal to 5%, and call this `within5`.**\n"
   ]
  },
  {
   "cell_type": "code",
   "execution_count": null,
   "id": "831fd41b",
   "metadata": {},
   "outputs": [],
   "source": [
    "# Code for 1.4"
   ]
  },
  {
   "cell_type": "markdown",
   "id": "fcacca88",
   "metadata": {},
   "source": [
    "**Question 1.5. What proportion of all observations meet the criteria for the `within20` data frame? For the `within5` data frame? While looking at close elections can be good for making causal claims, what is the other side of this tradeoff which is illustrated by this analysis?**"
   ]
  },
  {
   "cell_type": "code",
   "execution_count": null,
   "id": "48dfce7f",
   "metadata": {},
   "outputs": [],
   "source": [
    "# Code for 1.5"
   ]
  },
  {
   "cell_type": "markdown",
   "id": "bc808b15",
   "metadata": {},
   "source": [
    "*Words for 1.5*"
   ]
  },
  {
   "cell_type": "markdown",
   "id": "7197cc94",
   "metadata": {},
   "source": [
    "## Part 2. Main results"
   ]
  },
  {
   "cell_type": "markdown",
   "id": "0510e31c",
   "metadata": {},
   "source": [
    "Two of the key variables we will use in the analysis are:\n",
    "- `rv` (or \"running variable\"), which is the margin of the vote for the more extreme candidate minus 50%, and \n",
    "- `treat`, which is equal to 1 if the more extreme candidate wins and 0 otherwise.\n",
    "\n",
    "Recall that it is easiest to interpret the RD regressions if the treatment switches from 0 to 1 when the running variable goes from negative to positive.\n",
    "\n",
    "**Question 2.1. Make a scatterplot with the running variable on the x axis and the treatment on the y axis. Does what you get make sense in light of the discussion above?**"
   ]
  },
  {
   "cell_type": "code",
   "execution_count": null,
   "id": "33567e42",
   "metadata": {},
   "outputs": [],
   "source": [
    "# Code for 2.1"
   ]
  },
  {
   "cell_type": "markdown",
   "id": "50d334bf",
   "metadata": {},
   "source": [
    "*Words for 2.1*"
   ]
  },
  {
   "cell_type": "markdown",
   "id": "da510925",
   "metadata": {},
   "source": [
    "The main outcome we will examine in the paper is the vote share in the general election for the candidate that won the primary. In the dataframe this is called `dv`. \n",
    "\n",
    "**Question 2.2. Compute the difference of means for this outcome among those where the extremist nominee won versus not, using the full data set. Why might this not be a good esimate of the causal effect of an extremist winning the primary?**"
   ]
  },
  {
   "cell_type": "code",
   "execution_count": null,
   "id": "327ed95e",
   "metadata": {},
   "outputs": [],
   "source": [
    "# Code for 2.2"
   ]
  },
  {
   "cell_type": "markdown",
   "id": "cee84529",
   "metadata": {},
   "source": [
    "*Words for 2.2*"
   ]
  },
  {
   "cell_type": "markdown",
   "id": "be31d0a7",
   "metadata": {},
   "source": [
    "Next let's create a version of Figure 2. The big dots are plotting the average outcome for different \"bins\" of the running variable. We'll give some code to add those later, but for now the main thing we want to plot is the individual points and the trend line before and after switching to the extremist nominee winning. As in Lab 12, an easy way to do this is to create subsets of the data before the cutoff (here, `rv < 0`) and after the cutoff (`rv > 0`) and then use `sns.regplot` on both sides.\n",
    "\n",
    "**Question 2.3. Create a subset of the `within20` data where `rv < 0` and call this `within20below`. Then create a subset where `rv > 0` called `within20above`. Then replicate figure 2 using sns.regplot.** "
   ]
  },
  {
   "cell_type": "code",
   "execution_count": null,
   "id": "9064f737",
   "metadata": {},
   "outputs": [],
   "source": [
    "# Code for 2.3"
   ]
  },
  {
   "cell_type": "markdown",
   "id": "9740b053",
   "metadata": {},
   "source": [
    "To really replicate the figure, we can add the binned averages. The code below creates the x and y axis values for these dots by looping through the bins and computing the average general election vote share."
   ]
  },
  {
   "cell_type": "code",
   "execution_count": null,
   "id": "73ea49c0",
   "metadata": {},
   "outputs": [],
   "source": [
    "# Make the binned averages, first the bins to the left\n",
    "count = 0\n",
    "bin_size = 0.02\n",
    "binx_left = np.zeros(len(np.arange(-0.2, 0, bin_size)))\n",
    "biny_left = np.zeros(len(binx_left))\n",
    "last = -0.2\n",
    "for j in np.arange(-0.2, 0, bin_size):\n",
    "    biny_left[count] = np.mean(rd_data['dv'][(rd_data['rv'] >= j-bin_size) & (rd_data['rv'] < j)])\n",
    "    binx_left[count] = (j+last)/2\n",
    "    last = j\n",
    "    count += 1\n",
    "\n",
    "# Now the bins on the right\n",
    "count = 0\n",
    "bin_size = 0.02\n",
    "binx_right = np.zeros(len(np.arange(0.02, 0.2, bin_size)))\n",
    "biny_right = np.zeros(len(binx_right))\n",
    "last = 0\n",
    "for j in np.arange(0.02, 0.2, bin_size):\n",
    "    biny_right[count] = np.mean(rd_data['dv'][(rd_data['rv'] >= j-bin_size) & (rd_data['rv'] < j)])\n",
    "    binx_right[count] = (j+last)/2\n",
    "    last = j\n",
    "    count += 1\n"
   ]
  },
  {
   "cell_type": "markdown",
   "id": "897036e6",
   "metadata": {},
   "source": [
    "Here is a plot with just the bins"
   ]
  },
  {
   "cell_type": "code",
   "execution_count": null,
   "id": "647aa287",
   "metadata": {},
   "outputs": [],
   "source": [
    "plt.plot(binx_left, biny_left, 'o', color='black', markersize=10)\n",
    "plt.plot(binx_right, biny_right, 'o', color='black', markersize=10)"
   ]
  },
  {
   "cell_type": "markdown",
   "id": "0b323e18",
   "metadata": {},
   "source": [
    "[OPTIONAL] Create a code cell with your graph for question 2.3 and then the plotting of the binned averages above. "
   ]
  },
  {
   "cell_type": "code",
   "execution_count": null,
   "id": "af08bb28",
   "metadata": {},
   "outputs": [],
   "source": []
  },
  {
   "cell_type": "markdown",
   "id": "153c7991",
   "metadata": {},
   "source": [
    "Now let's replicate some of the estimates of the causal effect of nominating an extremist from Table 2. Column 1 indicates a local linear regression with a bandwith of 5. \n",
    "\n",
    "**Question 2.4. To replicate this, fit and summarize a regression using the `within5` data with the general election vote share as the dependent variable; and the running variable, treatment variable, and an interaction term between the two as dependent variables. Which coefficient corresponds to the reported -0.12 in the table, and why?** "
   ]
  },
  {
   "cell_type": "code",
   "execution_count": null,
   "id": "39ea8e05",
   "metadata": {},
   "outputs": [],
   "source": [
    "# Code for 2.4"
   ]
  },
  {
   "cell_type": "markdown",
   "id": "84b2a366",
   "metadata": {},
   "source": [
    "*Words for 2.4*"
   ]
  },
  {
   "cell_type": "markdown",
   "id": "83919976",
   "metadata": {},
   "source": [
    "Column 4 has a similar analysis but the dependent variable isn't the general election vote share but an indicator variable equal to 1 if the nominee won the general election and 0 otherwise. This is given by the `dv_win` variable. \n",
    "\n",
    "**Question 2.5. Fit and summarize the regression which replicates this column, and interpret the coefficient which corresponds to the estimate for the causal effect of nominating an extremist.**"
   ]
  },
  {
   "cell_type": "code",
   "execution_count": 1,
   "id": "21959e06",
   "metadata": {},
   "outputs": [],
   "source": [
    "# Code for 2.5"
   ]
  },
  {
   "cell_type": "markdown",
   "id": "6cfa8ab7",
   "metadata": {},
   "source": [
    "*Words for 2.5*"
   ]
  },
  {
   "cell_type": "markdown",
   "id": "8decdcc9",
   "metadata": {},
   "source": [
    "## Part 3. Robustness\n",
    "\n",
    "Recall that there are several ways that one can estimate causal effects with regression discontinuity, using different standards of a \"close\" election and different kinds of ways to estimate the trend up to and after the treatment starts. \n",
    "\n",
    "One alternative is to just compare the average outcome in elections where the extremist barely won and lost *without* fitting a linear trend on both sides of the discontinuity. In particular, we can just compute the difference of means among the elections with a margin of victory less than 5%.\n",
    "\n",
    "**Question 3.1. To do this is in a way similar to the previous analysis, recall that if we run a linear regression with a binary indpendent variable, the result is equivalent to a difference of means. So, fit and summarize a regression with the general election vote share as the dependent variable and the extremist winning as the independent variable using the `within5` data frame. How does the estimate of the causal effect of nominating an extremist compare to the estimate from column 1 of table 2?**"
   ]
  },
  {
   "cell_type": "code",
   "execution_count": 2,
   "id": "7cda3603",
   "metadata": {},
   "outputs": [],
   "source": [
    "# Code for 3.1"
   ]
  },
  {
   "cell_type": "markdown",
   "id": "de0d25df",
   "metadata": {},
   "source": [
    "*Words for 3.1*"
   ]
  },
  {
   "cell_type": "markdown",
   "id": "413e7a36",
   "metadata": {},
   "source": [
    "**Question 3.2. Now perform the same analysis with the general election victory variable as the outcome. How does the estimate of the causal effect of nominating an extremist differ from the estimate from column 4 of Table 2?**"
   ]
  },
  {
   "cell_type": "code",
   "execution_count": null,
   "id": "7b6e7a97",
   "metadata": {},
   "outputs": [],
   "source": [
    "# Code for 3.2"
   ]
  },
  {
   "cell_type": "markdown",
   "id": "f77d6303",
   "metadata": {},
   "source": [
    "*Words for 3.2*"
   ]
  },
  {
   "cell_type": "markdown",
   "id": "0fe54c45",
   "metadata": {},
   "source": [
    "Another thing we can do is look a a \"wider bandwith\". \n",
    "\n",
    "**Question 3.3. Repeat the analysis of columns 1 and 4 from table 2 using a local linear regression but for elections where the margin was within 20% (i.e., use the `within20` data). How does this affect the estimates of the effect of nominating an extremist?**"
   ]
  },
  {
   "cell_type": "code",
   "execution_count": null,
   "id": "8d686a83",
   "metadata": {},
   "outputs": [],
   "source": [
    "# Code for 3.3"
   ]
  },
  {
   "cell_type": "markdown",
   "id": "afe6defe",
   "metadata": {},
   "source": [
    "*Words for 3.3*"
   ]
  },
  {
   "cell_type": "markdown",
   "id": "83e19ef3",
   "metadata": {},
   "source": [
    "**Question 3.4. Try another alternative estimate of the causal effect of nominating an extremist on the vote share. For example, you could look at a different bandwith, or add polynomial terms to regression (hint: the running variable squared is `rv2`, and the running variable cubed is `rv3`). How does this affect the result?**"
   ]
  },
  {
   "cell_type": "code",
   "execution_count": null,
   "id": "b7800731",
   "metadata": {},
   "outputs": [],
   "source": [
    "# Code for 3.4"
   ]
  },
  {
   "cell_type": "markdown",
   "id": "9e4b2fa5",
   "metadata": {},
   "source": [
    "*Words for 3.4*"
   ]
  },
  {
   "cell_type": "markdown",
   "id": "24ffe938",
   "metadata": {},
   "source": [
    "## Part 4. Other Exploration"
   ]
  },
  {
   "cell_type": "markdown",
   "id": "5276f477",
   "metadata": {},
   "source": [
    "The data frame also contains some other interesting variables which are used in other parts of the paper. For example:\n",
    "- `dem` is 1 if the primary is in the Democratic party and 0 for Republicans.\n",
    "- `safe_for_party` is whether this is considered a safe district for the party in question\n",
    "- `dwnom1` is the ideology of the general election winner\n",
    "- `year` is the year of the election\n",
    "- `winner_female` is whether the general election winner was female\n",
    "\n",
    "**Question 4.1. Conduct some analysis using one of these variables (or another new variable in the data frame which you can figure out the meaning of). You can make graphs, run regressions, whatever! Interpret what you find.** "
   ]
  },
  {
   "cell_type": "code",
   "execution_count": 3,
   "id": "beae95dc",
   "metadata": {},
   "outputs": [],
   "source": [
    "# Code for 4.1"
   ]
  },
  {
   "cell_type": "markdown",
   "id": "a42aa2d5",
   "metadata": {},
   "source": [
    "*Words for 4.1"
   ]
  },
  {
   "cell_type": "markdown",
   "id": "9612c915",
   "metadata": {},
   "source": [
    "## Part 5. Wrapping up\n",
    "\n",
    "**Question 5.1. What did you learn from this replication exercise? (3-4 sentences)**"
   ]
  },
  {
   "cell_type": "markdown",
   "id": "f2f4168c",
   "metadata": {},
   "source": [
    "*Words for 5.1*"
   ]
  },
  {
   "cell_type": "markdown",
   "id": "3e3091a1",
   "metadata": {},
   "source": [
    "**Question 5.2.  What additional data might you want to collect to build on the findings here? What would you expect to find? (4-5 sentences)**"
   ]
  },
  {
   "cell_type": "markdown",
   "id": "8d58bd42",
   "metadata": {},
   "source": [
    "*Words for 5.2*"
   ]
  },
  {
   "cell_type": "code",
   "execution_count": null,
   "id": "cc463d8e",
   "metadata": {},
   "outputs": [],
   "source": []
  }
 ],
 "metadata": {
  "kernelspec": {
   "display_name": "Python 3 (ipykernel)",
   "language": "python",
   "name": "python3"
  },
  "language_info": {
   "codemirror_mode": {
    "name": "ipython",
    "version": 3
   },
   "file_extension": ".py",
   "mimetype": "text/x-python",
   "name": "python",
   "nbconvert_exporter": "python",
   "pygments_lexer": "ipython3",
   "version": "3.9.7"
  }
 },
 "nbformat": 4,
 "nbformat_minor": 5
}
