{
 "cells": [
  {
   "cell_type": "markdown",
   "id": "29c34736",
   "metadata": {},
   "source": [
    "# PS 88 Project Part 2: Replication (Hall)"
   ]
  },
  {
   "cell_type": "markdown",
   "id": "1ae44bc0",
   "metadata": {},
   "source": [
    "**General instructions:** these replications will be similar to labs, though with a bit less guidance than we would typically give. An advantage you have is that the answer you are supposed to get for most questions is in the paper.\n",
    "\n",
    "When we say to \"replicate\" a table we don't mean you need to reproduce every bit of formatting. E.g., for regressions we just want you to verify that the coefficients match those reported in the table. For graphs, the output should look pretty similar, though again you don't need to make the formatting look exactly the same. "
   ]
  },
  {
   "cell_type": "markdown",
   "id": "9697ebaa",
   "metadata": {},
   "source": [
    "On to the paper! The behavioral literature in American politics suggests that voters are not informed enough, and are too partisan, to be swing voters, while the institutional literature suggests that moderate candidates tend to perform better. We speak to this debate by examining the link between the ideology of congressional candidates and their electoral performance.\n",
    "\n",
    "We will repoduce results from [this](https://www.andrewbenjaminhall.com/Hall_APSR.pdf) by Andrew Hall paper from the American Political Science Review. \n"
   ]
  },
  {
   "cell_type": "code",
   "execution_count": 2,
   "id": "b95e2b90",
   "metadata": {},
   "outputs": [],
   "source": [
    "import pandas as pd\n",
    "import numpy as np\n",
    "from scipy import stats\n",
    "\n",
    "import statsmodels.formula.api as smf\n",
    "\n",
    "import seaborn as sns\n",
    "import matplotlib.pyplot as plt"
   ]
  },
  {
   "cell_type": "markdown",
   "id": "95c381a6",
   "metadata": {},
   "source": [
    "## Part 1. Importing and Exploring"
   ]
  },
  {
   "cell_type": "markdown",
   "id": "b14a4e14",
   "metadata": {},
   "source": [
    "The replication data for this paper is stored in Stata format, so we read it in using the `pd.read_stata` function"
   ]
  },
  {
   "cell_type": "code",
   "execution_count": 40,
   "id": "972c75b7",
   "metadata": {},
   "outputs": [
    {
     "data": {
      "text/html": [
       "<div>\n",
       "<style scoped>\n",
       "    .dataframe tbody tr th:only-of-type {\n",
       "        vertical-align: middle;\n",
       "    }\n",
       "\n",
       "    .dataframe tbody tr th {\n",
       "        vertical-align: top;\n",
       "    }\n",
       "\n",
       "    .dataframe thead th {\n",
       "        text-align: right;\n",
       "    }\n",
       "</style>\n",
       "<table border=\"1\" class=\"dataframe\">\n",
       "  <thead>\n",
       "    <tr style=\"text-align: right;\">\n",
       "      <th></th>\n",
       "      <th>state</th>\n",
       "      <th>dist</th>\n",
       "      <th>year</th>\n",
       "      <th>dem</th>\n",
       "      <th>redist1</th>\n",
       "      <th>redist2</th>\n",
       "      <th>vote_P0</th>\n",
       "      <th>cand_dwnom0</th>\n",
       "      <th>prim_total0</th>\n",
       "      <th>vote_P1</th>\n",
       "      <th>...</th>\n",
       "      <th>qual_D</th>\n",
       "      <th>qual_R</th>\n",
       "      <th>qual</th>\n",
       "      <th>winner_hall_snyder_score</th>\n",
       "      <th>wnom1</th>\n",
       "      <th>lag_wnom1</th>\n",
       "      <th>abs_lag_wnom</th>\n",
       "      <th>abs_dw_lag</th>\n",
       "      <th>winner_female</th>\n",
       "      <th>winner_share</th>\n",
       "    </tr>\n",
       "  </thead>\n",
       "  <tbody>\n",
       "    <tr>\n",
       "      <th>0</th>\n",
       "      <td>AL</td>\n",
       "      <td>1</td>\n",
       "      <td>1984.0</td>\n",
       "      <td>1.0</td>\n",
       "      <td>98</td>\n",
       "      <td>103</td>\n",
       "      <td>0.454907</td>\n",
       "      <td>-0.073972</td>\n",
       "      <td>9258.0</td>\n",
       "      <td>0.545093</td>\n",
       "      <td>...</td>\n",
       "      <td>0</td>\n",
       "      <td>1</td>\n",
       "      <td>0.0</td>\n",
       "      <td>-0.034323</td>\n",
       "      <td>0.456358</td>\n",
       "      <td>0.231826</td>\n",
       "      <td>0.231826</td>\n",
       "      <td>0.067</td>\n",
       "      <td>0.0</td>\n",
       "      <td>0.681385</td>\n",
       "    </tr>\n",
       "    <tr>\n",
       "      <th>1</th>\n",
       "      <td>AL</td>\n",
       "      <td>1</td>\n",
       "      <td>2002.0</td>\n",
       "      <td>0.0</td>\n",
       "      <td>108</td>\n",
       "      <td>1000</td>\n",
       "      <td>0.375583</td>\n",
       "      <td>0.180372</td>\n",
       "      <td>104000.0</td>\n",
       "      <td>0.624417</td>\n",
       "      <td>...</td>\n",
       "      <td>1</td>\n",
       "      <td>0</td>\n",
       "      <td>0.0</td>\n",
       "      <td>0.138252</td>\n",
       "      <td>0.615196</td>\n",
       "      <td>NaN</td>\n",
       "      <td>NaN</td>\n",
       "      <td>NaN</td>\n",
       "      <td>0.0</td>\n",
       "      <td>0.578606</td>\n",
       "    </tr>\n",
       "    <tr>\n",
       "      <th>2</th>\n",
       "      <td>AL</td>\n",
       "      <td>2</td>\n",
       "      <td>1992.0</td>\n",
       "      <td>0.0</td>\n",
       "      <td>103</td>\n",
       "      <td>108</td>\n",
       "      <td>0.582899</td>\n",
       "      <td>0.128862</td>\n",
       "      <td>5000.0</td>\n",
       "      <td>0.417101</td>\n",
       "      <td>...</td>\n",
       "      <td>1</td>\n",
       "      <td>0</td>\n",
       "      <td>0.0</td>\n",
       "      <td>0.128862</td>\n",
       "      <td>0.547890</td>\n",
       "      <td>NaN</td>\n",
       "      <td>NaN</td>\n",
       "      <td>NaN</td>\n",
       "      <td>0.0</td>\n",
       "      <td>0.219780</td>\n",
       "    </tr>\n",
       "    <tr>\n",
       "      <th>3</th>\n",
       "      <td>AL</td>\n",
       "      <td>2</td>\n",
       "      <td>1992.0</td>\n",
       "      <td>1.0</td>\n",
       "      <td>103</td>\n",
       "      <td>108</td>\n",
       "      <td>0.428863</td>\n",
       "      <td>-0.312309</td>\n",
       "      <td>70849.0</td>\n",
       "      <td>0.571137</td>\n",
       "      <td>...</td>\n",
       "      <td>1</td>\n",
       "      <td>0</td>\n",
       "      <td>1.0</td>\n",
       "      <td>0.051086</td>\n",
       "      <td>0.547890</td>\n",
       "      <td>NaN</td>\n",
       "      <td>NaN</td>\n",
       "      <td>NaN</td>\n",
       "      <td>0.0</td>\n",
       "      <td>0.419912</td>\n",
       "    </tr>\n",
       "    <tr>\n",
       "      <th>4</th>\n",
       "      <td>AL</td>\n",
       "      <td>2</td>\n",
       "      <td>2008.0</td>\n",
       "      <td>0.0</td>\n",
       "      <td>108</td>\n",
       "      <td>1000</td>\n",
       "      <td>0.531126</td>\n",
       "      <td>0.225109</td>\n",
       "      <td>55000.0</td>\n",
       "      <td>0.468874</td>\n",
       "      <td>...</td>\n",
       "      <td>1</td>\n",
       "      <td>1</td>\n",
       "      <td>1.0</td>\n",
       "      <td>0.225109</td>\n",
       "      <td>0.082957</td>\n",
       "      <td>0.637359</td>\n",
       "      <td>0.637359</td>\n",
       "      <td>0.552</td>\n",
       "      <td>0.0</td>\n",
       "      <td>0.873016</td>\n",
       "    </tr>\n",
       "    <tr>\n",
       "      <th>...</th>\n",
       "      <td>...</td>\n",
       "      <td>...</td>\n",
       "      <td>...</td>\n",
       "      <td>...</td>\n",
       "      <td>...</td>\n",
       "      <td>...</td>\n",
       "      <td>...</td>\n",
       "      <td>...</td>\n",
       "      <td>...</td>\n",
       "      <td>...</td>\n",
       "      <td>...</td>\n",
       "      <td>...</td>\n",
       "      <td>...</td>\n",
       "      <td>...</td>\n",
       "      <td>...</td>\n",
       "      <td>...</td>\n",
       "      <td>...</td>\n",
       "      <td>...</td>\n",
       "      <td>...</td>\n",
       "      <td>...</td>\n",
       "      <td>...</td>\n",
       "    </tr>\n",
       "    <tr>\n",
       "      <th>499</th>\n",
       "      <td>WV</td>\n",
       "      <td>1</td>\n",
       "      <td>1992.0</td>\n",
       "      <td>1.0</td>\n",
       "      <td>103</td>\n",
       "      <td>108</td>\n",
       "      <td>0.384997</td>\n",
       "      <td>-0.170781</td>\n",
       "      <td>81074.0</td>\n",
       "      <td>0.615003</td>\n",
       "      <td>...</td>\n",
       "      <td>0</td>\n",
       "      <td>0</td>\n",
       "      <td>0.0</td>\n",
       "      <td>-0.067638</td>\n",
       "      <td>-0.275327</td>\n",
       "      <td>NaN</td>\n",
       "      <td>NaN</td>\n",
       "      <td>NaN</td>\n",
       "      <td>0.0</td>\n",
       "      <td>0.626384</td>\n",
       "    </tr>\n",
       "    <tr>\n",
       "      <th>500</th>\n",
       "      <td>WV</td>\n",
       "      <td>1</td>\n",
       "      <td>2010.0</td>\n",
       "      <td>1.0</td>\n",
       "      <td>108</td>\n",
       "      <td>1000</td>\n",
       "      <td>0.440938</td>\n",
       "      <td>-0.067638</td>\n",
       "      <td>266793.0</td>\n",
       "      <td>0.559062</td>\n",
       "      <td>...</td>\n",
       "      <td>1</td>\n",
       "      <td>1</td>\n",
       "      <td>1.0</td>\n",
       "      <td>0.140244</td>\n",
       "      <td>0.349566</td>\n",
       "      <td>-0.569978</td>\n",
       "      <td>0.569978</td>\n",
       "      <td>0.286</td>\n",
       "      <td>0.0</td>\n",
       "      <td>0.075699</td>\n",
       "    </tr>\n",
       "    <tr>\n",
       "      <th>501</th>\n",
       "      <td>WV</td>\n",
       "      <td>2</td>\n",
       "      <td>1980.0</td>\n",
       "      <td>1.0</td>\n",
       "      <td>93</td>\n",
       "      <td>98</td>\n",
       "      <td>0.419902</td>\n",
       "      <td>-0.326184</td>\n",
       "      <td>11350.0</td>\n",
       "      <td>0.405550</td>\n",
       "      <td>...</td>\n",
       "      <td>1</td>\n",
       "      <td>0</td>\n",
       "      <td>1.0</td>\n",
       "      <td>-0.326184</td>\n",
       "      <td>0.228743</td>\n",
       "      <td>NaN</td>\n",
       "      <td>NaN</td>\n",
       "      <td>0.351</td>\n",
       "      <td>0.0</td>\n",
       "      <td>0.380235</td>\n",
       "    </tr>\n",
       "    <tr>\n",
       "      <th>502</th>\n",
       "      <td>WY</td>\n",
       "      <td>1</td>\n",
       "      <td>1994.0</td>\n",
       "      <td>0.0</td>\n",
       "      <td>51</td>\n",
       "      <td>1000</td>\n",
       "      <td>0.387491</td>\n",
       "      <td>0.184238</td>\n",
       "      <td>18899.0</td>\n",
       "      <td>0.247773</td>\n",
       "      <td>...</td>\n",
       "      <td>0</td>\n",
       "      <td>1</td>\n",
       "      <td>1.0</td>\n",
       "      <td>0.184238</td>\n",
       "      <td>0.772233</td>\n",
       "      <td>0.643263</td>\n",
       "      <td>0.643263</td>\n",
       "      <td>0.413</td>\n",
       "      <td>1.0</td>\n",
       "      <td>0.843743</td>\n",
       "    </tr>\n",
       "    <tr>\n",
       "      <th>503</th>\n",
       "      <td>WY</td>\n",
       "      <td>1</td>\n",
       "      <td>1994.0</td>\n",
       "      <td>1.0</td>\n",
       "      <td>51</td>\n",
       "      <td>1000</td>\n",
       "      <td>0.581605</td>\n",
       "      <td>-0.302573</td>\n",
       "      <td>11500.0</td>\n",
       "      <td>0.418395</td>\n",
       "      <td>...</td>\n",
       "      <td>0</td>\n",
       "      <td>1</td>\n",
       "      <td>0.0</td>\n",
       "      <td>-0.302573</td>\n",
       "      <td>0.772233</td>\n",
       "      <td>0.643263</td>\n",
       "      <td>0.643263</td>\n",
       "      <td>0.413</td>\n",
       "      <td>0.0</td>\n",
       "      <td>0.476190</td>\n",
       "    </tr>\n",
       "  </tbody>\n",
       "</table>\n",
       "<p>504 rows × 70 columns</p>\n",
       "</div>"
      ],
      "text/plain": [
       "    state  dist    year  dem  redist1  redist2   vote_P0  cand_dwnom0  \\\n",
       "0      AL     1  1984.0  1.0       98      103  0.454907    -0.073972   \n",
       "1      AL     1  2002.0  0.0      108     1000  0.375583     0.180372   \n",
       "2      AL     2  1992.0  0.0      103      108  0.582899     0.128862   \n",
       "3      AL     2  1992.0  1.0      103      108  0.428863    -0.312309   \n",
       "4      AL     2  2008.0  0.0      108     1000  0.531126     0.225109   \n",
       "..    ...   ...     ...  ...      ...      ...       ...          ...   \n",
       "499    WV     1  1992.0  1.0      103      108  0.384997    -0.170781   \n",
       "500    WV     1  2010.0  1.0      108     1000  0.440938    -0.067638   \n",
       "501    WV     2  1980.0  1.0       93       98  0.419902    -0.326184   \n",
       "502    WY     1  1994.0  0.0       51     1000  0.387491     0.184238   \n",
       "503    WY     1  1994.0  1.0       51     1000  0.581605    -0.302573   \n",
       "\n",
       "     prim_total0   vote_P1  ...  qual_D  qual_R  qual  \\\n",
       "0         9258.0  0.545093  ...       0       1   0.0   \n",
       "1       104000.0  0.624417  ...       1       0   0.0   \n",
       "2         5000.0  0.417101  ...       1       0   0.0   \n",
       "3        70849.0  0.571137  ...       1       0   1.0   \n",
       "4        55000.0  0.468874  ...       1       1   1.0   \n",
       "..           ...       ...  ...     ...     ...   ...   \n",
       "499      81074.0  0.615003  ...       0       0   0.0   \n",
       "500     266793.0  0.559062  ...       1       1   1.0   \n",
       "501      11350.0  0.405550  ...       1       0   1.0   \n",
       "502      18899.0  0.247773  ...       0       1   1.0   \n",
       "503      11500.0  0.418395  ...       0       1   0.0   \n",
       "\n",
       "     winner_hall_snyder_score     wnom1  lag_wnom1  abs_lag_wnom  abs_dw_lag  \\\n",
       "0                   -0.034323  0.456358   0.231826      0.231826       0.067   \n",
       "1                    0.138252  0.615196        NaN           NaN         NaN   \n",
       "2                    0.128862  0.547890        NaN           NaN         NaN   \n",
       "3                    0.051086  0.547890        NaN           NaN         NaN   \n",
       "4                    0.225109  0.082957   0.637359      0.637359       0.552   \n",
       "..                        ...       ...        ...           ...         ...   \n",
       "499                 -0.067638 -0.275327        NaN           NaN         NaN   \n",
       "500                  0.140244  0.349566  -0.569978      0.569978       0.286   \n",
       "501                 -0.326184  0.228743        NaN           NaN       0.351   \n",
       "502                  0.184238  0.772233   0.643263      0.643263       0.413   \n",
       "503                 -0.302573  0.772233   0.643263      0.643263       0.413   \n",
       "\n",
       "     winner_female  winner_share  \n",
       "0              0.0      0.681385  \n",
       "1              0.0      0.578606  \n",
       "2              0.0      0.219780  \n",
       "3              0.0      0.419912  \n",
       "4              0.0      0.873016  \n",
       "..             ...           ...  \n",
       "499            0.0      0.626384  \n",
       "500            0.0      0.075699  \n",
       "501            0.0      0.380235  \n",
       "502            1.0      0.843743  \n",
       "503            0.0      0.476190  \n",
       "\n",
       "[504 rows x 70 columns]"
      ]
     },
     "execution_count": 40,
     "metadata": {},
     "output_type": "execute_result"
    }
   ],
   "source": [
    "#Bring in the main analysis dataset\n",
    "full = pd.read_stata(\"primary_analysis.dta\")\n",
    "full"
   ]
  },
  {
   "cell_type": "code",
   "execution_count": 44,
   "id": "96e66690",
   "metadata": {},
   "outputs": [
    {
     "name": "stdout",
     "output_type": "stream",
     "text": [
      "<class 'pandas.core.frame.DataFrame'>\n",
      "Int64Index: 504 entries, 0 to 503\n",
      "Data columns (total 70 columns):\n",
      " #   Column                       Non-Null Count  Dtype  \n",
      "---  ------                       --------------  -----  \n",
      " 0   state                        504 non-null    object \n",
      " 1   dist                         504 non-null    int16  \n",
      " 2   year                         504 non-null    float64\n",
      " 3   dem                          504 non-null    float32\n",
      " 4   redist1                      504 non-null    int16  \n",
      " 5   redist2                      504 non-null    int16  \n",
      " 6   vote_P0                      504 non-null    float32\n",
      " 7   cand_dwnom0                  504 non-null    float32\n",
      " 8   prim_total0                  504 non-null    float64\n",
      " 9   vote_P1                      504 non-null    float32\n",
      " 10  cand_dwnom1                  504 non-null    float32\n",
      " 11  fully_open_general           504 non-null    float32\n",
      " 12  this_primary_open            504 non-null    float32\n",
      " 13  this_primary_open_other_inc  504 non-null    float32\n",
      " 14  this_primary_inc_other_open  504 non-null    float32\n",
      " 15  both_primaries_inc           504 non-null    float32\n",
      " 16  tot_amountQ                  504 non-null    float32\n",
      " 17  tot_amountY                  504 non-null    float32\n",
      " 18  absdist                      504 non-null    float32\n",
      " 19  rv                           504 non-null    float32\n",
      " 20  treat                        504 non-null    float32\n",
      " 21  rv_treat                     504 non-null    float32\n",
      " 22  dv                           504 non-null    float32\n",
      " 23  margin                       504 non-null    float32\n",
      " 24  rv2                          504 non-null    float32\n",
      " 25  rv3                          504 non-null    float32\n",
      " 26  rv4                          504 non-null    float32\n",
      " 27  prim_total_winner            504 non-null    float32\n",
      " 28  prim_pac_share               494 non-null    float32\n",
      " 29  prim_share                   504 non-null    float32\n",
      " 30  winner_score                 504 non-null    float32\n",
      " 31  inc_winner                   504 non-null    float32\n",
      " 32  party_share                  504 non-null    float32\n",
      " 33  group_share                  504 non-null    float32\n",
      " 34  pnv                          488 non-null    float32\n",
      " 35  lag_pnv                      341 non-null    float32\n",
      " 36  dv_win                       504 non-null    float32\n",
      " 37  lag_dv_party                 116 non-null    float32\n",
      " 38  vote_G_comb                  504 non-null    float32\n",
      " 39  lag_dv_vote                  116 non-null    float32\n",
      " 40  lag_dv_pac                   116 non-null    float32\n",
      " 41  dv2                          388 non-null    float32\n",
      " 42  dv_win2                      388 non-null    float32\n",
      " 43  dv3                          316 non-null    float32\n",
      " 44  dv_win3                      316 non-null    float32\n",
      " 45  dv4                          229 non-null    float32\n",
      " 46  dv_win4                      229 non-null    float32\n",
      " 47  dv5                          123 non-null    float32\n",
      " 48  dv_win5                      123 non-null    float32\n",
      " 49  dv_lag                       316 non-null    float32\n",
      " 50  dv_win_lag                   316 non-null    float32\n",
      " 51  safe_for_party               504 non-null    float32\n",
      " 52  competitive                  504 non-null    float32\n",
      " 53  dwnom1                       504 non-null    float32\n",
      " 54  dw1                          388 non-null    float32\n",
      " 55  dw2                          316 non-null    float32\n",
      " 56  dw3                          229 non-null    float32\n",
      " 57  dw4                          123 non-null    float32\n",
      " 58  dw_lag                       343 non-null    float32\n",
      " 59  cov2dc                       395 non-null    float32\n",
      " 60  qual_D                       504 non-null    int8   \n",
      " 61  qual_R                       504 non-null    int8   \n",
      " 62  qual                         504 non-null    float32\n",
      " 63  winner_hall_snyder_score     504 non-null    float32\n",
      " 64  wnom1                        504 non-null    float32\n",
      " 65  lag_wnom1                    318 non-null    float32\n",
      " 66  abs_lag_wnom                 318 non-null    float32\n",
      " 67  abs_dw_lag                   343 non-null    float32\n",
      " 68  winner_female                470 non-null    float32\n",
      " 69  winner_share                 504 non-null    float32\n",
      "dtypes: float32(62), float64(2), int16(3), int8(2), object(1)\n",
      "memory usage: 141.8+ KB\n"
     ]
    }
   ],
   "source": [
    "full.info(verbose=True)"
   ]
  },
  {
   "cell_type": "markdown",
   "id": "7da59714",
   "metadata": {},
   "source": [
    "One of the key aspects of the paper is using campaign contributions to figure out which of the two main candidates in a primary is more extreme. The standard way to estimate the ideology of politicians is to look at their voting records. However, a drawback of this is that we can't use it to figure out the ideology of candidates for office who don't win. Since the key goal of the paper is to figure out which candidate is more extreme, we can't use voting records along as losing candidates typically don't hold office to generate a voting recored. A nice feature of campaign contributions is that we can estimate the ideology of losing candidates.\n",
    "\n",
    "Still, it might be nice to check if the campaign contributions approach gives a similar estimate of ideology for those who do win. Figure 1 of the paper does this by comparing the \"contributions-based ideology\" measure in the `winner_hall_snyder_score` variable and the \"Observed DW-NOMINATE Score\" which is the ideology meausure based on voting (see <a href=\"https://en.wikipedia.org/wiki/NOMINATE_(scaling_method)\">here</a> for more detail) sored in the `dwnom1` column.\n",
    "\n",
    "Let's look at a scatterplot of these two variables to see if it matches figure 1. We add a `hue=` argument to seperate by cases where the winner of the general election was a Republican or Democrat."
   ]
  },
  {
   "cell_type": "code",
   "execution_count": 41,
   "id": "3956f071",
   "metadata": {},
   "outputs": [
    {
     "data": {
      "text/plain": [
       "<AxesSubplot:xlabel='winner_hall_snyder_score', ylabel='dwnom1'>"
      ]
     },
     "execution_count": 41,
     "metadata": {},
     "output_type": "execute_result"
    },
    {
     "data": {
      "image/png": "[encoded data removed]",
      "text/plain": [
       "<Figure size 432x288 with 1 Axes>"
      ]
     },
     "metadata": {
      "needs_background": "light"
     },
     "output_type": "display_data"
    }
   ],
   "source": [
    "sns.scatterplot(x='winner_hall_snyder_score', y='dwnom1', data=full, hue=full['dem'])"
   ]
  },
  {
   "cell_type": "markdown",
   "id": "56de3331",
   "metadata": {},
   "source": [
    "Hmm, this doesn't seem to match Figure 1 from the paper. If you give squint we can start to get a sense of why: it looks like there is a band of dots that following the positive correlation from the figure in the paper, but then another band of dots that have a negative correlation. The reason why is exactly the reason to look at donations to measure ideology in the first place: we are looking at *primary* elections here, so the winner of the primary may not win the general election and enter office. So, the `winner_hall_snyder_score` correspond to the primary winner, but the `dwnom1` correspond to the general election winner, who might be a different person. \n",
    "\n",
    "To fix this, we need want to only compare the ideology of primary winners who go on to win the general election. This is captured by the `dv_win` variable, which will be a key dependent variable for us later."
   ]
  },
  {
   "cell_type": "markdown",
   "id": "808fa0f7",
   "metadata": {},
   "source": [
    "**Question 1.1. Create a subset of the `full` dataframe that only includes observations where `dv_win` is equal to 1 called `win`. The redo the scatterplot from above using the `win` dataframe.** "
   ]
  },
  {
   "cell_type": "code",
   "execution_count": 5,
   "id": "c4c29f0e",
   "metadata": {},
   "outputs": [
    {
     "data": {
      "text/plain": [
       "<AxesSubplot:xlabel='winner_hall_snyder_score', ylabel='dwnom1'>"
      ]
     },
     "execution_count": 5,
     "metadata": {},
     "output_type": "execute_result"
    },
    {
     "data": {
      "image/png": "[encoded data removed]",
      "text/plain": [
       "<Figure size 432x288 with 1 Axes>"
      ]
     },
     "metadata": {
      "needs_background": "light"
     },
     "output_type": "display_data"
    }
   ],
   "source": [
    "win = full[full['dv_win']==1]\n",
    "sns.scatterplot(x='winner_hall_snyder_score', y='dwnom1', data=win, hue=full['dem'])"
   ]
  },
  {
   "cell_type": "markdown",
   "id": "4d4011b3",
   "metadata": {},
   "source": [
    "This should look like the figure from the paper, albeit with the party marked by color rather than Rs and Ds.\n",
    "\n",
    "**Question 1.2. The paper also reports that the correlation between these measures is 0.90. Use the `stats.pearsonr` function to check this.**"
   ]
  },
  {
   "cell_type": "code",
   "execution_count": 6,
   "id": "f4469a3e",
   "metadata": {},
   "outputs": [
    {
     "data": {
      "text/plain": [
       "(0.9036247333771591, 3.3413421411251554e-137)"
      ]
     },
     "execution_count": 6,
     "metadata": {},
     "output_type": "execute_result"
    }
   ],
   "source": [
    "stats.pearsonr(win['dwnom1'], win['winner_hall_snyder_score'])"
   ]
  },
  {
   "cell_type": "markdown",
   "id": "79a17ed2",
   "metadata": {},
   "source": [
    "The paper restricts the analysis to cases where we can clearly say which candidate was more extreme. There is no obvious way to do this, but the authors decide to only look at races where the difference in estimated ideology of the two leading candidates in the primary was more than the median of this distance. This difference is given by the column `absdist`.\n",
    "\n",
    "**Question 1.3. Compute the median absolute distance between the leading candidates and save it as `med_dist`.** "
   ]
  },
  {
   "cell_type": "code",
   "execution_count": 7,
   "id": "eb8e66a8",
   "metadata": {},
   "outputs": [],
   "source": [
    "med_dist = np.median(full['absdist'])"
   ]
  },
  {
   "cell_type": "markdown",
   "id": "eb6ee76c",
   "metadata": {},
   "source": [
    "Hall also sometimes restricts to cases where the margin of victory for the winner was less than 20%. Let's create a new version of the data frame to run the subsequent analysis on where both of these conditions are met "
   ]
  },
  {
   "cell_type": "code",
   "execution_count": 9,
   "id": "daadd3cc",
   "metadata": {},
   "outputs": [
    {
     "data": {
      "text/plain": [
       "233"
      ]
     },
     "execution_count": 9,
     "metadata": {},
     "output_type": "execute_result"
    }
   ],
   "source": [
    "# Subset data to only elections within .2 margin and above median distance\n",
    "within20 = full[(full['margin'] <= 0.2) & (full['absdist'] > med_dist)]\n",
    "within20.shape[0]"
   ]
  },
  {
   "cell_type": "markdown",
   "id": "6874f84b",
   "metadata": {},
   "source": [
    "Other analysis look at elections where the margin of victory was less than equal to 5%. \n",
    "\n",
    "**Question 1.4. Create a version of the data where the distance between candidates is above the median and the margin is less than or equal to 5%, and call this `within5`.**\n"
   ]
  },
  {
   "cell_type": "code",
   "execution_count": 11,
   "id": "831fd41b",
   "metadata": {},
   "outputs": [
    {
     "data": {
      "text/plain": [
       "83"
      ]
     },
     "execution_count": 11,
     "metadata": {},
     "output_type": "execute_result"
    }
   ],
   "source": [
    "# Code for 1.4\n",
    "within5 = full[(full['margin'] <= 0.05) & (full['absdist'] > med_dist)]\n",
    "within5.shape[0]"
   ]
  },
  {
   "cell_type": "markdown",
   "id": "fcacca88",
   "metadata": {},
   "source": [
    "**Question 1.5. What proportion of all observations meet the criteria for the `within20` data frame? For the `within5` data frame? While looking at close elections can be good for making causal claims, what is the other side of this tradeoff which is illustrated by this analysis?**"
   ]
  },
  {
   "cell_type": "code",
   "execution_count": 45,
   "id": "48dfce7f",
   "metadata": {},
   "outputs": [
    {
     "data": {
      "text/plain": [
       "(0.4623015873015873, 0.16468253968253968)"
      ]
     },
     "execution_count": 45,
     "metadata": {},
     "output_type": "execute_result"
    }
   ],
   "source": [
    "within20.shape[0]/full.shape[0], within5.shape[0]/full.shape[0] "
   ]
  },
  {
   "cell_type": "markdown",
   "id": "bc808b15",
   "metadata": {},
   "source": [
    "By only looking at close elections (in addition to the restriction on ideological distance), we only get to keep less than 47% of the observations with a \"bandwith\" of 20 and less than 17% of the observations with a bandwith of 5%. So we lose a lot of the data when only looking at close election which raises the possibility that any resuts we get are driven by random chance."
   ]
  },
  {
   "cell_type": "markdown",
   "id": "7197cc94",
   "metadata": {},
   "source": [
    "## Part 2. Main results"
   ]
  },
  {
   "cell_type": "markdown",
   "id": "0510e31c",
   "metadata": {},
   "source": [
    "Two of the key variables we will use in the analysis are:\n",
    "- `rv` (or \"running variable\"), which is the margin of the vote for the more extreme candidate minus 50%, and \n",
    "- `treat`, which is equal to 1 if the more extreme candidate wins and 0 otherwise.\n",
    "\n",
    "Recall that it is easiest to interpret the RD regressions if the treatment switches from 0 to 1 when the running variable goes from negative to positive.\n",
    "\n",
    "**Question 2.1. Make a scatterplot with the running variable on the x axis and the treatment on the y axis. Does what you get make sense in light of the discussion above?**"
   ]
  },
  {
   "cell_type": "code",
   "execution_count": 13,
   "id": "33567e42",
   "metadata": {},
   "outputs": [
    {
     "data": {
      "text/plain": [
       "<AxesSubplot:xlabel='rv', ylabel='treat'>"
      ]
     },
     "execution_count": 13,
     "metadata": {},
     "output_type": "execute_result"
    },
    {
     "data": {
      "image/png": "[encoded data removed]",
      "text/plain": [
       "<Figure size 432x288 with 1 Axes>"
      ]
     },
     "metadata": {
      "needs_background": "light"
     },
     "output_type": "display_data"
    }
   ],
   "source": [
    "sns.scatterplot(x=full['rv'], y=full['treat'])"
   ]
  },
  {
   "cell_type": "markdown",
   "id": "50d334bf",
   "metadata": {},
   "source": [
    "From this we can see that as the running variable goes from negative to positive, the treatment goes from 0 to 1. This makes sense because the treatment is the extremist nominee winning, and they win if their margin minus 50% is above zero."
   ]
  },
  {
   "cell_type": "markdown",
   "id": "da510925",
   "metadata": {},
   "source": [
    "The main outcome we will examine in the paper is the vote share in the general election for the candidate that won the primary. In the dataframe this is called `dv`. \n",
    "\n",
    "**Question 2.2. Compute the difference of means for this outcome among those where the extremist nominee won versus not, using the full data set. Why might this not be a good esimate of the causal effect of an extremist winning the primary?**"
   ]
  },
  {
   "cell_type": "code",
   "execution_count": 17,
   "id": "327ed95e",
   "metadata": {},
   "outputs": [
    {
     "data": {
      "text/plain": [
       "-0.027362942695617676"
      ]
     },
     "execution_count": 17,
     "metadata": {},
     "output_type": "execute_result"
    }
   ],
   "source": [
    "np.mean(full.dv[full.treat ==1]) -  np.mean(full.dv[full.treat ==0])"
   ]
  },
  {
   "cell_type": "markdown",
   "id": "cee84529",
   "metadata": {},
   "source": [
    "Extremist candidates do about 3% worse on average. This may not be a good estimate of the causal effect because districts that nominate extremist candidates may be different on average. For example, they may be \"safe\" districts where the party is going to win no matter what."
   ]
  },
  {
   "cell_type": "markdown",
   "id": "be31d0a7",
   "metadata": {},
   "source": [
    "Next let's create a version of Figure 2. The big dots are plotting the average outcome for different \"bins\" of the running variable. We'll give some code to add those later, but for now the main thing we want to plot is the individual points and the trend line before and after switching to the extremist nominee winning. As in Lab 12, an easy way to do this is to create subsets of the data before the cutoff (here, `rv < 0`) and after the cutoff (`rv > 0`) and then use `sns.regplot` on both sides.\n",
    "\n",
    "**Question 2.3. Create a subset of the `within20` data where `rv < 0` and call this `within20below`. Then create a subset where `rv > 0` called `within20above`. Then replicate figure 2 using sns.regplot.** "
   ]
  },
  {
   "cell_type": "code",
   "execution_count": 19,
   "id": "9064f737",
   "metadata": {},
   "outputs": [
    {
     "data": {
      "text/plain": [
       "<AxesSubplot:xlabel='rv', ylabel='dv'>"
      ]
     },
     "execution_count": 19,
     "metadata": {},
     "output_type": "execute_result"
    },
    {
     "data": {
      "image/png": "[encoded data removed]",
      "text/plain": [
       "<Figure size 432x288 with 1 Axes>"
      ]
     },
     "metadata": {
      "needs_background": "light"
     },
     "output_type": "display_data"
    }
   ],
   "source": [
    "within20below = within20[within20['rv'] < 0]\n",
    "within20above = within20[within20['rv'] > 0]\n",
    "sns.regplot(x=within20below['rv'], y=within20below['dv'], ci=0)\n",
    "sns.regplot(x=within20above['rv'], y=within20above['dv'], ci=0)"
   ]
  },
  {
   "cell_type": "markdown",
   "id": "9740b053",
   "metadata": {},
   "source": [
    "To really replicate the figure, we can add the binned averages. The code below creates the x and y axis values for these dots by looping through the bins and computing the average general election vote share."
   ]
  },
  {
   "cell_type": "code",
   "execution_count": 46,
   "id": "73ea49c0",
   "metadata": {},
   "outputs": [],
   "source": [
    "# Make the binned averages, first the bins to the left\n",
    "count = 0\n",
    "bin_size = 0.02\n",
    "binx_left = np.zeros(len(np.arange(-0.2, 0, bin_size)))\n",
    "biny_left = np.zeros(len(binx_left))\n",
    "last = -0.2\n",
    "for j in np.arange(-0.2, 0, bin_size):\n",
    "    biny_left[count] = np.mean(rd_data['dv'][(rd_data['rv'] >= j-bin_size) & (rd_data['rv'] < j)])\n",
    "    binx_left[count] = (j+last)/2\n",
    "    last = j\n",
    "    count += 1\n",
    "\n",
    "# Now the bins on the right\n",
    "count = 0\n",
    "bin_size = 0.02\n",
    "binx_right = np.zeros(len(np.arange(0.02, 0.2, bin_size)))\n",
    "biny_right = np.zeros(len(binx_right))\n",
    "last = 0\n",
    "for j in np.arange(0.02, 0.2, bin_size):\n",
    "    biny_right[count] = np.mean(rd_data['dv'][(rd_data['rv'] >= j-bin_size) & (rd_data['rv'] < j)])\n",
    "    binx_right[count] = (j+last)/2\n",
    "    last = j\n",
    "    count += 1\n"
   ]
  },
  {
   "cell_type": "markdown",
   "id": "897036e6",
   "metadata": {},
   "source": [
    "Here is a plot with just the bins"
   ]
  },
  {
   "cell_type": "code",
   "execution_count": 47,
   "id": "647aa287",
   "metadata": {},
   "outputs": [
    {
     "data": {
      "text/plain": [
       "[<matplotlib.lines.Line2D at 0x7fb0fac89190>]"
      ]
     },
     "execution_count": 47,
     "metadata": {},
     "output_type": "execute_result"
    },
    {
     "data": {
      "image/png": "[encoded data removed]",
      "text/plain": [
       "<Figure size 432x288 with 1 Axes>"
      ]
     },
     "metadata": {
      "needs_background": "light"
     },
     "output_type": "display_data"
    }
   ],
   "source": [
    "plt.plot(binx_left, biny_left, 'o', color='black', markersize=10)\n",
    "plt.plot(binx_right, biny_right, 'o', color='black', markersize=10)"
   ]
  },
  {
   "cell_type": "markdown",
   "id": "0b323e18",
   "metadata": {},
   "source": [
    "[OPTIONAL] Create a code cell with your graph for question 2.3 and then the plotting of the binned averages above. "
   ]
  },
  {
   "cell_type": "code",
   "execution_count": null,
   "id": "af08bb28",
   "metadata": {},
   "outputs": [],
   "source": []
  },
  {
   "cell_type": "markdown",
   "id": "153c7991",
   "metadata": {},
   "source": [
    "Now let's replicate some of the estimates of the causal effect of nominating an extremist from Table 2. Column 1 indicates a local linear regression with a bandwith of 5. \n",
    "\n",
    "**Question 2.4. To replicate this, fit and summarize a regression using the `within5` data with the general election vote share as the dependent variable; and the running variable, treatment variable, and an interaction term between the two as dependent variables. Which coefficient correspond to the reported -0.12 in the table, and why?** "
   ]
  },
  {
   "cell_type": "code",
   "execution_count": 48,
   "id": "39ea8e05",
   "metadata": {},
   "outputs": [
    {
     "data": {
      "text/html": [
       "<table class=\"simpletable\">\n",
       "<caption>OLS Regression Results</caption>\n",
       "<tr>\n",
       "  <th>Dep. Variable:</th>           <td>dv</td>        <th>  R-squared:         </th> <td>   0.078</td>\n",
       "</tr>\n",
       "<tr>\n",
       "  <th>Model:</th>                   <td>OLS</td>       <th>  Adj. R-squared:    </th> <td>   0.043</td>\n",
       "</tr>\n",
       "<tr>\n",
       "  <th>Method:</th>             <td>Least Squares</td>  <th>  F-statistic:       </th> <td>   2.222</td>\n",
       "</tr>\n",
       "<tr>\n",
       "  <th>Date:</th>             <td>Mon, 17 Apr 2023</td> <th>  Prob (F-statistic):</th>  <td>0.0921</td> \n",
       "</tr>\n",
       "<tr>\n",
       "  <th>Time:</th>                 <td>12:04:26</td>     <th>  Log-Likelihood:    </th> <td>  56.677</td>\n",
       "</tr>\n",
       "<tr>\n",
       "  <th>No. Observations:</th>      <td>    83</td>      <th>  AIC:               </th> <td>  -105.4</td>\n",
       "</tr>\n",
       "<tr>\n",
       "  <th>Df Residuals:</th>          <td>    79</td>      <th>  BIC:               </th> <td>  -95.68</td>\n",
       "</tr>\n",
       "<tr>\n",
       "  <th>Df Model:</th>              <td>     3</td>      <th>                     </th>     <td> </td>   \n",
       "</tr>\n",
       "<tr>\n",
       "  <th>Covariance Type:</th>      <td>nonrobust</td>    <th>                     </th>     <td> </td>   \n",
       "</tr>\n",
       "</table>\n",
       "<table class=\"simpletable\">\n",
       "<tr>\n",
       "      <td></td>         <th>coef</th>     <th>std err</th>      <th>t</th>      <th>P>|t|</th>  <th>[0.025</th>    <th>0.975]</th>  \n",
       "</tr>\n",
       "<tr>\n",
       "  <th>Intercept</th> <td>    0.6075</td> <td>    0.045</td> <td>   13.392</td> <td> 0.000</td> <td>    0.517</td> <td>    0.698</td>\n",
       "</tr>\n",
       "<tr>\n",
       "  <th>rv</th>        <td>   -0.2074</td> <td>    1.392</td> <td>   -0.149</td> <td> 0.882</td> <td>   -2.977</td> <td>    2.562</td>\n",
       "</tr>\n",
       "<tr>\n",
       "  <th>treat</th>     <td>   -0.1186</td> <td>    0.063</td> <td>   -1.869</td> <td> 0.065</td> <td>   -0.245</td> <td>    0.008</td>\n",
       "</tr>\n",
       "<tr>\n",
       "  <th>treat:rv</th>  <td>    3.1238</td> <td>    2.008</td> <td>    1.556</td> <td> 0.124</td> <td>   -0.872</td> <td>    7.120</td>\n",
       "</tr>\n",
       "</table>\n",
       "<table class=\"simpletable\">\n",
       "<tr>\n",
       "  <th>Omnibus:</th>       <td>25.216</td> <th>  Durbin-Watson:     </th> <td>   1.856</td>\n",
       "</tr>\n",
       "<tr>\n",
       "  <th>Prob(Omnibus):</th> <td> 0.000</td> <th>  Jarque-Bera (JB):  </th> <td>  39.062</td>\n",
       "</tr>\n",
       "<tr>\n",
       "  <th>Skew:</th>          <td> 1.264</td> <th>  Prob(JB):          </th> <td>3.29e-09</td>\n",
       "</tr>\n",
       "<tr>\n",
       "  <th>Kurtosis:</th>      <td> 5.215</td> <th>  Cond. No.          </th> <td>    190.</td>\n",
       "</tr>\n",
       "</table><br/><br/>Notes:<br/>[1] Standard Errors assume that the covariance matrix of the errors is correctly specified."
      ],
      "text/plain": [
       "<class 'statsmodels.iolib.summary.Summary'>\n",
       "\"\"\"\n",
       "                            OLS Regression Results                            \n",
       "==============================================================================\n",
       "Dep. Variable:                     dv   R-squared:                       0.078\n",
       "Model:                            OLS   Adj. R-squared:                  0.043\n",
       "Method:                 Least Squares   F-statistic:                     2.222\n",
       "Date:                Mon, 17 Apr 2023   Prob (F-statistic):             0.0921\n",
       "Time:                        12:04:26   Log-Likelihood:                 56.677\n",
       "No. Observations:                  83   AIC:                            -105.4\n",
       "Df Residuals:                      79   BIC:                            -95.68\n",
       "Df Model:                           3                                         \n",
       "Covariance Type:            nonrobust                                         \n",
       "==============================================================================\n",
       "                 coef    std err          t      P>|t|      [0.025      0.975]\n",
       "------------------------------------------------------------------------------\n",
       "Intercept      0.6075      0.045     13.392      0.000       0.517       0.698\n",
       "rv            -0.2074      1.392     -0.149      0.882      -2.977       2.562\n",
       "treat         -0.1186      0.063     -1.869      0.065      -0.245       0.008\n",
       "treat:rv       3.1238      2.008      1.556      0.124      -0.872       7.120\n",
       "==============================================================================\n",
       "Omnibus:                       25.216   Durbin-Watson:                   1.856\n",
       "Prob(Omnibus):                  0.000   Jarque-Bera (JB):               39.062\n",
       "Skew:                           1.264   Prob(JB):                     3.29e-09\n",
       "Kurtosis:                       5.215   Cond. No.                         190.\n",
       "==============================================================================\n",
       "\n",
       "Notes:\n",
       "[1] Standard Errors assume that the covariance matrix of the errors is correctly specified.\n",
       "\"\"\""
      ]
     },
     "execution_count": 48,
     "metadata": {},
     "output_type": "execute_result"
    }
   ],
   "source": [
    "smf.ols(\"dv ~ rv + treat + treat:rv\", data=within5).fit().summary()"
   ]
  },
  {
   "cell_type": "markdown",
   "id": "84b2a366",
   "metadata": {},
   "source": [
    "The coefficient on `treat` rounds to -0.12. This corresponds to the jump down at the discontinuity, which is an estimate of the causal effect of nominating the more extreme candidate."
   ]
  },
  {
   "cell_type": "markdown",
   "id": "83919976",
   "metadata": {},
   "source": [
    "Column 4 has a similar analysis but the dependent variable isn't the general election vote share but an indicator variable equal to 1 if the nominee won the general election and 0 otherwise. This is given by the `dv_win` variable. \n",
    "\n",
    "**Question 2.6. Fit and summarize the regression which replicates this column, and interpret the coefficient which correspond to the estimate for hte causal effect of nominating and extremist.**"
   ]
  },
  {
   "cell_type": "code",
   "execution_count": 49,
   "id": "21959e06",
   "metadata": {},
   "outputs": [
    {
     "data": {
      "text/html": [
       "<table class=\"simpletable\">\n",
       "<caption>OLS Regression Results</caption>\n",
       "<tr>\n",
       "  <th>Dep. Variable:</th>         <td>dv_win</td>      <th>  R-squared:         </th> <td>   0.131</td>\n",
       "</tr>\n",
       "<tr>\n",
       "  <th>Model:</th>                   <td>OLS</td>       <th>  Adj. R-squared:    </th> <td>   0.098</td>\n",
       "</tr>\n",
       "<tr>\n",
       "  <th>Method:</th>             <td>Least Squares</td>  <th>  F-statistic:       </th> <td>   3.980</td>\n",
       "</tr>\n",
       "<tr>\n",
       "  <th>Date:</th>             <td>Mon, 17 Apr 2023</td> <th>  Prob (F-statistic):</th>  <td>0.0107</td> \n",
       "</tr>\n",
       "<tr>\n",
       "  <th>Time:</th>                 <td>12:04:43</td>     <th>  Log-Likelihood:    </th> <td> -39.954</td>\n",
       "</tr>\n",
       "<tr>\n",
       "  <th>No. Observations:</th>      <td>    83</td>      <th>  AIC:               </th> <td>   87.91</td>\n",
       "</tr>\n",
       "<tr>\n",
       "  <th>Df Residuals:</th>          <td>    79</td>      <th>  BIC:               </th> <td>   97.58</td>\n",
       "</tr>\n",
       "<tr>\n",
       "  <th>Df Model:</th>              <td>     3</td>      <th>                     </th>     <td> </td>   \n",
       "</tr>\n",
       "<tr>\n",
       "  <th>Covariance Type:</th>      <td>nonrobust</td>    <th>                     </th>     <td> </td>   \n",
       "</tr>\n",
       "</table>\n",
       "<table class=\"simpletable\">\n",
       "<tr>\n",
       "      <td></td>         <th>coef</th>     <th>std err</th>      <th>t</th>      <th>P>|t|</th>  <th>[0.025</th>    <th>0.975]</th>  \n",
       "</tr>\n",
       "<tr>\n",
       "  <th>Intercept</th> <td>    0.9488</td> <td>    0.145</td> <td>    6.529</td> <td> 0.000</td> <td>    0.660</td> <td>    1.238</td>\n",
       "</tr>\n",
       "<tr>\n",
       "  <th>rv</th>        <td>    1.5750</td> <td>    4.458</td> <td>    0.353</td> <td> 0.725</td> <td>   -7.298</td> <td>   10.448</td>\n",
       "</tr>\n",
       "<tr>\n",
       "  <th>treat</th>     <td>   -0.5326</td> <td>    0.203</td> <td>   -2.620</td> <td> 0.011</td> <td>   -0.937</td> <td>   -0.128</td>\n",
       "</tr>\n",
       "<tr>\n",
       "  <th>treat:rv</th>  <td>    6.6376</td> <td>    6.431</td> <td>    1.032</td> <td> 0.305</td> <td>   -6.164</td> <td>   19.439</td>\n",
       "</tr>\n",
       "</table>\n",
       "<table class=\"simpletable\">\n",
       "<tr>\n",
       "  <th>Omnibus:</th>       <td>12.734</td> <th>  Durbin-Watson:     </th> <td>   2.155</td>\n",
       "</tr>\n",
       "<tr>\n",
       "  <th>Prob(Omnibus):</th> <td> 0.002</td> <th>  Jarque-Bera (JB):  </th> <td>  14.889</td>\n",
       "</tr>\n",
       "<tr>\n",
       "  <th>Skew:</th>          <td>-1.036</td> <th>  Prob(JB):          </th> <td>0.000585</td>\n",
       "</tr>\n",
       "<tr>\n",
       "  <th>Kurtosis:</th>      <td> 2.893</td> <th>  Cond. No.          </th> <td>    190.</td>\n",
       "</tr>\n",
       "</table><br/><br/>Notes:<br/>[1] Standard Errors assume that the covariance matrix of the errors is correctly specified."
      ],
      "text/plain": [
       "<class 'statsmodels.iolib.summary.Summary'>\n",
       "\"\"\"\n",
       "                            OLS Regression Results                            \n",
       "==============================================================================\n",
       "Dep. Variable:                 dv_win   R-squared:                       0.131\n",
       "Model:                            OLS   Adj. R-squared:                  0.098\n",
       "Method:                 Least Squares   F-statistic:                     3.980\n",
       "Date:                Mon, 17 Apr 2023   Prob (F-statistic):             0.0107\n",
       "Time:                        12:04:43   Log-Likelihood:                -39.954\n",
       "No. Observations:                  83   AIC:                             87.91\n",
       "Df Residuals:                      79   BIC:                             97.58\n",
       "Df Model:                           3                                         \n",
       "Covariance Type:            nonrobust                                         \n",
       "==============================================================================\n",
       "                 coef    std err          t      P>|t|      [0.025      0.975]\n",
       "------------------------------------------------------------------------------\n",
       "Intercept      0.9488      0.145      6.529      0.000       0.660       1.238\n",
       "rv             1.5750      4.458      0.353      0.725      -7.298      10.448\n",
       "treat         -0.5326      0.203     -2.620      0.011      -0.937      -0.128\n",
       "treat:rv       6.6376      6.431      1.032      0.305      -6.164      19.439\n",
       "==============================================================================\n",
       "Omnibus:                       12.734   Durbin-Watson:                   2.155\n",
       "Prob(Omnibus):                  0.002   Jarque-Bera (JB):               14.889\n",
       "Skew:                          -1.036   Prob(JB):                     0.000585\n",
       "Kurtosis:                       2.893   Cond. No.                         190.\n",
       "==============================================================================\n",
       "\n",
       "Notes:\n",
       "[1] Standard Errors assume that the covariance matrix of the errors is correctly specified.\n",
       "\"\"\""
      ]
     },
     "execution_count": 49,
     "metadata": {},
     "output_type": "execute_result"
    }
   ],
   "source": [
    "smf.ols(\"dv_win ~ rv + treat + treat:rv\", data=within5).fit().summary()"
   ]
  },
  {
   "cell_type": "markdown",
   "id": "6cfa8ab7",
   "metadata": {},
   "source": [
    "The coefficient on the treatment is -.53, which indicates more than a 50% decrease in the probability of the candidate  winning if the extremist is nominated. "
   ]
  },
  {
   "cell_type": "markdown",
   "id": "8decdcc9",
   "metadata": {},
   "source": [
    "## Part 3. Robustness\n",
    "\n",
    "Recall that there are several ways that one can estimate causal effects with regression discontinuity, using different standards of a \"close\" election and different kinds of ways to estimate the trend up to and after the treatment starts. \n",
    "\n",
    "One alternative is to just compare the average outcome in elections where the extremist barely won and lost without fitting a linear trend on both sides of the discontinuity. In particular, we can just compute the difference of means among the elections with a margin of victory less than 5%.\n",
    "\n",
    "**3.1. To do this is in a way similar to the previous analysis, recall that if we run a linear regression with a binary indpendent variable, the result is equivalent to a difference of means. So, fit and summarize a regression with the general election vote share as the dependent variable and the extremist winning as the independent variable using the `within5` data frame. How does the estimate of the causal effect of nominating an extremist compare to the estimate from column 1 of table 2?**"
   ]
  },
  {
   "cell_type": "code",
   "execution_count": 50,
   "id": "7cda3603",
   "metadata": {},
   "outputs": [
    {
     "data": {
      "text/html": [
       "<table class=\"simpletable\">\n",
       "<caption>OLS Regression Results</caption>\n",
       "<tr>\n",
       "  <th>Dep. Variable:</th>           <td>dv</td>        <th>  R-squared:         </th> <td>   0.030</td>\n",
       "</tr>\n",
       "<tr>\n",
       "  <th>Model:</th>                   <td>OLS</td>       <th>  Adj. R-squared:    </th> <td>   0.018</td>\n",
       "</tr>\n",
       "<tr>\n",
       "  <th>Method:</th>             <td>Least Squares</td>  <th>  F-statistic:       </th> <td>   2.517</td>\n",
       "</tr>\n",
       "<tr>\n",
       "  <th>Date:</th>             <td>Mon, 17 Apr 2023</td> <th>  Prob (F-statistic):</th>  <td> 0.117</td> \n",
       "</tr>\n",
       "<tr>\n",
       "  <th>Time:</th>                 <td>12:05:42</td>     <th>  Log-Likelihood:    </th> <td>  54.586</td>\n",
       "</tr>\n",
       "<tr>\n",
       "  <th>No. Observations:</th>      <td>    83</td>      <th>  AIC:               </th> <td>  -105.2</td>\n",
       "</tr>\n",
       "<tr>\n",
       "  <th>Df Residuals:</th>          <td>    81</td>      <th>  BIC:               </th> <td>  -100.3</td>\n",
       "</tr>\n",
       "<tr>\n",
       "  <th>Df Model:</th>              <td>     1</td>      <th>                     </th>     <td> </td>   \n",
       "</tr>\n",
       "<tr>\n",
       "  <th>Covariance Type:</th>      <td>nonrobust</td>    <th>                     </th>     <td> </td>   \n",
       "</tr>\n",
       "</table>\n",
       "<table class=\"simpletable\">\n",
       "<tr>\n",
       "      <td></td>         <th>coef</th>     <th>std err</th>      <th>t</th>      <th>P>|t|</th>  <th>[0.025</th>    <th>0.975]</th>  \n",
       "</tr>\n",
       "<tr>\n",
       "  <th>Intercept</th> <td>    0.6136</td> <td>    0.020</td> <td>   30.963</td> <td> 0.000</td> <td>    0.574</td> <td>    0.653</td>\n",
       "</tr>\n",
       "<tr>\n",
       "  <th>treat</th>     <td>   -0.0442</td> <td>    0.028</td> <td>   -1.586</td> <td> 0.117</td> <td>   -0.100</td> <td>    0.011</td>\n",
       "</tr>\n",
       "</table>\n",
       "<table class=\"simpletable\">\n",
       "<tr>\n",
       "  <th>Omnibus:</th>       <td>26.348</td> <th>  Durbin-Watson:     </th> <td>   1.854</td>\n",
       "</tr>\n",
       "<tr>\n",
       "  <th>Prob(Omnibus):</th> <td> 0.000</td> <th>  Jarque-Bera (JB):  </th> <td>  41.179</td>\n",
       "</tr>\n",
       "<tr>\n",
       "  <th>Skew:</th>          <td> 1.320</td> <th>  Prob(JB):          </th> <td>1.14e-09</td>\n",
       "</tr>\n",
       "<tr>\n",
       "  <th>Kurtosis:</th>      <td> 5.221</td> <th>  Cond. No.          </th> <td>    2.63</td>\n",
       "</tr>\n",
       "</table><br/><br/>Notes:<br/>[1] Standard Errors assume that the covariance matrix of the errors is correctly specified."
      ],
      "text/plain": [
       "<class 'statsmodels.iolib.summary.Summary'>\n",
       "\"\"\"\n",
       "                            OLS Regression Results                            \n",
       "==============================================================================\n",
       "Dep. Variable:                     dv   R-squared:                       0.030\n",
       "Model:                            OLS   Adj. R-squared:                  0.018\n",
       "Method:                 Least Squares   F-statistic:                     2.517\n",
       "Date:                Mon, 17 Apr 2023   Prob (F-statistic):              0.117\n",
       "Time:                        12:05:42   Log-Likelihood:                 54.586\n",
       "No. Observations:                  83   AIC:                            -105.2\n",
       "Df Residuals:                      81   BIC:                            -100.3\n",
       "Df Model:                           1                                         \n",
       "Covariance Type:            nonrobust                                         \n",
       "==============================================================================\n",
       "                 coef    std err          t      P>|t|      [0.025      0.975]\n",
       "------------------------------------------------------------------------------\n",
       "Intercept      0.6136      0.020     30.963      0.000       0.574       0.653\n",
       "treat         -0.0442      0.028     -1.586      0.117      -0.100       0.011\n",
       "==============================================================================\n",
       "Omnibus:                       26.348   Durbin-Watson:                   1.854\n",
       "Prob(Omnibus):                  0.000   Jarque-Bera (JB):               41.179\n",
       "Skew:                           1.320   Prob(JB):                     1.14e-09\n",
       "Kurtosis:                       5.221   Cond. No.                         2.63\n",
       "==============================================================================\n",
       "\n",
       "Notes:\n",
       "[1] Standard Errors assume that the covariance matrix of the errors is correctly specified.\n",
       "\"\"\""
      ]
     },
     "execution_count": 50,
     "metadata": {},
     "output_type": "execute_result"
    }
   ],
   "source": [
    "smf.ols(\"dv ~ treat\", data=within5).fit().summary()"
   ]
  },
  {
   "cell_type": "markdown",
   "id": "de0d25df",
   "metadata": {},
   "source": [
    "The coefficient is now -.04, indicating a smaller penalty for nominating an extremist. "
   ]
  },
  {
   "cell_type": "markdown",
   "id": "413e7a36",
   "metadata": {},
   "source": [
    "**Question 3.2. Now perform the same analysis with the general election victory variable as the outcome. How does the estimate of the causal effect of nominating an extremist differ from the estimate from column 4 of Table 2?**"
   ]
  },
  {
   "cell_type": "code",
   "execution_count": 33,
   "id": "7b6e7a97",
   "metadata": {},
   "outputs": [
    {
     "data": {
      "text/html": [
       "<table class=\"simpletable\">\n",
       "<caption>OLS Regression Results</caption>\n",
       "<tr>\n",
       "  <th>Dep. Variable:</th>         <td>dv_win</td>      <th>  R-squared:         </th> <td>   0.095</td>\n",
       "</tr>\n",
       "<tr>\n",
       "  <th>Model:</th>                   <td>OLS</td>       <th>  Adj. R-squared:    </th> <td>   0.084</td>\n",
       "</tr>\n",
       "<tr>\n",
       "  <th>Method:</th>             <td>Least Squares</td>  <th>  F-statistic:       </th> <td>   8.545</td>\n",
       "</tr>\n",
       "<tr>\n",
       "  <th>Date:</th>             <td>Sat, 15 Apr 2023</td> <th>  Prob (F-statistic):</th>  <td>0.00449</td>\n",
       "</tr>\n",
       "<tr>\n",
       "  <th>Time:</th>                 <td>13:30:06</td>     <th>  Log-Likelihood:    </th> <td> -41.634</td>\n",
       "</tr>\n",
       "<tr>\n",
       "  <th>No. Observations:</th>      <td>    83</td>      <th>  AIC:               </th> <td>   87.27</td>\n",
       "</tr>\n",
       "<tr>\n",
       "  <th>Df Residuals:</th>          <td>    81</td>      <th>  BIC:               </th> <td>   92.11</td>\n",
       "</tr>\n",
       "<tr>\n",
       "  <th>Df Model:</th>              <td>     1</td>      <th>                     </th>     <td> </td>   \n",
       "</tr>\n",
       "<tr>\n",
       "  <th>Covariance Type:</th>      <td>nonrobust</td>    <th>                     </th>     <td> </td>   \n",
       "</tr>\n",
       "</table>\n",
       "<table class=\"simpletable\">\n",
       "<tr>\n",
       "      <td></td>         <th>coef</th>     <th>std err</th>      <th>t</th>      <th>P>|t|</th>  <th>[0.025</th>    <th>0.975]</th>  \n",
       "</tr>\n",
       "<tr>\n",
       "  <th>Intercept</th> <td>    0.9024</td> <td>    0.063</td> <td>   14.286</td> <td> 0.000</td> <td>    0.777</td> <td>    1.028</td>\n",
       "</tr>\n",
       "<tr>\n",
       "  <th>treat</th>     <td>   -0.2596</td> <td>    0.089</td> <td>   -2.923</td> <td> 0.004</td> <td>   -0.436</td> <td>   -0.083</td>\n",
       "</tr>\n",
       "</table>\n",
       "<table class=\"simpletable\">\n",
       "<tr>\n",
       "  <th>Omnibus:</th>       <td>13.524</td> <th>  Durbin-Watson:     </th> <td>   2.031</td>\n",
       "</tr>\n",
       "<tr>\n",
       "  <th>Prob(Omnibus):</th> <td> 0.001</td> <th>  Jarque-Bera (JB):  </th> <td>  16.174</td>\n",
       "</tr>\n",
       "<tr>\n",
       "  <th>Skew:</th>          <td>-1.069</td> <th>  Prob(JB):          </th> <td>0.000307</td>\n",
       "</tr>\n",
       "<tr>\n",
       "  <th>Kurtosis:</th>      <td> 2.674</td> <th>  Cond. No.          </th> <td>    2.63</td>\n",
       "</tr>\n",
       "</table><br/><br/>Notes:<br/>[1] Standard Errors assume that the covariance matrix of the errors is correctly specified."
      ],
      "text/plain": [
       "<class 'statsmodels.iolib.summary.Summary'>\n",
       "\"\"\"\n",
       "                            OLS Regression Results                            \n",
       "==============================================================================\n",
       "Dep. Variable:                 dv_win   R-squared:                       0.095\n",
       "Model:                            OLS   Adj. R-squared:                  0.084\n",
       "Method:                 Least Squares   F-statistic:                     8.545\n",
       "Date:                Sat, 15 Apr 2023   Prob (F-statistic):            0.00449\n",
       "Time:                        13:30:06   Log-Likelihood:                -41.634\n",
       "No. Observations:                  83   AIC:                             87.27\n",
       "Df Residuals:                      81   BIC:                             92.11\n",
       "Df Model:                           1                                         \n",
       "Covariance Type:            nonrobust                                         \n",
       "==============================================================================\n",
       "                 coef    std err          t      P>|t|      [0.025      0.975]\n",
       "------------------------------------------------------------------------------\n",
       "Intercept      0.9024      0.063     14.286      0.000       0.777       1.028\n",
       "treat         -0.2596      0.089     -2.923      0.004      -0.436      -0.083\n",
       "==============================================================================\n",
       "Omnibus:                       13.524   Durbin-Watson:                   2.031\n",
       "Prob(Omnibus):                  0.001   Jarque-Bera (JB):               16.174\n",
       "Skew:                          -1.069   Prob(JB):                     0.000307\n",
       "Kurtosis:                       2.674   Cond. No.                         2.63\n",
       "==============================================================================\n",
       "\n",
       "Notes:\n",
       "[1] Standard Errors assume that the covariance matrix of the errors is correctly specified.\n",
       "\"\"\""
      ]
     },
     "execution_count": 33,
     "metadata": {},
     "output_type": "execute_result"
    }
   ],
   "source": [
    "smf.ols(\"dv_win ~ treat\", data=within5).fit().summary()"
   ]
  },
  {
   "cell_type": "markdown",
   "id": "f77d6303",
   "metadata": {},
   "source": [
    "There is a still a large estimated effect of nominating an extremist, about a 25% penalty, though this is smaller than the local linear estimate. "
   ]
  },
  {
   "cell_type": "markdown",
   "id": "0fe54c45",
   "metadata": {},
   "source": [
    "Another thing we can do is look a a \"wider bandwith\". \n",
    "\n",
    "**Question 3.3. Repeat the analysis of columns 1 and 4 from table 2 using a local linear regression but for elections where the margin was within 20% (i.e., use the `within20` data). How does this affect the estimates of the effect of nominating an extremist?**"
   ]
  },
  {
   "cell_type": "code",
   "execution_count": 34,
   "id": "8d686a83",
   "metadata": {},
   "outputs": [
    {
     "data": {
      "text/html": [
       "<table class=\"simpletable\">\n",
       "<caption>OLS Regression Results</caption>\n",
       "<tr>\n",
       "  <th>Dep. Variable:</th>           <td>dv</td>        <th>  R-squared:         </th> <td>   0.060</td>\n",
       "</tr>\n",
       "<tr>\n",
       "  <th>Model:</th>                   <td>OLS</td>       <th>  Adj. R-squared:    </th> <td>   0.047</td>\n",
       "</tr>\n",
       "<tr>\n",
       "  <th>Method:</th>             <td>Least Squares</td>  <th>  F-statistic:       </th> <td>   4.854</td>\n",
       "</tr>\n",
       "<tr>\n",
       "  <th>Date:</th>             <td>Sat, 15 Apr 2023</td> <th>  Prob (F-statistic):</th>  <td>0.00271</td>\n",
       "</tr>\n",
       "<tr>\n",
       "  <th>Time:</th>                 <td>13:31:55</td>     <th>  Log-Likelihood:    </th> <td>  134.41</td>\n",
       "</tr>\n",
       "<tr>\n",
       "  <th>No. Observations:</th>      <td>   233</td>      <th>  AIC:               </th> <td>  -260.8</td>\n",
       "</tr>\n",
       "<tr>\n",
       "  <th>Df Residuals:</th>          <td>   229</td>      <th>  BIC:               </th> <td>  -247.0</td>\n",
       "</tr>\n",
       "<tr>\n",
       "  <th>Df Model:</th>              <td>     3</td>      <th>                     </th>     <td> </td>   \n",
       "</tr>\n",
       "<tr>\n",
       "  <th>Covariance Type:</th>      <td>nonrobust</td>    <th>                     </th>     <td> </td>   \n",
       "</tr>\n",
       "</table>\n",
       "<table class=\"simpletable\">\n",
       "<tr>\n",
       "      <td></td>         <th>coef</th>     <th>std err</th>      <th>t</th>      <th>P>|t|</th>  <th>[0.025</th>    <th>0.975]</th>  \n",
       "</tr>\n",
       "<tr>\n",
       "  <th>Intercept</th> <td>    0.6060</td> <td>    0.024</td> <td>   25.023</td> <td> 0.000</td> <td>    0.558</td> <td>    0.654</td>\n",
       "</tr>\n",
       "<tr>\n",
       "  <th>rv</th>        <td>   -0.0035</td> <td>    0.262</td> <td>   -0.013</td> <td> 0.989</td> <td>   -0.519</td> <td>    0.512</td>\n",
       "</tr>\n",
       "<tr>\n",
       "  <th>treat</th>     <td>   -0.0947</td> <td>    0.034</td> <td>   -2.803</td> <td> 0.005</td> <td>   -0.161</td> <td>   -0.028</td>\n",
       "</tr>\n",
       "<tr>\n",
       "  <th>treat:rv</th>  <td>    0.8827</td> <td>    0.358</td> <td>    2.467</td> <td> 0.014</td> <td>    0.178</td> <td>    1.588</td>\n",
       "</tr>\n",
       "</table>\n",
       "<table class=\"simpletable\">\n",
       "<tr>\n",
       "  <th>Omnibus:</th>       <td>43.729</td> <th>  Durbin-Watson:     </th> <td>   1.775</td>\n",
       "</tr>\n",
       "<tr>\n",
       "  <th>Prob(Omnibus):</th> <td> 0.000</td> <th>  Jarque-Bera (JB):  </th> <td>  65.169</td>\n",
       "</tr>\n",
       "<tr>\n",
       "  <th>Skew:</th>          <td> 1.101</td> <th>  Prob(JB):          </th> <td>7.06e-15</td>\n",
       "</tr>\n",
       "<tr>\n",
       "  <th>Kurtosis:</th>      <td> 4.366</td> <th>  Cond. No.          </th> <td>    53.9</td>\n",
       "</tr>\n",
       "</table><br/><br/>Notes:<br/>[1] Standard Errors assume that the covariance matrix of the errors is correctly specified."
      ],
      "text/plain": [
       "<class 'statsmodels.iolib.summary.Summary'>\n",
       "\"\"\"\n",
       "                            OLS Regression Results                            \n",
       "==============================================================================\n",
       "Dep. Variable:                     dv   R-squared:                       0.060\n",
       "Model:                            OLS   Adj. R-squared:                  0.047\n",
       "Method:                 Least Squares   F-statistic:                     4.854\n",
       "Date:                Sat, 15 Apr 2023   Prob (F-statistic):            0.00271\n",
       "Time:                        13:31:55   Log-Likelihood:                 134.41\n",
       "No. Observations:                 233   AIC:                            -260.8\n",
       "Df Residuals:                     229   BIC:                            -247.0\n",
       "Df Model:                           3                                         \n",
       "Covariance Type:            nonrobust                                         \n",
       "==============================================================================\n",
       "                 coef    std err          t      P>|t|      [0.025      0.975]\n",
       "------------------------------------------------------------------------------\n",
       "Intercept      0.6060      0.024     25.023      0.000       0.558       0.654\n",
       "rv            -0.0035      0.262     -0.013      0.989      -0.519       0.512\n",
       "treat         -0.0947      0.034     -2.803      0.005      -0.161      -0.028\n",
       "treat:rv       0.8827      0.358      2.467      0.014       0.178       1.588\n",
       "==============================================================================\n",
       "Omnibus:                       43.729   Durbin-Watson:                   1.775\n",
       "Prob(Omnibus):                  0.000   Jarque-Bera (JB):               65.169\n",
       "Skew:                           1.101   Prob(JB):                     7.06e-15\n",
       "Kurtosis:                       4.366   Cond. No.                         53.9\n",
       "==============================================================================\n",
       "\n",
       "Notes:\n",
       "[1] Standard Errors assume that the covariance matrix of the errors is correctly specified.\n",
       "\"\"\""
      ]
     },
     "execution_count": 34,
     "metadata": {},
     "output_type": "execute_result"
    }
   ],
   "source": [
    "smf.ols(\"dv ~ rv + treat + treat:rv\", data=within20).fit().summary()"
   ]
  },
  {
   "cell_type": "code",
   "execution_count": 35,
   "id": "ad7c3fa4",
   "metadata": {},
   "outputs": [
    {
     "data": {
      "text/html": [
       "<table class=\"simpletable\">\n",
       "<caption>OLS Regression Results</caption>\n",
       "<tr>\n",
       "  <th>Dep. Variable:</th>         <td>dv_win</td>      <th>  R-squared:         </th> <td>   0.076</td>\n",
       "</tr>\n",
       "<tr>\n",
       "  <th>Model:</th>                   <td>OLS</td>       <th>  Adj. R-squared:    </th> <td>   0.064</td>\n",
       "</tr>\n",
       "<tr>\n",
       "  <th>Method:</th>             <td>Least Squares</td>  <th>  F-statistic:       </th> <td>   6.316</td>\n",
       "</tr>\n",
       "<tr>\n",
       "  <th>Date:</th>             <td>Sat, 15 Apr 2023</td> <th>  Prob (F-statistic):</th> <td>0.000392</td>\n",
       "</tr>\n",
       "<tr>\n",
       "  <th>Time:</th>                 <td>13:32:04</td>     <th>  Log-Likelihood:    </th> <td> -131.07</td>\n",
       "</tr>\n",
       "<tr>\n",
       "  <th>No. Observations:</th>      <td>   233</td>      <th>  AIC:               </th> <td>   270.1</td>\n",
       "</tr>\n",
       "<tr>\n",
       "  <th>Df Residuals:</th>          <td>   229</td>      <th>  BIC:               </th> <td>   284.0</td>\n",
       "</tr>\n",
       "<tr>\n",
       "  <th>Df Model:</th>              <td>     3</td>      <th>                     </th>     <td> </td>   \n",
       "</tr>\n",
       "<tr>\n",
       "  <th>Covariance Type:</th>      <td>nonrobust</td>    <th>                     </th>     <td> </td>   \n",
       "</tr>\n",
       "</table>\n",
       "<table class=\"simpletable\">\n",
       "<tr>\n",
       "      <td></td>         <th>coef</th>     <th>std err</th>      <th>t</th>      <th>P>|t|</th>  <th>[0.025</th>    <th>0.975]</th>  \n",
       "</tr>\n",
       "<tr>\n",
       "  <th>Intercept</th> <td>    0.8384</td> <td>    0.076</td> <td>   11.079</td> <td> 0.000</td> <td>    0.689</td> <td>    0.988</td>\n",
       "</tr>\n",
       "<tr>\n",
       "  <th>rv</th>        <td>    0.0455</td> <td>    0.818</td> <td>    0.056</td> <td> 0.956</td> <td>   -1.566</td> <td>    1.657</td>\n",
       "</tr>\n",
       "<tr>\n",
       "  <th>treat</th>     <td>   -0.3660</td> <td>    0.106</td> <td>   -3.466</td> <td> 0.001</td> <td>   -0.574</td> <td>   -0.158</td>\n",
       "</tr>\n",
       "<tr>\n",
       "  <th>treat:rv</th>  <td>    2.0520</td> <td>    1.118</td> <td>    1.835</td> <td> 0.068</td> <td>   -0.151</td> <td>    4.255</td>\n",
       "</tr>\n",
       "</table>\n",
       "<table class=\"simpletable\">\n",
       "<tr>\n",
       "  <th>Omnibus:</th>       <td>36.835</td> <th>  Durbin-Watson:     </th> <td>   1.797</td>\n",
       "</tr>\n",
       "<tr>\n",
       "  <th>Prob(Omnibus):</th> <td> 0.000</td> <th>  Jarque-Bera (JB):  </th> <td>  38.768</td>\n",
       "</tr>\n",
       "<tr>\n",
       "  <th>Skew:</th>          <td>-0.938</td> <th>  Prob(JB):          </th> <td>3.82e-09</td>\n",
       "</tr>\n",
       "<tr>\n",
       "  <th>Kurtosis:</th>      <td> 2.313</td> <th>  Cond. No.          </th> <td>    53.9</td>\n",
       "</tr>\n",
       "</table><br/><br/>Notes:<br/>[1] Standard Errors assume that the covariance matrix of the errors is correctly specified."
      ],
      "text/plain": [
       "<class 'statsmodels.iolib.summary.Summary'>\n",
       "\"\"\"\n",
       "                            OLS Regression Results                            \n",
       "==============================================================================\n",
       "Dep. Variable:                 dv_win   R-squared:                       0.076\n",
       "Model:                            OLS   Adj. R-squared:                  0.064\n",
       "Method:                 Least Squares   F-statistic:                     6.316\n",
       "Date:                Sat, 15 Apr 2023   Prob (F-statistic):           0.000392\n",
       "Time:                        13:32:04   Log-Likelihood:                -131.07\n",
       "No. Observations:                 233   AIC:                             270.1\n",
       "Df Residuals:                     229   BIC:                             284.0\n",
       "Df Model:                           3                                         \n",
       "Covariance Type:            nonrobust                                         \n",
       "==============================================================================\n",
       "                 coef    std err          t      P>|t|      [0.025      0.975]\n",
       "------------------------------------------------------------------------------\n",
       "Intercept      0.8384      0.076     11.079      0.000       0.689       0.988\n",
       "rv             0.0455      0.818      0.056      0.956      -1.566       1.657\n",
       "treat         -0.3660      0.106     -3.466      0.001      -0.574      -0.158\n",
       "treat:rv       2.0520      1.118      1.835      0.068      -0.151       4.255\n",
       "==============================================================================\n",
       "Omnibus:                       36.835   Durbin-Watson:                   1.797\n",
       "Prob(Omnibus):                  0.000   Jarque-Bera (JB):               38.768\n",
       "Skew:                          -0.938   Prob(JB):                     3.82e-09\n",
       "Kurtosis:                       2.313   Cond. No.                         53.9\n",
       "==============================================================================\n",
       "\n",
       "Notes:\n",
       "[1] Standard Errors assume that the covariance matrix of the errors is correctly specified.\n",
       "\"\"\""
      ]
     },
     "execution_count": 35,
     "metadata": {},
     "output_type": "execute_result"
    }
   ],
   "source": [
    "smf.ols(\"dv_win ~ rv + treat + treat:rv\", data=within20).fit().summary()"
   ]
  },
  {
   "cell_type": "markdown",
   "id": "afe6defe",
   "metadata": {},
   "source": [
    "The estimates are again a somewhat smaller penalty for nominating an extremist: for vote share the estimate is a decrease of 9.5%, and for victory it is a decrease of 36%. Still, these are a bit smaller than the estimates from table 2. "
   ]
  },
  {
   "cell_type": "markdown",
   "id": "83e19ef3",
   "metadata": {},
   "source": [
    "**Question 3.4. Try another alternative estimate of the causal effect of nominating an extremist on the vote share. For example, you could look at a different bandwith, or add polynomial terms to regression (hint: the running variable squared is `rv2`, and the running variable cubed is `rv3`). How does this affect the result?**"
   ]
  },
  {
   "cell_type": "code",
   "execution_count": 36,
   "id": "b7800731",
   "metadata": {},
   "outputs": [
    {
     "data": {
      "text/html": [
       "<table class=\"simpletable\">\n",
       "<caption>OLS Regression Results</caption>\n",
       "<tr>\n",
       "  <th>Dep. Variable:</th>           <td>dv</td>        <th>  R-squared:         </th> <td>   0.086</td>\n",
       "</tr>\n",
       "<tr>\n",
       "  <th>Model:</th>                   <td>OLS</td>       <th>  Adj. R-squared:    </th> <td>   0.066</td>\n",
       "</tr>\n",
       "<tr>\n",
       "  <th>Method:</th>             <td>Least Squares</td>  <th>  F-statistic:       </th> <td>   4.274</td>\n",
       "</tr>\n",
       "<tr>\n",
       "  <th>Date:</th>             <td>Sat, 15 Apr 2023</td> <th>  Prob (F-statistic):</th> <td>0.000983</td>\n",
       "</tr>\n",
       "<tr>\n",
       "  <th>Time:</th>                 <td>13:35:45</td>     <th>  Log-Likelihood:    </th> <td>  137.71</td>\n",
       "</tr>\n",
       "<tr>\n",
       "  <th>No. Observations:</th>      <td>   233</td>      <th>  AIC:               </th> <td>  -263.4</td>\n",
       "</tr>\n",
       "<tr>\n",
       "  <th>Df Residuals:</th>          <td>   227</td>      <th>  BIC:               </th> <td>  -242.7</td>\n",
       "</tr>\n",
       "<tr>\n",
       "  <th>Df Model:</th>              <td>     5</td>      <th>                     </th>     <td> </td>   \n",
       "</tr>\n",
       "<tr>\n",
       "  <th>Covariance Type:</th>      <td>nonrobust</td>    <th>                     </th>     <td> </td>   \n",
       "</tr>\n",
       "</table>\n",
       "<table class=\"simpletable\">\n",
       "<tr>\n",
       "      <td></td>         <th>coef</th>     <th>std err</th>      <th>t</th>      <th>P>|t|</th>  <th>[0.025</th>    <th>0.975]</th>  \n",
       "</tr>\n",
       "<tr>\n",
       "  <th>Intercept</th> <td>    0.6135</td> <td>    0.038</td> <td>   16.245</td> <td> 0.000</td> <td>    0.539</td> <td>    0.688</td>\n",
       "</tr>\n",
       "<tr>\n",
       "  <th>treat</th>     <td>   -0.0309</td> <td>    0.053</td> <td>   -0.589</td> <td> 0.556</td> <td>   -0.134</td> <td>    0.073</td>\n",
       "</tr>\n",
       "<tr>\n",
       "  <th>rv</th>        <td>    0.2390</td> <td>    0.975</td> <td>    0.245</td> <td> 0.807</td> <td>   -1.682</td> <td>    2.160</td>\n",
       "</tr>\n",
       "<tr>\n",
       "  <th>rv2</th>       <td>    1.3230</td> <td>    5.129</td> <td>    0.258</td> <td> 0.797</td> <td>   -8.783</td> <td>   11.429</td>\n",
       "</tr>\n",
       "<tr>\n",
       "  <th>treat:rv</th>  <td>   -1.6848</td> <td>    1.359</td> <td>   -1.240</td> <td> 0.216</td> <td>   -4.363</td> <td>    0.993</td>\n",
       "</tr>\n",
       "<tr>\n",
       "  <th>treat:rv2</th> <td>   11.5593</td> <td>    7.213</td> <td>    1.603</td> <td> 0.110</td> <td>   -2.653</td> <td>   25.772</td>\n",
       "</tr>\n",
       "</table>\n",
       "<table class=\"simpletable\">\n",
       "<tr>\n",
       "  <th>Omnibus:</th>       <td>49.170</td> <th>  Durbin-Watson:     </th> <td>   1.871</td>\n",
       "</tr>\n",
       "<tr>\n",
       "  <th>Prob(Omnibus):</th> <td> 0.000</td> <th>  Jarque-Bera (JB):  </th> <td>  78.940</td>\n",
       "</tr>\n",
       "<tr>\n",
       "  <th>Skew:</th>          <td> 1.174</td> <th>  Prob(JB):          </th> <td>7.22e-18</td>\n",
       "</tr>\n",
       "<tr>\n",
       "  <th>Kurtosis:</th>      <td> 4.618</td> <th>  Cond. No.          </th> <td>1.09e+03</td>\n",
       "</tr>\n",
       "</table><br/><br/>Notes:<br/>[1] Standard Errors assume that the covariance matrix of the errors is correctly specified.<br/>[2] The condition number is large, 1.09e+03. This might indicate that there are<br/>strong multicollinearity or other numerical problems."
      ],
      "text/plain": [
       "<class 'statsmodels.iolib.summary.Summary'>\n",
       "\"\"\"\n",
       "                            OLS Regression Results                            \n",
       "==============================================================================\n",
       "Dep. Variable:                     dv   R-squared:                       0.086\n",
       "Model:                            OLS   Adj. R-squared:                  0.066\n",
       "Method:                 Least Squares   F-statistic:                     4.274\n",
       "Date:                Sat, 15 Apr 2023   Prob (F-statistic):           0.000983\n",
       "Time:                        13:35:45   Log-Likelihood:                 137.71\n",
       "No. Observations:                 233   AIC:                            -263.4\n",
       "Df Residuals:                     227   BIC:                            -242.7\n",
       "Df Model:                           5                                         \n",
       "Covariance Type:            nonrobust                                         \n",
       "==============================================================================\n",
       "                 coef    std err          t      P>|t|      [0.025      0.975]\n",
       "------------------------------------------------------------------------------\n",
       "Intercept      0.6135      0.038     16.245      0.000       0.539       0.688\n",
       "treat         -0.0309      0.053     -0.589      0.556      -0.134       0.073\n",
       "rv             0.2390      0.975      0.245      0.807      -1.682       2.160\n",
       "rv2            1.3230      5.129      0.258      0.797      -8.783      11.429\n",
       "treat:rv      -1.6848      1.359     -1.240      0.216      -4.363       0.993\n",
       "treat:rv2     11.5593      7.213      1.603      0.110      -2.653      25.772\n",
       "==============================================================================\n",
       "Omnibus:                       49.170   Durbin-Watson:                   1.871\n",
       "Prob(Omnibus):                  0.000   Jarque-Bera (JB):               78.940\n",
       "Skew:                           1.174   Prob(JB):                     7.22e-18\n",
       "Kurtosis:                       4.618   Cond. No.                     1.09e+03\n",
       "==============================================================================\n",
       "\n",
       "Notes:\n",
       "[1] Standard Errors assume that the covariance matrix of the errors is correctly specified.\n",
       "[2] The condition number is large, 1.09e+03. This might indicate that there are\n",
       "strong multicollinearity or other numerical problems.\n",
       "\"\"\""
      ]
     },
     "execution_count": 36,
     "metadata": {},
     "output_type": "execute_result"
    }
   ],
   "source": [
    "smf.ols(\"dv ~ treat + rv + rv2 + treat:rv +treat:rv2\", data=within20).fit().summary()"
   ]
  },
  {
   "cell_type": "markdown",
   "id": "9e4b2fa5",
   "metadata": {},
   "source": [
    "In the specification with a best fit quadratic we find a smaller penalty from nominating an extremist: about a 3% drop. Here is a visual version:"
   ]
  },
  {
   "cell_type": "code",
   "execution_count": 39,
   "id": "5ecb0f8d",
   "metadata": {},
   "outputs": [
    {
     "data": {
      "text/plain": [
       "<AxesSubplot:xlabel='rv', ylabel='dv'>"
      ]
     },
     "execution_count": 39,
     "metadata": {},
     "output_type": "execute_result"
    },
    {
     "data": {
      "image/png": "[encoded data removed]",
      "text/plain": [
       "<Figure size 432x288 with 1 Axes>"
      ]
     },
     "metadata": {
      "needs_background": "light"
     },
     "output_type": "display_data"
    }
   ],
   "source": [
    "sns.regplot(x=within20below['rv'], y=within20below['dv'], ci=0, order=2)\n",
    "sns.regplot(x=within20above['rv'], y=within20above['dv'], ci=0, order=2)"
   ]
  },
  {
   "cell_type": "markdown",
   "id": "113bcdb4",
   "metadata": {},
   "source": [
    "We can see there is a smaller dip. "
   ]
  },
  {
   "cell_type": "markdown",
   "id": "24ffe938",
   "metadata": {},
   "source": [
    "## Part 4. Other Exploration"
   ]
  },
  {
   "cell_type": "markdown",
   "id": "5276f477",
   "metadata": {},
   "source": [
    "The data frame also contains some other interesting variables which are used in other parts of the paper. For example:\n",
    "- `dem` is 1 if the primary is in the Democratic party and 0 for Republicans.\n",
    "- `safe_for_party` is whether this is considered a safe district for the party in question\n",
    "- `dwnom1` is the ideology of the general election winner\n",
    "- `year` is the year of the election\n",
    "- `winner_female` is whether the general election winner was female\n",
    "\n",
    "**Question 4.1. Conduct some intial analysis using one of these variables (or another new variable in the data frame which you can figure out the meaning of). You can make graphs, run regressions, whatever!** "
   ]
  },
  {
   "cell_type": "markdown",
   "id": "a42aa2d5",
   "metadata": {},
   "source": []
  },
  {
   "cell_type": "code",
   "execution_count": null,
   "id": "beae95dc",
   "metadata": {},
   "outputs": [],
   "source": []
  },
  {
   "cell_type": "markdown",
   "id": "9612c915",
   "metadata": {},
   "source": [
    "## Part 5. Wrapping up\n",
    "\n",
    "**Question 5.1. What did you learn from this replication exercise? (3-4 sentences)**"
   ]
  },
  {
   "cell_type": "markdown",
   "id": "f2f4168c",
   "metadata": {},
   "source": [
    "*Words for 5.1*"
   ]
  },
  {
   "cell_type": "markdown",
   "id": "3e3091a1",
   "metadata": {},
   "source": [
    "**Question 5.2.  What additional data might you want to collect to build on the findings here? What would you expect to find? (4-5 sentences)**"
   ]
  },
  {
   "cell_type": "markdown",
   "id": "8d58bd42",
   "metadata": {},
   "source": [
    "*Words for 5.2*"
   ]
  },
  {
   "cell_type": "code",
   "execution_count": null,
   "id": "cc463d8e",
   "metadata": {},
   "outputs": [],
   "source": []
  }
 ],
 "metadata": {
  "kernelspec": {
   "display_name": "Python 3 (ipykernel)",
   "language": "python",
   "name": "python3"
  },
  "language_info": {
   "codemirror_mode": {
    "name": "ipython",
    "version": 3
   },
   "file_extension": ".py",
   "mimetype": "text/x-python",
   "name": "python",
   "nbconvert_exporter": "python",
   "pygments_lexer": "ipython3",
   "version": "3.9.7"
  }
 },
 "nbformat": 4,
 "nbformat_minor": 5
}
