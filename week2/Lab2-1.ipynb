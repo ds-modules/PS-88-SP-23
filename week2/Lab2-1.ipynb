{
 "cells": [
  {
   "cell_type": "markdown",
   "id": "cbfc6d4a",
   "metadata": {},
   "source": [
    "# PS 88 - Lab 2.1-  Varieties of Accountability"
   ]
  },
  {
   "cell_type": "markdown",
   "id": "1afa8211",
   "metadata": {},
   "source": [
    "In class I showed a graph that plotted GDP growth during a president's term and how well the incumbent party did in the next election. This is often viewed as important evidence that voters reward or punish politicians based on how the economy performs under their control, which could put more competent leaders in office and give politicians incentive to work hard to give voters good outcomes.\n",
    "\n",
    "Let's first replicate the code to make that graph here."
   ]
  },
  {
   "cell_type": "code",
   "execution_count": null,
   "id": "82c22019",
   "metadata": {},
   "outputs": [],
   "source": [
    "# Importing libraries\n",
    "import pandas as pd\n",
    "import seaborn as sns\n",
    "import matplotlib.pyplot as plt\n",
    "%matplotlib inline"
   ]
  },
  {
   "cell_type": "code",
   "execution_count": null,
   "id": "bc168369",
   "metadata": {},
   "outputs": [],
   "source": [
    "# Loading data\n",
    "pv = pd.read_stata(\"data/presvote.dta\")\n",
    "# Subsetting to years after 1940\n",
    "# There isn't much good GDP data before and the great depression/rebound is a weird time\n",
    "pv = pv[pv['year'] >=1940]\n",
    "# Making the plot and labeling axes\n",
    "sns.scatterplot(x='gdpchange', y='incvote', data=pv)\n",
    "plt.xlabel('GDP Growth')\n",
    "plt.ylabel('Incumbent Vote Share')"
   ]
  },
  {
   "cell_type": "markdown",
   "id": "674f070d",
   "metadata": {},
   "source": [
    "Recall that gdp growth could be a misleading indicator of whether individual financial situations are improving. Some have argued that something called \"real disposable income\" (RDI) is a better measure of this (see <a href=\"https://www.bea.gov/resources/learning-center/what-to-know-income-saving\">here</a> for a comparison of some different related variables).  Fortunately our data table has this information too. In particular, the `RDIg_term` column contains the real disposable income growth over the four years preceding the election.\n",
    "\n",
    "Theoretically, it makes sense to focus on these four years since we'd like to know how things went under the control of the incumbent (or the incumbent party).\n",
    "\n",
    "**Question 1.1: Modify the code below to change the x axis to real disposable income growth over the four years preceding the election.**"
   ]
  },
  {
   "cell_type": "code",
   "execution_count": null,
   "id": "f57523bb",
   "metadata": {},
   "outputs": [],
   "source": [
    "# Code for 1.1: Change someting here to plot real disposable income growth\n",
    "sns.scatterplot(x=..., y='incvote', data=pv)\n",
    "# Change something here to label the axis properly\n",
    "plt.xlabel(...)\n",
    "plt.ylabel('Incumbent Vote Share')"
   ]
  },
  {
   "cell_type": "markdown",
   "id": "8083a405",
   "metadata": {},
   "source": [
    "Another common argument is that people don't necessarily think carefully about how their economic situation changed over the entire time the incumbent was in office, but only think more about the recent past. One way we can test this is by looking at RDI growth over the year leading up to the election. This is captured by the variable `RDIyrgrowth`. \n",
    "\n",
    "**Question 1.2. Write code to make a scatterplot with RDI growth over the year leading up to the election on the x axis and the incumbent vote share on the y axis (feel free to copy from your answer to 1.2!)**"
   ]
  },
  {
   "cell_type": "code",
   "execution_count": null,
   "id": "899ac71a",
   "metadata": {},
   "outputs": [],
   "source": [
    "# Code for 1.2 here"
   ]
  },
  {
   "cell_type": "markdown",
   "id": "ff4d4b61",
   "metadata": {},
   "source": [
    "**Question 1.3 Compare the results of three graphs we have made so far. What might the say about the applicability of our model of political accountability? (Note: there are lots of potential answers here!)**"
   ]
  },
  {
   "cell_type": "markdown",
   "id": "9c75efd3",
   "metadata": {},
   "source": [
    "*Answer for 1.3*"
   ]
  },
  {
   "cell_type": "markdown",
   "id": "559a91a8",
   "metadata": {},
   "source": [
    "To preview something we will learn later in class, we can also produce a similar graph but add a *line of best fit*, which describes the average trend in the data.\n",
    "\n",
    "(We do this with a function called `regplot` in the Seaborn library, which we imported as `sns`)"
   ]
  },
  {
   "cell_type": "code",
   "execution_count": null,
   "id": "a1028f35",
   "metadata": {},
   "outputs": [],
   "source": [
    "# Creating a scatterplot with a line of best fit. \n",
    "# The ci=None option removes confidence intervals\n",
    "sns.regplot(x='RDIyrgrowth', y='incvote', data=pv, ci=None)\n",
    "plt.xlabel('RDI Growth')\n",
    "plt.ylabel('Incumbent Vote Share')"
   ]
  },
  {
   "cell_type": "markdown",
   "id": "fbee8e23",
   "metadata": {},
   "source": [
    "One way to think about this line is saying \"given a level of growth, what is our best prediction about the incumbent vote share?\" \n",
    "\n",
    "There are lots of cool things we can do with this (again, more to come!) but one that is interesting in light of our accountability model is that we can think of elections that are far from this line as ones where the outcome is different than we would predict based on how the economy was doing.\n",
    "\n",
    "To see what years had the incumbent do better or worse than expected, we can add some labels to the points (really don't sweat the details of the code here)"
   ]
  },
  {
   "cell_type": "code",
   "execution_count": null,
   "id": "19e5bbb8",
   "metadata": {},
   "outputs": [],
   "source": [
    "# removing NA to avoid annoying erros\n",
    "pvtoplot = pv[['RDIyrgrowth', 'incvote', 'year']].dropna()\n",
    "pvtoplot['year'] = pvtoplot['year'].astype(int)\n",
    "\n",
    "# The ci=None option removes confidence intervals\n",
    "sns.regplot(x='RDIyrgrowth', y='incvote', data=pv, ci=None)\n",
    "plt.xlabel('RDI election year growth')\n",
    "plt.ylabel('Incumbent Vote Share')\n",
    "\n",
    "# Looping through to label points with the year\n",
    "for x, y, z in zip(pvtoplot['RDIyrgrowth'], pvtoplot['incvote'], pvtoplot['year']):\n",
    " # the position of the data label relative to the data point can be adjusted by adding/subtracting a value from the x &/ y coordinates\n",
    " plt.text(x = x+.025, # x-coordinate position of data label\n",
    " y = y-.01, # y-coordinate position of data label, adjusted to be 150 below the data point\n",
    " s = z) # data label, formatted to ignore decimals\n",
    " # set colour of line"
   ]
  },
  {
   "cell_type": "markdown",
   "id": "2321ad12",
   "metadata": {},
   "source": [
    "**Question 1.4. Note that 2020 is a year where the incumbent did much worse than the best fit line predicts. Why might that be (there are multiple good ways to answer this!)**"
   ]
  },
  {
   "cell_type": "markdown",
   "id": "dd7e27bc",
   "metadata": {},
   "source": [
    "*Answer for 1.4*"
   ]
  },
  {
   "cell_type": "markdown",
   "id": "a879dd9e",
   "metadata": {},
   "source": [
    "**Question 1.5 [OPTIONAL] Redo the first three graphs but with the `regplot` function rather than the `scatterplot` function. Is which graphs is the line relatively steep or not steep? How does that relate to your answer to 1.3?**"
   ]
  },
  {
   "cell_type": "code",
   "execution_count": null,
   "id": "3e658514",
   "metadata": {},
   "outputs": [],
   "source": []
  },
  {
   "cell_type": "code",
   "execution_count": null,
   "id": "e1d8d0a8",
   "metadata": {},
   "outputs": [],
   "source": []
  }
 ],
 "metadata": {
  "kernelspec": {
   "display_name": "Python 3 (ipykernel)",
   "language": "python",
   "name": "python3"
  },
  "language_info": {
   "codemirror_mode": {
    "name": "ipython",
    "version": 3
   },
   "file_extension": ".py",
   "mimetype": "text/x-python",
   "name": "python",
   "nbconvert_exporter": "python",
   "pygments_lexer": "ipython3",
   "version": "3.9.7"
  }
 },
 "nbformat": 4,
 "nbformat_minor": 5
}
