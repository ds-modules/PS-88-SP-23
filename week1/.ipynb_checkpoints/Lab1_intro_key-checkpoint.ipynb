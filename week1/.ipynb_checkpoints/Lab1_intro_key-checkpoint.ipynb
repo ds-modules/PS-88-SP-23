{
 "cells": [
  {
   "cell_type": "markdown",
   "metadata": {},
   "source": [
    "# PS 88, Spring 2023\n",
    "# Lab 1: Cross-Border Spillover: U.S. Gun Laws and Violence in Mexico\n",
    "\n",
    "The goal of this lab is to give you a taste of how we can use Jupyter notebooks to replicate some of the graphs from this week's lecture. Doing so requires using some techniques that you will learn later in the semester, so **do not worry if a lot of the code doesn't make sense yet!!** We are going to \"toss you in the deep end\" here, but with a good floatation device.\n",
    "\n",
    "More specifically, we are going to write almost all of the code for you in this lab, but at a few points you will have to fill in some gaps. As the class progresses you will gain more knowledge to write code from scratch. \n",
    "\n",
    "In particular, we'll reproduce Figure 4 from [this paper](https://omargarciaponce.com/wp-content/uploads/2013/07/cross_border_spillover.pdf). The goals of this figure is to see how the expiration of an assault weapons ban in 2004 in three states which border Mexico but **not** California affected gun-related crime in nearby Mexican Municipios. \n",
    "\n",
    "To begin, we need to load in the data. In the cell below, we load in our data, a table containing 6 columns:  \n",
    "1) `NCAseg1`: a variable equal to 1 for Municipios adjacent to Texas, Arizona, or New Mexico, and 0 for those adjacent to California.\n",
    "\n",
    "2) `year`: the year that the crimes occurred  \n",
    "\n",
    "3) `homicide`: the number of total homicides in the municipios for that `year` and `NCAseg1` value  \n",
    "\n",
    "4) `homdguns`: the number of gun-related homicides in the municipios for that `year` and `NCAseg1` value  \n",
    "\n",
    "5) `nongunhom`: the number of homicides unrelated to guns in the municipios for that `year` and `NCAseg1` value  \n",
    "\n",
    "6) `suicdguns`: the number of suicides by guns in the municipios for that `year` and `NCAseg1` value  \n",
    "\n",
    "Don't worry about the details here, though we do provide some information about what is going on in the comments."
   ]
  },
  {
   "cell_type": "code",
   "execution_count": 2,
   "metadata": {},
   "outputs": [
    {
     "data": {
      "text/html": [
       "<div>\n",
       "<style scoped>\n",
       "    .dataframe tbody tr th:only-of-type {\n",
       "        vertical-align: middle;\n",
       "    }\n",
       "\n",
       "    .dataframe tbody tr th {\n",
       "        vertical-align: top;\n",
       "    }\n",
       "\n",
       "    .dataframe thead th {\n",
       "        text-align: right;\n",
       "    }\n",
       "</style>\n",
       "<table border=\"1\" class=\"dataframe\">\n",
       "  <thead>\n",
       "    <tr style=\"text-align: right;\">\n",
       "      <th></th>\n",
       "      <th>NCAseg18</th>\n",
       "      <th>year</th>\n",
       "      <th>homicide</th>\n",
       "      <th>homdguns</th>\n",
       "      <th>nongunhom</th>\n",
       "      <th>suicdguns</th>\n",
       "    </tr>\n",
       "  </thead>\n",
       "  <tbody>\n",
       "    <tr>\n",
       "      <th>0</th>\n",
       "      <td>0.0</td>\n",
       "      <td>2002-01-01</td>\n",
       "      <td>378.0</td>\n",
       "      <td>248.0</td>\n",
       "      <td>121.0</td>\n",
       "      <td>13.0</td>\n",
       "    </tr>\n",
       "    <tr>\n",
       "      <th>1</th>\n",
       "      <td>0.0</td>\n",
       "      <td>2003-01-01</td>\n",
       "      <td>404.0</td>\n",
       "      <td>250.0</td>\n",
       "      <td>152.0</td>\n",
       "      <td>7.0</td>\n",
       "    </tr>\n",
       "    <tr>\n",
       "      <th>2</th>\n",
       "      <td>0.0</td>\n",
       "      <td>2004-01-01</td>\n",
       "      <td>423.0</td>\n",
       "      <td>278.0</td>\n",
       "      <td>144.0</td>\n",
       "      <td>2.0</td>\n",
       "    </tr>\n",
       "    <tr>\n",
       "      <th>3</th>\n",
       "      <td>0.0</td>\n",
       "      <td>2005-01-01</td>\n",
       "      <td>385.0</td>\n",
       "      <td>246.0</td>\n",
       "      <td>138.0</td>\n",
       "      <td>2.0</td>\n",
       "    </tr>\n",
       "    <tr>\n",
       "      <th>4</th>\n",
       "      <td>0.0</td>\n",
       "      <td>2006-01-01</td>\n",
       "      <td>392.0</td>\n",
       "      <td>268.0</td>\n",
       "      <td>117.0</td>\n",
       "      <td>4.0</td>\n",
       "    </tr>\n",
       "    <tr>\n",
       "      <th>5</th>\n",
       "      <td>1.0</td>\n",
       "      <td>2002-01-01</td>\n",
       "      <td>529.0</td>\n",
       "      <td>303.0</td>\n",
       "      <td>153.0</td>\n",
       "      <td>49.0</td>\n",
       "    </tr>\n",
       "    <tr>\n",
       "      <th>6</th>\n",
       "      <td>1.0</td>\n",
       "      <td>2003-01-01</td>\n",
       "      <td>501.0</td>\n",
       "      <td>325.0</td>\n",
       "      <td>127.0</td>\n",
       "      <td>56.0</td>\n",
       "    </tr>\n",
       "    <tr>\n",
       "      <th>7</th>\n",
       "      <td>1.0</td>\n",
       "      <td>2004-01-01</td>\n",
       "      <td>497.0</td>\n",
       "      <td>269.0</td>\n",
       "      <td>175.0</td>\n",
       "      <td>52.0</td>\n",
       "    </tr>\n",
       "    <tr>\n",
       "      <th>8</th>\n",
       "      <td>1.0</td>\n",
       "      <td>2005-01-01</td>\n",
       "      <td>641.0</td>\n",
       "      <td>389.0</td>\n",
       "      <td>180.0</td>\n",
       "      <td>38.0</td>\n",
       "    </tr>\n",
       "    <tr>\n",
       "      <th>9</th>\n",
       "      <td>1.0</td>\n",
       "      <td>2006-01-01</td>\n",
       "      <td>670.0</td>\n",
       "      <td>451.0</td>\n",
       "      <td>159.0</td>\n",
       "      <td>27.0</td>\n",
       "    </tr>\n",
       "  </tbody>\n",
       "</table>\n",
       "</div>"
      ],
      "text/plain": [
       "   NCAseg18        year  homicide  homdguns  nongunhom  suicdguns\n",
       "0       0.0  2002-01-01     378.0     248.0      121.0       13.0\n",
       "1       0.0  2003-01-01     404.0     250.0      152.0        7.0\n",
       "2       0.0  2004-01-01     423.0     278.0      144.0        2.0\n",
       "3       0.0  2005-01-01     385.0     246.0      138.0        2.0\n",
       "4       0.0  2006-01-01     392.0     268.0      117.0        4.0\n",
       "5       1.0  2002-01-01     529.0     303.0      153.0       49.0\n",
       "6       1.0  2003-01-01     501.0     325.0      127.0       56.0\n",
       "7       1.0  2004-01-01     497.0     269.0      175.0       52.0\n",
       "8       1.0  2005-01-01     641.0     389.0      180.0       38.0\n",
       "9       1.0  2006-01-01     670.0     451.0      159.0       27.0"
      ]
     },
     "execution_count": 2,
     "metadata": {},
     "output_type": "execute_result"
    }
   ],
   "source": [
    "# Importing libraries we will use\n",
    "# Lots of labs will start with cells that look like this\n",
    "# Make sure to run them first!\n",
    "import pandas as pd\n",
    "import seaborn as sns\n",
    "import matplotlib.pyplot as plt\n",
    "# Reading in the table and storing it as \"df\"\n",
    "# The data are stored in a file on datahub, and the pd_read_csv function\n",
    "# imports it\n",
    "df = pd.read_csv('data/nca_deaths.csv')\n",
    "# Displaying the table\n",
    "df"
   ]
  },
  {
   "cell_type": "markdown",
   "metadata": {},
   "source": [
    "For example, this table tells us that in the Municipios adjacent to California in 2005, there were 385 total homicides, 246 of which involved guns.\n",
    "\n",
    "In the following cell, we create a *line plot* for the total homicide count for municipios near either California (in which case `NCAseg18` is 0) or Texas, Arizona, or New Mexico (in which `NCAseg18` is 1). Again, we will discuss graphs like this later in the semester, but the short version is that this will plot the trends in homicides for these two groups of Municipios separately so we can compare the trajectory before and after the ban expired.\n",
    "\n",
    "We also run code to create a plot title, legend, and line at 2004, the year Californian gun control legislation passed. What happened to the total number of homicides in municipios adjacent to California compared to those near the 3 other states?"
   ]
  },
  {
   "cell_type": "code",
   "execution_count": 4,
   "metadata": {},
   "outputs": [
    {
     "data": {
      "text/plain": [
       "<matplotlib.lines.Line2D at 0x7fb659715f70>"
      ]
     },
     "execution_count": 4,
     "metadata": {},
     "output_type": "execute_result"
    },
    {
     "data": {
      "image/png": "[encoded data removed]",
      "text/plain": [
       "<Figure size 432x288 with 1 Axes>"
      ]
     },
     "metadata": {
      "needs_background": "light"
     },
     "output_type": "display_data"
    }
   ],
   "source": [
    "# Plotting homicides per year for municipios adjacent to CA\n",
    "sns.lineplot(x='year', y='homicide', data=df[df['NCAseg18']==0], label='Adjacent to CA')\n",
    "# Plotting homicides per year for municipios not adjacent to CA\n",
    "sns.lineplot(x='year', y='homicide', data=df[df['NCAseg18']==1], label='Adjacent to TX, AZ, or NM')\n",
    "#Setting the y axis to go from 0 to 700\n",
    "plt.ylim(0,700)\n",
    "# Adding a title to the plot\n",
    "plt.title(\"Homicides\")\n",
    "# Adding a legend to the plot\n",
    "plt.legend()\n",
    "# Making a vertical line when the ban expired\n",
    "plt.axvline('2004-01-01', color='black', linestyle='--')"
   ]
  },
  {
   "cell_type": "markdown",
   "metadata": {},
   "source": [
    "We are going to create some more graphs like this, and to reduce the amount of code we can create a function which sets the y axis limits, and adds a plot title/legend/dashed line at the policy change."
   ]
  },
  {
   "cell_type": "code",
   "execution_count": 5,
   "metadata": {},
   "outputs": [],
   "source": [
    "# Create a function which formats the graph as above. \n",
    "# As we will cover later in the class, we are defining a function\n",
    "# with one \"argument\", which is the title to put on top of the graph\n",
    "def formatting(title):\n",
    "    plt.ylim(0,700)\n",
    "    plt.title(title)\n",
    "    plt.legend()\n",
    "    plt.axvline('2004-01-01', color='black', linestyle='--')"
   ]
  },
  {
   "cell_type": "markdown",
   "metadata": {},
   "source": [
    "Let's reproduce the previous graph with this shortcut"
   ]
  },
  {
   "cell_type": "code",
   "execution_count": 6,
   "metadata": {},
   "outputs": [
    {
     "data": {
      "image/png": "[encoded data removed]",
      "text/plain": [
       "<Figure size 432x288 with 1 Axes>"
      ]
     },
     "metadata": {
      "needs_background": "light"
     },
     "output_type": "display_data"
    }
   ],
   "source": [
    "# Plotting homicides per year for municipios adjacent to CA\n",
    "sns.lineplot(x='year', y='homicide', data=df[df['NCAseg18']==0], label='Adjacent to CA')\n",
    "# Plotting homicides per year for municipios not adjacent to CA\n",
    "sns.lineplot(x='year', y='homicide', data=df[df['NCAseg18']==1], label='Adjacent to TX, AZ, or NM')\n",
    "# All the formatting in one fell swoop\n",
    "formatting(\"Homicides\")"
   ]
  },
  {
   "cell_type": "markdown",
   "metadata": {},
   "source": [
    "A first thing to notice here is that there are always more homicides in the Municipios which border TX, AZ, and NM. This could reflect a higher population, or that these areas are more violent in general. More important for our purposes, this gap seems was shrinking a bit leading up to the experation of the ban in 2004, after which is started increasing quite a bit. This provides some initial evidence that making it easier to access assault weapons increased the amount of violence in the states adjacent to TX/AZ/NM.  \n",
    "\n",
    "There are lots of ways that we can modify this code to produce different graphs. Let's suppose we want to restrict to gun-related homicides (as the authors do in the paper). Even without knowing exactly how the `sns.lineplot` function works, remember that `'homicide'` to the column in our table which has the information about the number of homicides. And `'homdguns'` refers to the number of gun-related homicides. So, let's see what happens if we run the same code as above but replace both instances of `'homicides'` with `'homdguns'`. Note that we want to put a single quotation mark around the variable names here; we'll learn more about why later in the semester.\n",
    "\n",
    "We have to do this twice because we want to plot gun-related homicides for both groups of Municipios. We also change the title to \"Gun-related Homicides\" to reflect this."
   ]
  },
  {
   "cell_type": "code",
   "execution_count": 7,
   "metadata": {},
   "outputs": [
    {
     "data": {
      "image/png": "[encoded data removed]",
      "text/plain": [
       "<Figure size 432x288 with 1 Axes>"
      ]
     },
     "metadata": {
      "needs_background": "light"
     },
     "output_type": "display_data"
    }
   ],
   "source": [
    "sns.lineplot(x='year', y='homdguns', data=df[df['NCAseg18']==0], label='Adjacent to CA')\n",
    "sns.lineplot(x='year', y='homdguns', data=df[df['NCAseg18']==1], label='Adjacent to TX, AZ, or NM')\n",
    "formatting('Gun-related Homicides')"
   ]
  },
  {
   "cell_type": "markdown",
   "metadata": {},
   "source": [
    "The modified code produces a graph which plots gun-related homicides in these two groups of Municipios.\n",
    "\n",
    "This general idea of \"pattern matching\" -- or, taking some code which works to do one thing and modifying it to do something else -- will be a big part of what we ask you to do in labs. It is also a very common strategy to accomplish real data science tasks outside of class (though typically you will have much less guidance!)\n",
    "\n",
    "Back to the political question here, let's interpret the difference between these graphs. Here and in later labs, we will ask questions you need to answer for credit in **bold text**, followed by a markdown cell where you put your answer.\n",
    "\n",
    "**Question 1. How does this graph compare to the previous one (which included all homicides)?**"
   ]
  },
  {
   "cell_type": "markdown",
   "metadata": {},
   "source": [
    "One simililarity is that both all homicides and gun-related homicides were both decreasing in the area near TX/AZ/NM up to 2004 and then increased. They also both show an increasing difference between the two areas after 2004. One difference is that before 2004 all homicides were higher near TX/AZ/NM but gun-related homicdes were close."
   ]
  },
  {
   "cell_type": "markdown",
   "metadata": {},
   "source": [
    "Now let's see if you can do a different code modification to produce a new graph.\n",
    "\n",
    "For questions where we ask you to write code, we will always provide a code cell with a comment indicating it is where the answer should go. Sometimes, as in the following question, we will write some of the code for you, and often use \"...\" to indicate where you need to change things to provide an answer.\n",
    "\n",
    "**Question 2. Use the same idea of pattern-matching to plot homicides that aren't gun related. [Hint, the column that has this information is titled `'nongunhom'`]**"
   ]
  },
  {
   "cell_type": "code",
   "execution_count": 8,
   "metadata": {},
   "outputs": [
    {
     "data": {
      "image/png": "[encoded data removed]",
      "text/plain": [
       "<Figure size 432x288 with 1 Axes>"
      ]
     },
     "metadata": {
      "needs_background": "light"
     },
     "output_type": "display_data"
    }
   ],
   "source": [
    "# For question 2, modify the code here to plot non-gun related homicides\n",
    "sns.lineplot(x='year', y=\"nongunhom\", data=df[df['NCAseg18']==0], label='Adjacent to CA')\n",
    "sns.lineplot(x='year', y='nongunhom', data=df[df['NCAseg18']==1], label='Adjacent to TX, AZ, or NM')\n",
    "formatting('Non-gun Homicides')"
   ]
  },
  {
   "cell_type": "markdown",
   "metadata": {},
   "source": [
    "**Question 3. What does this graph tell us about how non-gun homicides changed in these two groups of Municipios after the ban expired? What might this tell us about the effect of the ban expiring?**"
   ]
  },
  {
   "cell_type": "markdown",
   "metadata": {},
   "source": [
    "There is a bit of a relative increase in non-gun homicides in the areas close to TX/NM/AZ, but not nearly as large as the increase in gun-related homicides. One interpretation is that these areas weren't getting much more violent in general, but only had more gun-related deaths. "
   ]
  },
  {
   "cell_type": "markdown",
   "metadata": {},
   "source": [
    "There are many other things we could do to produce different graphs even with this small data set. Here are some possibilities (some are more challenging than others!):\n",
    "- Change the label of the orange line to \"Not adjacent to CA\"\n",
    "- Plot the number of suicides by gun in these two groups of Municipios\n",
    "- Plot the number of non-gun homicides and gun homicides in the Municipios adjacent to CA on the same graph (without the other Municipios)\n",
    "- Move the vertical line from 2004 to 2005\n",
    "- Plot the *difference* in gun-related homicides between the Municipios adjacent to CA and those not adjacent to CA across these years.\n",
    "\n",
    "**Question 4 (OPTIONAL). See if you can do one or more of these in the code cells below**"
   ]
  },
  {
   "cell_type": "code",
   "execution_count": null,
   "metadata": {},
   "outputs": [],
   "source": [
    "# Code for Question 4 here\n",
    "# Plotting homicides per year for municipios adjacent to CA\n",
    "sns.lineplot('year', 'homicide', data=df[df['NCAseg18']==0], label='Adjacent to CA')\n",
    "# Plotting homicides per year for municipios not adjacent to CA\n",
    "sns.lineplot('year', 'homicide', data=df[df['NCAseg18']==1], label='Adjacent to TX, AZ, or NM')\n",
    "#Setting the y axis to go from 0 to 700\n",
    "plt.ylim(0,700)\n",
    "# Adding a title to the plot\n",
    "plt.title(\"Homicides\")\n",
    "# Adding a legend to the plot\n",
    "plt.legend()\n",
    "# Making a vertical line when the ban expired"
   ]
  },
  {
   "cell_type": "markdown",
   "metadata": {},
   "source": [
    "*Words for Question 4 here*"
   ]
  },
  {
   "cell_type": "markdown",
   "metadata": {},
   "source": [
    "Thats all! To submit, go to file->Download As->PDF via LaTex.\n",
    "\n",
    "After that, go to bcourses-> PS 88-> Scroll down till you find the \"Gradescope\" Link on the left\n",
    "\n",
    "This will take you to Gradescope, where you will see a column for Assignments. Clicking on that will show you Lab 1 assignment already created. You need to click on that and use the tab at the bottom of the page to \"Upload Submission\" to submit your pdf file. When you submit your assignment, Gradescope will ask you to mark where each answer is, according to an outline of the problem set. **Remember to assign pages to questions before submitting.**  Do that accurately before submitting your assignment."
   ]
  }
 ],
 "metadata": {
  "kernelspec": {
   "display_name": "Python 3 (ipykernel)",
   "language": "python",
   "name": "python3"
  },
  "language_info": {
   "codemirror_mode": {
    "name": "ipython",
    "version": 3
   },
   "file_extension": ".py",
   "mimetype": "text/x-python",
   "name": "python",
   "nbconvert_exporter": "python",
   "pygments_lexer": "ipython3",
   "version": "3.9.7"
  }
 },
 "nbformat": 4,
 "nbformat_minor": 2
}
