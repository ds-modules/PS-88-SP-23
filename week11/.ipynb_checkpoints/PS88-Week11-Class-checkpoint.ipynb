{
 "cells": [
  {
   "cell_type": "markdown",
   "id": "7595508f",
   "metadata": {},
   "source": [
    "# PS 88 Week 11 Class Notebook"
   ]
  },
  {
   "cell_type": "code",
   "execution_count": null,
   "id": "c2f1d5b8",
   "metadata": {},
   "outputs": [],
   "source": [
    "import numpy as np\n",
    "import seaborn as sns\n",
    "import statsmodels.formula.api as smf\n",
    "import pandas as pd\n",
    "import matplotlib.pyplot as plt\n",
    "%matplotlib inline"
   ]
  },
  {
   "cell_type": "markdown",
   "id": "d1cecf3b",
   "metadata": {},
   "source": [
    "Here is an example with quadratic data"
   ]
  },
  {
   "cell_type": "code",
   "execution_count": null,
   "id": "4a9db878",
   "metadata": {},
   "outputs": [],
   "source": [
    "x = np.random.normal(1,1,size=100)\n",
    "y  = 2*x - 3*x**2 + np.random.normal(0,1, size=100)\n",
    "dat = pd.DataFrame(data={\"x\":x, \"y\":y})\n",
    "dat"
   ]
  },
  {
   "cell_type": "code",
   "execution_count": null,
   "id": "2ddb17c1",
   "metadata": {},
   "outputs": [],
   "source": [
    "sns.regplot(x=\"x\", y=\"y\", data=dat, ci=0)"
   ]
  },
  {
   "cell_type": "code",
   "execution_count": null,
   "id": "1eaaa5f9",
   "metadata": {},
   "outputs": [],
   "source": [
    "smf.ols('y ~ x', data=dat).fit().summary()"
   ]
  },
  {
   "cell_type": "code",
   "execution_count": null,
   "id": "ee0d5dd2",
   "metadata": {},
   "outputs": [],
   "source": [
    "sns.regplot(x='x', y='y', data=dat, order =2, ci=0)"
   ]
  },
  {
   "cell_type": "markdown",
   "id": "7f518e59",
   "metadata": {},
   "source": [
    "We can include a quadratic term in our formula by ading a `+ I(x**2)` term in our regression formula"
   ]
  },
  {
   "cell_type": "code",
   "execution_count": null,
   "id": "3904f957",
   "metadata": {},
   "outputs": [],
   "source": [
    "quadm = \n",
    "quadm.summary()"
   ]
  },
  {
   "cell_type": "markdown",
   "id": "910974a7",
   "metadata": {},
   "source": [
    "Checking that these regression coefficients are correct. Recall we can use `.params` to get the coefficients"
   ]
  },
  {
   "cell_type": "code",
   "execution_count": null,
   "id": "8d160274",
   "metadata": {},
   "outputs": [],
   "source": [
    "quadm.params"
   ]
  },
  {
   "cell_type": "code",
   "execution_count": null,
   "id": "a6e7abe9",
   "metadata": {},
   "outputs": [],
   "source": [
    "sns.scatterplot(x='x', y='y', data=dat)\n",
    "xplot = np.arange(-3, 3, .01)\n",
    "yplot = quadm.params[0] + quadm.params[1]*xplot + quadm.params[2]*xplot**2\n",
    "plt.plot(xplot,yplot)"
   ]
  },
  {
   "cell_type": "markdown",
   "id": "225cb9fe",
   "metadata": {},
   "source": [
    "Here is a trickier example which uses a since function. We can approximate this using a polynomial with enough terms (remember this from calculus?)"
   ]
  },
  {
   "cell_type": "code",
   "execution_count": null,
   "id": "01cb3bd2",
   "metadata": {
    "scrolled": true
   },
   "outputs": [],
   "source": [
    "y2 = x + .5*x**3 -  10*np.sin(2*x) + np.random.normal(0, 1, 100)\n",
    "dat['y2'] = y2"
   ]
  },
  {
   "cell_type": "code",
   "execution_count": null,
   "id": "e4513447",
   "metadata": {},
   "outputs": [],
   "source": []
  },
  {
   "cell_type": "code",
   "execution_count": null,
   "id": "94bbaf4b",
   "metadata": {},
   "outputs": [],
   "source": []
  },
  {
   "cell_type": "code",
   "execution_count": null,
   "id": "e127da7f",
   "metadata": {},
   "outputs": [],
   "source": []
  },
  {
   "cell_type": "markdown",
   "id": "f90c4565",
   "metadata": {},
   "source": [
    "## Interaction terms"
   ]
  },
  {
   "cell_type": "markdown",
   "id": "cd4a68c0",
   "metadata": {},
   "source": [
    "Bringing back our data on ACA voting and the 2010 midterms"
   ]
  },
  {
   "cell_type": "code",
   "execution_count": null,
   "id": "ab382ce8",
   "metadata": {},
   "outputs": [],
   "source": [
    "hcr_mid = pd.read_stata(\"hcr_midterm.dta\")\n",
    "hcr_mid"
   ]
  },
  {
   "cell_type": "markdown",
   "id": "2b7d6d32",
   "metadata": {},
   "source": [
    "Recall we want to focus on democrats who were in competitive districts"
   ]
  },
  {
   "cell_type": "code",
   "execution_count": 50,
   "id": "9da8c8d1",
   "metadata": {
    "scrolled": true
   },
   "outputs": [
    {
     "data": {
      "text/html": [
       "<div>\n",
       "<style scoped>\n",
       "    .dataframe tbody tr th:only-of-type {\n",
       "        vertical-align: middle;\n",
       "    }\n",
       "\n",
       "    .dataframe tbody tr th {\n",
       "        vertical-align: top;\n",
       "    }\n",
       "\n",
       "    .dataframe thead th {\n",
       "        text-align: right;\n",
       "    }\n",
       "</style>\n",
       "<table border=\"1\" class=\"dataframe\">\n",
       "  <thead>\n",
       "    <tr style=\"text-align: right;\">\n",
       "      <th></th>\n",
       "      <th>dem</th>\n",
       "      <th>rep</th>\n",
       "      <th>rpt</th>\n",
       "      <th>state</th>\n",
       "      <th>cd</th>\n",
       "      <th>party</th>\n",
       "      <th>hcr_yes</th>\n",
       "      <th>obama</th>\n",
       "      <th>dem_n</th>\n",
       "      <th>hcr_obama</th>\n",
       "    </tr>\n",
       "  </thead>\n",
       "  <tbody>\n",
       "    <tr>\n",
       "      <th>2</th>\n",
       "      <td>49%</td>\n",
       "      <td>51%</td>\n",
       "      <td>100%</td>\n",
       "      <td>AL</td>\n",
       "      <td>2</td>\n",
       "      <td>D</td>\n",
       "      <td>0</td>\n",
       "      <td>36</td>\n",
       "      <td>49.0</td>\n",
       "      <td>0.0</td>\n",
       "    </tr>\n",
       "    <tr>\n",
       "      <th>5</th>\n",
       "      <td>42%</td>\n",
       "      <td>58%</td>\n",
       "      <td>100%</td>\n",
       "      <td>AL</td>\n",
       "      <td>5</td>\n",
       "      <td>D</td>\n",
       "      <td>0</td>\n",
       "      <td>38</td>\n",
       "      <td>42.0</td>\n",
       "      <td>0.0</td>\n",
       "    </tr>\n",
       "    <tr>\n",
       "      <th>7</th>\n",
       "      <td>72%</td>\n",
       "      <td>28%</td>\n",
       "      <td>99%</td>\n",
       "      <td>AL</td>\n",
       "      <td>7</td>\n",
       "      <td>D</td>\n",
       "      <td>0</td>\n",
       "      <td>72</td>\n",
       "      <td>72.0</td>\n",
       "      <td>0.0</td>\n",
       "    </tr>\n",
       "    <tr>\n",
       "      <th>8</th>\n",
       "      <td>43%</td>\n",
       "      <td>52%</td>\n",
       "      <td>99%</td>\n",
       "      <td>AR</td>\n",
       "      <td>1</td>\n",
       "      <td>D</td>\n",
       "      <td>1</td>\n",
       "      <td>38</td>\n",
       "      <td>43.0</td>\n",
       "      <td>38.0</td>\n",
       "    </tr>\n",
       "    <tr>\n",
       "      <th>9</th>\n",
       "      <td>38%</td>\n",
       "      <td>58%</td>\n",
       "      <td>99%</td>\n",
       "      <td>AR</td>\n",
       "      <td>2</td>\n",
       "      <td>D</td>\n",
       "      <td>1</td>\n",
       "      <td>44</td>\n",
       "      <td>38.0</td>\n",
       "      <td>44.0</td>\n",
       "    </tr>\n",
       "    <tr>\n",
       "      <th>...</th>\n",
       "      <td>...</td>\n",
       "      <td>...</td>\n",
       "      <td>...</td>\n",
       "      <td>...</td>\n",
       "      <td>...</td>\n",
       "      <td>...</td>\n",
       "      <td>...</td>\n",
       "      <td>...</td>\n",
       "      <td>...</td>\n",
       "      <td>...</td>\n",
       "    </tr>\n",
       "    <tr>\n",
       "      <th>425</th>\n",
       "      <td>69%</td>\n",
       "      <td>30%</td>\n",
       "      <td>100%</td>\n",
       "      <td>WI</td>\n",
       "      <td>4</td>\n",
       "      <td>D</td>\n",
       "      <td>1</td>\n",
       "      <td>75</td>\n",
       "      <td>69.0</td>\n",
       "      <td>75.0</td>\n",
       "    </tr>\n",
       "    <tr>\n",
       "      <th>428</th>\n",
       "      <td>44%</td>\n",
       "      <td>52%</td>\n",
       "      <td>100%</td>\n",
       "      <td>WI</td>\n",
       "      <td>7</td>\n",
       "      <td>D</td>\n",
       "      <td>1</td>\n",
       "      <td>56</td>\n",
       "      <td>44.0</td>\n",
       "      <td>56.0</td>\n",
       "    </tr>\n",
       "    <tr>\n",
       "      <th>429</th>\n",
       "      <td>45%</td>\n",
       "      <td>55%</td>\n",
       "      <td>99%</td>\n",
       "      <td>WI</td>\n",
       "      <td>8</td>\n",
       "      <td>D</td>\n",
       "      <td>1</td>\n",
       "      <td>54</td>\n",
       "      <td>45.0</td>\n",
       "      <td>54.0</td>\n",
       "    </tr>\n",
       "    <tr>\n",
       "      <th>430</th>\n",
       "      <td>50%</td>\n",
       "      <td>50%</td>\n",
       "      <td>100%</td>\n",
       "      <td>WV</td>\n",
       "      <td>1</td>\n",
       "      <td>D</td>\n",
       "      <td>1</td>\n",
       "      <td>42</td>\n",
       "      <td>50.0</td>\n",
       "      <td>42.0</td>\n",
       "    </tr>\n",
       "    <tr>\n",
       "      <th>432</th>\n",
       "      <td>55%</td>\n",
       "      <td>45%</td>\n",
       "      <td>100%</td>\n",
       "      <td>WV</td>\n",
       "      <td>3</td>\n",
       "      <td>D</td>\n",
       "      <td>1</td>\n",
       "      <td>42</td>\n",
       "      <td>55.0</td>\n",
       "      <td>42.0</td>\n",
       "    </tr>\n",
       "  </tbody>\n",
       "</table>\n",
       "<p>255 rows × 10 columns</p>\n",
       "</div>"
      ],
      "text/plain": [
       "     dem  rep   rpt state  cd party  hcr_yes  obama  dem_n  hcr_obama\n",
       "2    49%  51%  100%    AL   2     D        0     36   49.0        0.0\n",
       "5    42%  58%  100%    AL   5     D        0     38   42.0        0.0\n",
       "7    72%  28%   99%    AL   7     D        0     72   72.0        0.0\n",
       "8    43%  52%   99%    AR   1     D        1     38   43.0       38.0\n",
       "9    38%  58%   99%    AR   2     D        1     44   38.0       44.0\n",
       "..   ...  ...   ...   ...  ..   ...      ...    ...    ...        ...\n",
       "425  69%  30%  100%    WI   4     D        1     75   69.0       75.0\n",
       "428  44%  52%  100%    WI   7     D        1     56   44.0       56.0\n",
       "429  45%  55%   99%    WI   8     D        1     54   45.0       54.0\n",
       "430  50%  50%  100%    WV   1     D        1     42   50.0       42.0\n",
       "432  55%  45%  100%    WV   3     D        1     42   55.0       42.0\n",
       "\n",
       "[255 rows x 10 columns]"
      ]
     },
     "execution_count": 50,
     "metadata": {},
     "output_type": "execute_result"
    }
   ],
   "source": [
    "hcr_mid = hcr_mid[(hcr_mid[\"dem_n\"] > 0) & (hcr_mid[\"party\"]==\"D\")]\n",
    "hcr_mid"
   ]
  },
  {
   "cell_type": "markdown",
   "id": "4fd14e97",
   "metadata": {},
   "source": [
    "The multivariate regression we considered before"
   ]
  },
  {
   "cell_type": "code",
   "execution_count": 52,
   "id": "11be8ded",
   "metadata": {},
   "outputs": [
    {
     "data": {
      "text/html": [
       "<table class=\"simpletable\">\n",
       "<caption>OLS Regression Results</caption>\n",
       "<tr>\n",
       "  <th>Dep. Variable:</th>          <td>dem_n</td>      <th>  R-squared:         </th> <td>   0.839</td> \n",
       "</tr>\n",
       "<tr>\n",
       "  <th>Model:</th>                   <td>OLS</td>       <th>  Adj. R-squared:    </th> <td>   0.838</td> \n",
       "</tr>\n",
       "<tr>\n",
       "  <th>Method:</th>             <td>Least Squares</td>  <th>  F-statistic:       </th> <td>   657.5</td> \n",
       "</tr>\n",
       "<tr>\n",
       "  <th>Date:</th>             <td>Tue, 04 Apr 2023</td> <th>  Prob (F-statistic):</th> <td>9.98e-101</td>\n",
       "</tr>\n",
       "<tr>\n",
       "  <th>Time:</th>                 <td>07:56:23</td>     <th>  Log-Likelihood:    </th> <td> -779.96</td> \n",
       "</tr>\n",
       "<tr>\n",
       "  <th>No. Observations:</th>      <td>   255</td>      <th>  AIC:               </th> <td>   1566.</td> \n",
       "</tr>\n",
       "<tr>\n",
       "  <th>Df Residuals:</th>          <td>   252</td>      <th>  BIC:               </th> <td>   1577.</td> \n",
       "</tr>\n",
       "<tr>\n",
       "  <th>Df Model:</th>              <td>     2</td>      <th>                     </th>     <td> </td>    \n",
       "</tr>\n",
       "<tr>\n",
       "  <th>Covariance Type:</th>      <td>nonrobust</td>    <th>                     </th>     <td> </td>    \n",
       "</tr>\n",
       "</table>\n",
       "<table class=\"simpletable\">\n",
       "<tr>\n",
       "      <td></td>         <th>coef</th>     <th>std err</th>      <th>t</th>      <th>P>|t|</th>  <th>[0.025</th>    <th>0.975]</th>  \n",
       "</tr>\n",
       "<tr>\n",
       "  <th>Intercept</th> <td>    4.4892</td> <td>    1.526</td> <td>    2.943</td> <td> 0.004</td> <td>    1.485</td> <td>    7.494</td>\n",
       "</tr>\n",
       "<tr>\n",
       "  <th>hcr_yes</th>   <td>   -5.3155</td> <td>    1.063</td> <td>   -4.999</td> <td> 0.000</td> <td>   -7.410</td> <td>   -3.221</td>\n",
       "</tr>\n",
       "<tr>\n",
       "  <th>obama</th>     <td>    0.9510</td> <td>    0.029</td> <td>   33.113</td> <td> 0.000</td> <td>    0.894</td> <td>    1.008</td>\n",
       "</tr>\n",
       "</table>\n",
       "<table class=\"simpletable\">\n",
       "<tr>\n",
       "  <th>Omnibus:</th>       <td> 9.991</td> <th>  Durbin-Watson:     </th> <td>   1.936</td>\n",
       "</tr>\n",
       "<tr>\n",
       "  <th>Prob(Omnibus):</th> <td> 0.007</td> <th>  Jarque-Bera (JB):  </th> <td>  12.235</td>\n",
       "</tr>\n",
       "<tr>\n",
       "  <th>Skew:</th>          <td> 0.331</td> <th>  Prob(JB):          </th> <td> 0.00220</td>\n",
       "</tr>\n",
       "<tr>\n",
       "  <th>Kurtosis:</th>      <td> 3.844</td> <th>  Cond. No.          </th> <td>    294.</td>\n",
       "</tr>\n",
       "</table><br/><br/>Notes:<br/>[1] Standard Errors assume that the covariance matrix of the errors is correctly specified."
      ],
      "text/plain": [
       "<class 'statsmodels.iolib.summary.Summary'>\n",
       "\"\"\"\n",
       "                            OLS Regression Results                            \n",
       "==============================================================================\n",
       "Dep. Variable:                  dem_n   R-squared:                       0.839\n",
       "Model:                            OLS   Adj. R-squared:                  0.838\n",
       "Method:                 Least Squares   F-statistic:                     657.5\n",
       "Date:                Tue, 04 Apr 2023   Prob (F-statistic):          9.98e-101\n",
       "Time:                        07:56:23   Log-Likelihood:                -779.96\n",
       "No. Observations:                 255   AIC:                             1566.\n",
       "Df Residuals:                     252   BIC:                             1577.\n",
       "Df Model:                           2                                         \n",
       "Covariance Type:            nonrobust                                         \n",
       "==============================================================================\n",
       "                 coef    std err          t      P>|t|      [0.025      0.975]\n",
       "------------------------------------------------------------------------------\n",
       "Intercept      4.4892      1.526      2.943      0.004       1.485       7.494\n",
       "hcr_yes       -5.3155      1.063     -4.999      0.000      -7.410      -3.221\n",
       "obama          0.9510      0.029     33.113      0.000       0.894       1.008\n",
       "==============================================================================\n",
       "Omnibus:                        9.991   Durbin-Watson:                   1.936\n",
       "Prob(Omnibus):                  0.007   Jarque-Bera (JB):               12.235\n",
       "Skew:                           0.331   Prob(JB):                      0.00220\n",
       "Kurtosis:                       3.844   Cond. No.                         294.\n",
       "==============================================================================\n",
       "\n",
       "Notes:\n",
       "[1] Standard Errors assume that the covariance matrix of the errors is correctly specified.\n",
       "\"\"\""
      ]
     },
     "execution_count": 52,
     "metadata": {},
     "output_type": "execute_result"
    }
   ],
   "source": [
    "ols_mv = smf.ols('dem_n ~ hcr_yes + obama', data=hcr_mid).fit()\n",
    "ols_mv.summary()"
   ]
  },
  {
   "cell_type": "markdown",
   "id": "e95f2f58",
   "metadata": {},
   "source": [
    "Visualizing this regression"
   ]
  },
  {
   "cell_type": "code",
   "execution_count": 53,
   "id": "8d1362b7",
   "metadata": {},
   "outputs": [
    {
     "data": {
      "text/plain": [
       "Intercept    4.489197\n",
       "hcr_yes     -5.315472\n",
       "obama        0.951048\n",
       "dtype: float64"
      ]
     },
     "execution_count": 53,
     "metadata": {},
     "output_type": "execute_result"
    }
   ],
   "source": [
    "ols_mv.params"
   ]
  },
  {
   "cell_type": "code",
   "execution_count": 54,
   "id": "830e54b0",
   "metadata": {},
   "outputs": [],
   "source": [
    "hcr_mid_y = hcr_mid[hcr_mid[\"hcr_yes\"] == 1]\n",
    "hcr_mid_n = hcr_mid[hcr_mid[\"hcr_yes\"] == 0]"
   ]
  },
  {
   "cell_type": "code",
   "execution_count": 55,
   "id": "145bdd23",
   "metadata": {},
   "outputs": [
    {
     "data": {
      "text/plain": [
       "[<matplotlib.lines.Line2D at 0x7ff610dd5610>]"
      ]
     },
     "execution_count": 55,
     "metadata": {},
     "output_type": "execute_result"
    },
    {
     "data": {
      "image/png": "[encoded data removed]",
      "text/plain": [
       "<Figure size 432x288 with 1 Axes>"
      ]
     },
     "metadata": {
      "needs_background": "light"
     },
     "output_type": "display_data"
    }
   ],
   "source": [
    "sns.scatterplot(x='obama', y='dem_n', data=hcr_mid_y, color=\"green\")\n",
    "sns.scatterplot(x='obama', y='dem_n', data=hcr_mid_n, color=\"orange\")\n",
    "xrange = np.arange(30, 100)\n",
    "plt.plot(xrange, ols_mv.params[0] + xrange*ols_mv.params[2], color=\"orange\")\n",
    "plt.plot(xrange, ols_mv.params[0] + ols_mv.params[1] + xrange*ols_mv.params[2], color=\"green\")"
   ]
  },
  {
   "cell_type": "markdown",
   "id": "05b09fcd",
   "metadata": {},
   "source": [
    "Now let's add an interaction term. We can do this by using \"var1:var2\" to capture the interaction term between these variables."
   ]
  },
  {
   "cell_type": "code",
   "execution_count": null,
   "id": "99c238cc",
   "metadata": {},
   "outputs": [],
   "source": [
    "ols_int = smf.ols('dem_n ~ hcr_yes + obama + hcr_yes:obama', data=hcr_mid).fit()\n",
    "ols_int.summary()"
   ]
  },
  {
   "cell_type": "markdown",
   "id": "14d8f043",
   "metadata": {},
   "source": [
    "To visualize this, we can draw separate best fit lines for those who voted yes and no"
   ]
  },
  {
   "cell_type": "code",
   "execution_count": 56,
   "id": "11e65927",
   "metadata": {},
   "outputs": [
    {
     "data": {
      "text/plain": [
       "<AxesSubplot:xlabel='obama', ylabel='dem_n'>"
      ]
     },
     "execution_count": 56,
     "metadata": {},
     "output_type": "execute_result"
    },
    {
     "data": {
      "image/png": "[encoded data removed]",
      "text/plain": [
       "<Figure size 432x288 with 1 Axes>"
      ]
     },
     "metadata": {
      "needs_background": "light"
     },
     "output_type": "display_data"
    }
   ],
   "source": [
    "sns.regplot(x='obama', y='dem_n', data=hcr_mid_y, ci=0)\n",
    "sns.regplot(x='obama', y='dem_n', data=hcr_mid_n, ci=0)"
   ]
  },
  {
   "cell_type": "code",
   "execution_count": null,
   "id": "51b3de8e",
   "metadata": {},
   "outputs": [],
   "source": []
  },
  {
   "cell_type": "code",
   "execution_count": 57,
   "id": "37623ea0",
   "metadata": {},
   "outputs": [
    {
     "data": {
      "text/plain": [
       "Intercept        24.410139\n",
       "hcr_yes         -27.607541\n",
       "obama             0.504030\n",
       "hcr_yes:obama     0.483968\n",
       "dtype: float64"
      ]
     },
     "execution_count": 57,
     "metadata": {},
     "output_type": "execute_result"
    }
   ],
   "source": [
    "ols_int.params"
   ]
  },
  {
   "cell_type": "markdown",
   "id": "982c6daa",
   "metadata": {},
   "source": [
    "Checking that our interactive regression model model gives the graph"
   ]
  },
  {
   "cell_type": "code",
   "execution_count": 59,
   "id": "90fc6492",
   "metadata": {},
   "outputs": [
    {
     "data": {
      "text/plain": [
       "[<matplotlib.lines.Line2D at 0x7ff610eca7c0>]"
      ]
     },
     "execution_count": 59,
     "metadata": {},
     "output_type": "execute_result"
    },
    {
     "data": {
      "image/png": "[encoded data removed]",
      "text/plain": [
       "<Figure size 432x288 with 1 Axes>"
      ]
     },
     "metadata": {
      "needs_background": "light"
     },
     "output_type": "display_data"
    }
   ],
   "source": [
    "sns.scatterplot(x='obama', y='dem_n', data=hcr_mid_y, color=\"green\")\n",
    "sns.scatterplot(x='obama', y='dem_n', data=hcr_mid_n, color=\"orange\")\n",
    "xrange = np.arange(30, 100)\n",
    "plt.plot(xrange, ols_int.params[0] + xrange*ols_int.params[2], color=\"orange\")\n",
    "plt.plot(xrange, ols_int.params[0] + ols_int.params[1]+ \n",
    "         (ols_int.params[2] + ols_int.params[3])*xrange, color=\"green\")"
   ]
  },
  {
   "cell_type": "markdown",
   "id": "66508b97",
   "metadata": {},
   "source": [
    "## Legal drinking"
   ]
  },
  {
   "cell_type": "code",
   "execution_count": null,
   "id": "1eb3ccd8",
   "metadata": {},
   "outputs": [],
   "source": [
    "mlda = pd.read_stata(\"AEJfigs.dta\")\n",
    "mlda"
   ]
  },
  {
   "cell_type": "code",
   "execution_count": null,
   "id": "187a565d",
   "metadata": {},
   "outputs": [],
   "source": [
    "sns.scatterplot(x='agecell', y='all', data=mlda)\n",
    "plt.axvline(21)"
   ]
  },
  {
   "cell_type": "markdown",
   "id": "6f62684f",
   "metadata": {},
   "source": [
    "Here is the \"close to legal drinking age\" analysis, where we only consider people within a half year of being 21."
   ]
  },
  {
   "cell_type": "code",
   "execution_count": null,
   "id": "3294717a",
   "metadata": {},
   "outputs": [],
   "source": [
    "width = .5\n",
    "close_under = 1*(mlda['agecell'] > 21 - width)*(mlda['agecell'] < 21)\n",
    "close_over = 1*(mlda['agecell'] < 21 + width)*(mlda['agecell'] >= 21)\n",
    "np.mean(mlda.loc[close_under==1, 'all']), np.mean(mlda.loc[close_over==1, 'all'])"
   ]
  },
  {
   "cell_type": "code",
   "execution_count": null,
   "id": "746c8bdf",
   "metadata": {},
   "outputs": [],
   "source": [
    "# Change the width"
   ]
  },
  {
   "cell_type": "markdown",
   "id": "3c513c79",
   "metadata": {},
   "source": [
    "And now the visual version of the regression discontinuity. Not we make two separate `sns.regplot`s and the automatically get placed on the same graph."
   ]
  },
  {
   "cell_type": "code",
   "execution_count": null,
   "id": "beb0d0ab",
   "metadata": {},
   "outputs": [],
   "source": [
    "mlda['diff21'] = mlda['agecell'] - 21"
   ]
  },
  {
   "cell_type": "code",
   "execution_count": null,
   "id": "f93fe013",
   "metadata": {},
   "outputs": [],
   "source": [
    "mlda_under = mlda[mlda['diff21'] < 0]\n",
    "mlda_over = mlda[mlda['diff21'] >=0]\n",
    "sns.regplot(x='diff21',y='all', data=mlda_under)\n",
    "sns.regplot(x='diff21',y='all', data=mlda_over)\n",
    "plt.axvline(0, linestyle=\":\")"
   ]
  },
  {
   "cell_type": "markdown",
   "id": "8f5c0a61",
   "metadata": {},
   "source": [
    "Here is the regression version"
   ]
  },
  {
   "cell_type": "code",
   "execution_count": null,
   "id": "0afd6a0b",
   "metadata": {},
   "outputs": [],
   "source": [
    "mlda_rd1 = smf.ols('all ~ diff21 + over + diff21:over', data=mlda).fit()\n",
    "mlda_rd1.summary()"
   ]
  },
  {
   "cell_type": "markdown",
   "id": "12b116d2",
   "metadata": {},
   "source": [
    "We can add more polynomial terms with the `order=` argument"
   ]
  },
  {
   "cell_type": "code",
   "execution_count": null,
   "id": "2b147d56",
   "metadata": {},
   "outputs": [],
   "source": [
    "mlda_under = mlda[mlda['diff21'] < 0]\n",
    "mlda_over = mlda[mlda['diff21'] >=0]\n",
    "sns.regplot(x='diff21',y='all', data=mlda_under, order=5)\n",
    "sns.regplot(x='diff21',y='all', data=mlda_over, order=5)\n",
    "plt.axvline(0, linestyle=\":\")"
   ]
  },
  {
   "cell_type": "code",
   "execution_count": null,
   "id": "a9851223",
   "metadata": {},
   "outputs": [],
   "source": [
    "mlda['over'] = 1*(mlda['agecell'] >= 21)"
   ]
  },
  {
   "cell_type": "code",
   "execution_count": null,
   "id": "c8da7666",
   "metadata": {},
   "outputs": [],
   "source": [
    "smf.ols('all~over + diff21+ I(diff21**2) + diff21:over + over:I(diff21**2)',data=mlda).fit().summary()"
   ]
  },
  {
   "cell_type": "markdown",
   "id": "5512d038",
   "metadata": {},
   "source": [
    "Another nice informative test we can do is look at trends in mortality *unrelated* to the kinds of deaths caused by drinking. These are often lumped together as \"internal\" causes (see the book for more detail)"
   ]
  },
  {
   "cell_type": "code",
   "execution_count": null,
   "id": "97d6221d",
   "metadata": {},
   "outputs": [],
   "source": [
    "sns.scatterplot(x='agecell', y='internal', data=mlda)\n",
    "plt.axvline(21)"
   ]
  },
  {
   "cell_type": "code",
   "execution_count": null,
   "id": "d2c4d585",
   "metadata": {},
   "outputs": [],
   "source": []
  },
  {
   "cell_type": "code",
   "execution_count": null,
   "id": "f9df6aaf",
   "metadata": {},
   "outputs": [],
   "source": []
  },
  {
   "cell_type": "code",
   "execution_count": null,
   "id": "166aac83",
   "metadata": {},
   "outputs": [],
   "source": []
  },
  {
   "cell_type": "code",
   "execution_count": null,
   "id": "2670a889",
   "metadata": {},
   "outputs": [],
   "source": []
  },
  {
   "cell_type": "code",
   "execution_count": null,
   "id": "91b481d0",
   "metadata": {},
   "outputs": [],
   "source": []
  },
  {
   "cell_type": "code",
   "execution_count": null,
   "id": "93cbac24",
   "metadata": {},
   "outputs": [],
   "source": []
  },
  {
   "cell_type": "code",
   "execution_count": null,
   "id": "570a8efa",
   "metadata": {},
   "outputs": [],
   "source": []
  }
 ],
 "metadata": {
  "kernelspec": {
   "display_name": "Python 3 (ipykernel)",
   "language": "python",
   "name": "python3"
  },
  "language_info": {
   "codemirror_mode": {
    "name": "ipython",
    "version": 3
   },
   "file_extension": ".py",
   "mimetype": "text/x-python",
   "name": "python",
   "nbconvert_exporter": "python",
   "pygments_lexer": "ipython3",
   "version": "3.9.7"
  }
 },
 "nbformat": 4,
 "nbformat_minor": 5
}
