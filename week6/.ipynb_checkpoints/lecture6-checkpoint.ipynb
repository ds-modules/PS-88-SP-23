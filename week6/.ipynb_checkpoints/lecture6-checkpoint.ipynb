{
 "cells": [
  {
   "cell_type": "code",
   "execution_count": 2,
   "id": "a9ebde9e",
   "metadata": {},
   "outputs": [],
   "source": [
    "import numpy as np\n",
    "from datascience import Table\n",
    "%matplotlib inline"
   ]
  },
  {
   "cell_type": "markdown",
   "id": "3fde3c53",
   "metadata": {},
   "source": [
    "Let's create a table with the data from our hypothetical prof/student/GSI example"
   ]
  },
  {
   "cell_type": "code",
   "execution_count": 3,
   "id": "3d685e4a",
   "metadata": {},
   "outputs": [
    {
     "data": {
      "text/html": [
       "<table border=\"1\" class=\"dataframe\">\n",
       "    <thead>\n",
       "        <tr>\n",
       "            <th>Name</th> <th>Health0</th> <th>Health1</th> <th>CausalEffect</th> <th>Insurance</th> <th>Health</th>\n",
       "        </tr>\n",
       "    </thead>\n",
       "    <tbody>\n",
       "        <tr>\n",
       "            <td>Prof   </td> <td>2      </td> <td>4      </td> <td>2           </td> <td>1        </td> <td>4     </td>\n",
       "        </tr>\n",
       "        <tr>\n",
       "            <td>Student</td> <td>7      </td> <td>9      </td> <td>2           </td> <td>0        </td> <td>7     </td>\n",
       "        </tr>\n",
       "        <tr>\n",
       "            <td>GSI    </td> <td>8      </td> <td>10     </td> <td>2           </td> <td>1        </td> <td>10    </td>\n",
       "        </tr>\n",
       "    </tbody>\n",
       "</table>"
      ],
      "text/plain": [
       "Name    | Health0 | Health1 | CausalEffect | Insurance | Health\n",
       "Prof    | 2       | 4       | 2            | 1         | 4\n",
       "Student | 7       | 9       | 2            | 0         | 7\n",
       "GSI     | 8       | 10      | 2            | 1         | 10"
      ]
     },
     "execution_count": 3,
     "metadata": {},
     "output_type": "execute_result"
    }
   ],
   "source": [
    "name=[\"Prof\", \"Student\", \"GSI\"]\n",
    "y0 = [2,7,8]\n",
    "y1 = [4,9,10]\n",
    "k = [2,2,2]\n",
    "d = [1,0,1]\n",
    "y = [4,7,10]\n",
    "alldata = Table().with_columns(\"Name\", name,\n",
    "                               \"Health0\",y0,\n",
    "                            \"Health1\", y1,\n",
    "                            \"CausalEffect\",k,\n",
    "                            \"Insurance\",d,\n",
    "                            \"Health\",y)\n",
    "alldata"
   ]
  },
  {
   "cell_type": "markdown",
   "id": "0120aca3",
   "metadata": {},
   "source": [
    "Here is what we can actually observe"
   ]
  },
  {
   "cell_type": "code",
   "execution_count": 7,
   "id": "73808cef",
   "metadata": {},
   "outputs": [
    {
     "data": {
      "text/html": [
       "<table border=\"1\" class=\"dataframe\">\n",
       "    <thead>\n",
       "        <tr>\n",
       "            <th>Name</th> <th>Insurance</th> <th>Health</th>\n",
       "        </tr>\n",
       "    </thead>\n",
       "    <tbody>\n",
       "        <tr>\n",
       "            <td>Prof   </td> <td>1        </td> <td>4     </td>\n",
       "        </tr>\n",
       "        <tr>\n",
       "            <td>Student</td> <td>0        </td> <td>7     </td>\n",
       "        </tr>\n",
       "        <tr>\n",
       "            <td>GSI    </td> <td>1        </td> <td>10    </td>\n",
       "        </tr>\n",
       "    </tbody>\n",
       "</table>"
      ],
      "text/plain": [
       "Name    | Insurance | Health\n",
       "Prof    | 1         | 4\n",
       "Student | 0         | 7\n",
       "GSI     | 1         | 10"
      ]
     },
     "execution_count": 7,
     "metadata": {},
     "output_type": "execute_result"
    }
   ],
   "source": [
    "obsdata = Table().with_columns(\"Name\", name,\n",
    "                            \"Insurance\",d,\n",
    "                            \"Health\",y)\n",
    "obsdata"
   ]
  },
  {
   "cell_type": "markdown",
   "id": "2837942a",
   "metadata": {},
   "source": [
    "Can we back out the potential outcomes from what we observe? For potential health without insurance, we can only learn the value for the student:"
   ]
  },
  {
   "cell_type": "code",
   "execution_count": 18,
   "id": "e8cc5938",
   "metadata": {},
   "outputs": [
    {
     "data": {
      "text/html": [
       "<table border=\"1\" class=\"dataframe\">\n",
       "    <thead>\n",
       "        <tr>\n",
       "            <th>Name</th> <th>Insurance</th> <th>Health</th> <th>Health0</th>\n",
       "        </tr>\n",
       "    </thead>\n",
       "    <tbody>\n",
       "        <tr>\n",
       "            <td>Prof   </td> <td>1        </td> <td>4     </td> <td>.      </td>\n",
       "        </tr>\n",
       "        <tr>\n",
       "            <td>Student</td> <td>0        </td> <td>7     </td> <td>7      </td>\n",
       "        </tr>\n",
       "        <tr>\n",
       "            <td>GSI    </td> <td>1        </td> <td>10    </td> <td>.      </td>\n",
       "        </tr>\n",
       "    </tbody>\n",
       "</table>"
      ],
      "text/plain": [
       "Name    | Insurance | Health | Health0\n",
       "Prof    | 1         | 4      | .\n",
       "Student | 0         | 7      | 7\n",
       "GSI     | 1         | 10     | ."
      ]
     },
     "execution_count": 18,
     "metadata": {},
     "output_type": "execute_result"
    }
   ],
   "source": [
    "obsdata = obsdata.with_column(\"Health0\", \n",
    "                              np.where(obsdata.column(\"Insurance\")==0, obsdata.column(\"Health\"),\".\"))\n",
    "obsdata"
   ]
  },
  {
   "cell_type": "markdown",
   "id": "e4cde9a9",
   "metadata": {},
   "source": [
    "For the health with insurance, we get to observe the prof and the GSI:"
   ]
  },
  {
   "cell_type": "code",
   "execution_count": 19,
   "id": "c76ddafd",
   "metadata": {},
   "outputs": [
    {
     "data": {
      "text/html": [
       "<table border=\"1\" class=\"dataframe\">\n",
       "    <thead>\n",
       "        <tr>\n",
       "            <th>Name</th> <th>Insurance</th> <th>Health</th> <th>Health0</th> <th>Health1</th>\n",
       "        </tr>\n",
       "    </thead>\n",
       "    <tbody>\n",
       "        <tr>\n",
       "            <td>Prof   </td> <td>1        </td> <td>4     </td> <td>.      </td> <td>4      </td>\n",
       "        </tr>\n",
       "        <tr>\n",
       "            <td>Student</td> <td>0        </td> <td>7     </td> <td>7      </td> <td>.      </td>\n",
       "        </tr>\n",
       "        <tr>\n",
       "            <td>GSI    </td> <td>1        </td> <td>10    </td> <td>.      </td> <td>10     </td>\n",
       "        </tr>\n",
       "    </tbody>\n",
       "</table>"
      ],
      "text/plain": [
       "Name    | Insurance | Health | Health0 | Health1\n",
       "Prof    | 1         | 4      | .       | 4\n",
       "Student | 0         | 7      | 7       | .\n",
       "GSI     | 1         | 10     | .       | 10"
      ]
     },
     "execution_count": 19,
     "metadata": {},
     "output_type": "execute_result"
    }
   ],
   "source": [
    "obsdata = obsdata.with_column(\"Health1\", \n",
    "                              np.where(obsdata.column(\"Insurance\")==1, obsdata.column(\"Health\"),\".\"))\n",
    "obsdata"
   ]
  },
  {
   "cell_type": "markdown",
   "id": "d0e3dd80",
   "metadata": {},
   "source": [
    "Note that we can't calculate the causal effect for any of them because we only have one potential outcome for each"
   ]
  },
  {
   "cell_type": "code",
   "execution_count": 4,
   "id": "829d3142",
   "metadata": {},
   "outputs": [
    {
     "ename": "NameError",
     "evalue": "name 'obsdata' is not defined",
     "output_type": "error",
     "traceback": [
      "\u001b[0;31m---------------------------------------------------------------------------\u001b[0m",
      "\u001b[0;31mNameError\u001b[0m                                 Traceback (most recent call last)",
      "\u001b[0;32m/var/folders/sw/9z5yl7zd2_75bpj9__9zdtvr0000gp/T/ipykernel_72191/2364335069.py\u001b[0m in \u001b[0;36m<module>\u001b[0;34m\u001b[0m\n\u001b[0;32m----> 1\u001b[0;31m \u001b[0mobsdata\u001b[0m\u001b[0;34m.\u001b[0m\u001b[0mcolumn\u001b[0m\u001b[0;34m(\u001b[0m\u001b[0;34m\"Health1\"\u001b[0m\u001b[0;34m)\u001b[0m\u001b[0;34m-\u001b[0m\u001b[0mobsdata\u001b[0m\u001b[0;34m.\u001b[0m\u001b[0mcolumn\u001b[0m\u001b[0;34m(\u001b[0m\u001b[0;34m\"Health0\"\u001b[0m\u001b[0;34m)\u001b[0m\u001b[0;34m\u001b[0m\u001b[0;34m\u001b[0m\u001b[0m\n\u001b[0m",
      "\u001b[0;31mNameError\u001b[0m: name 'obsdata' is not defined"
     ]
    }
   ],
   "source": [
    "obsdata.column(\"Health1\")-obsdata.column(\"Health0\")"
   ]
  },
  {
   "cell_type": "markdown",
   "id": "1d2b3dcb",
   "metadata": {},
   "source": [
    "Even with just 3 observations, we can compute a difference of means: "
   ]
  },
  {
   "cell_type": "code",
   "execution_count": 23,
   "id": "e6c5546b",
   "metadata": {},
   "outputs": [
    {
     "data": {
      "text/plain": [
       "0.0"
      ]
     },
     "execution_count": 23,
     "metadata": {},
     "output_type": "execute_result"
    }
   ],
   "source": [
    "mean1 = np.mean(obsdata.where(\"Insurance\",1).column(\"Health\"))\n",
    "mean0 = np.mean(obsdata.where(\"Insurance\",0).column(\"Health\"))\n",
    "mean1 - mean0"
   ]
  },
  {
   "cell_type": "markdown",
   "id": "9fb6ca6e",
   "metadata": {},
   "source": []
  },
  {
   "cell_type": "markdown",
   "id": "6ff842a6",
   "metadata": {},
   "source": [
    "Which is not equal to the real causal effect, which we know from the full (unobservable) data is equal to 2.\n",
    "\n",
    "How can we check that our \n",
    "$$\\text{difference of means} = \\text{causal effect} + \\text{selection bias}$$ formual holds here?"
   ]
  },
  {
   "cell_type": "code",
   "execution_count": null,
   "id": "e4f717c0",
   "metadata": {},
   "outputs": [],
   "source": []
  }
 ],
 "metadata": {
  "kernelspec": {
   "display_name": "Python 3 (ipykernel)",
   "language": "python",
   "name": "python3"
  },
  "language_info": {
   "codemirror_mode": {
    "name": "ipython",
    "version": 3
   },
   "file_extension": ".py",
   "mimetype": "text/x-python",
   "name": "python",
   "nbconvert_exporter": "python",
   "pygments_lexer": "ipython3",
   "version": "3.9.7"
  }
 },
 "nbformat": 4,
 "nbformat_minor": 5
}
