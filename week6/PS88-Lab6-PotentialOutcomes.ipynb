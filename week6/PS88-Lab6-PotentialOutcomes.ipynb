{
 "cells": [
  {
   "cell_type": "markdown",
   "id": "4c6d28b4",
   "metadata": {},
   "source": [
    "# PS 88 Lab 6 - Potential Outcomes and Causal Inference"
   ]
  },
  {
   "cell_type": "code",
   "execution_count": 97,
   "id": "bfefebc8",
   "metadata": {},
   "outputs": [],
   "source": [
    "import numpy as np\n",
    "from datascience import Table\n",
    "%matplotlib inline"
   ]
  },
  {
   "cell_type": "markdown",
   "id": "3d4b04c0",
   "metadata": {},
   "source": [
    "## Part 1. Reading real causal claims"
   ]
  },
  {
   "cell_type": "markdown",
   "id": "e8c5b1b8",
   "metadata": {},
   "source": [
    "**Question 1.1 Read <a href=\"https://www.bbc.com/news/business-64708832\">this article</a> from the BBC this week. Identify two causal claims. For each, answer the following: (1) What is the independent and dependent variable?\n",
    "(2) Is it a causal claim about a specific case or a general causal claim?\n",
    "(3) What does the causal claim mean about a counterfactual world with a different value of the independent/treatment variable**"
   ]
  },
  {
   "cell_type": "markdown",
   "id": "708c963a",
   "metadata": {},
   "source": [
    "*Answer to 1.1*"
   ]
  },
  {
   "cell_type": "markdown",
   "id": "69e6babc",
   "metadata": {},
   "source": [
    " Consider this quote from Senator Lindsey Graham: \"Russia's actions had no impact at all on the outcome of the (2016) election.\" Let's think about translating this into potential outcomes notation. To simplify, we will interpret the \"outcome\" of the election as the number of electoral college votes won by Trump. We will think of the \"treatment\" here as a binary variable  where $D_{2016}=1$ means \"interference by Russia\" and $D_{2016}=0$ means \"no interference by Russia.\" We will take it as given that in reality $D_{2016}=1$.\n",
    " \n",
    " **Question 1.2. Trump won 304 electoral college votes in 2016. How can we express this outcome in potential outcomes notation? (Hint: it should be of the form that Y with some subscript(s) is equal to something. Look at the markdown cell above to see how to make subscripts.)**"
   ]
  },
  {
   "cell_type": "markdown",
   "id": "e20a2693",
   "metadata": {},
   "source": [
    "*Answer to 1.2*"
   ]
  },
  {
   "cell_type": "markdown",
   "id": "dd6b9f20",
   "metadata": {},
   "source": [
    "**Question 1.3. How can we express Graham's claim in potential outcomes notation (again it should be in the form of Y with some subscript(s) being equal to something)**"
   ]
  },
  {
   "cell_type": "markdown",
   "id": "bab72d6c",
   "metadata": {},
   "source": [
    "*Answer to 1.3*"
   ]
  },
  {
   "cell_type": "markdown",
   "id": "7ff3a066",
   "metadata": {},
   "source": [
    "**Question 1.4. The closest state in the election was my home state of Michigan, which has 16 electoral votes. Suppose someone thinks that Russian interference had a large enough impact to cause Trump to win Michigan, but not any other state. Express this claim in potential outcomes notation.**"
   ]
  },
  {
   "cell_type": "markdown",
   "id": "da418019",
   "metadata": {},
   "source": [
    "*Answer to 1.4*"
   ]
  },
  {
   "cell_type": "markdown",
   "id": "7da70aef",
   "metadata": {},
   "source": [
    "Finally, here is an example of our\n",
    "$$\n",
    "\\text{estimate} = \\text{target} + \\text{bias} + \\text{noise}\n",
    "$$\n",
    "formula in this context.\n",
    "\n",
    "**Question 1.5. Suppose an enterprising researcher managed to collect data on whether Russian trolls tried to influence the vote by state during the 2016 election. Just for the sake of argument, suppose 20 states were trolled and 30 were not. To try and learn whether the trolls affected voting behavior, the researcher then compares the average Trump vote share among the states which were trolled vs not. In this situation, what is the estimate? What is the target? What might be a potential source of bias? (Don't worry about noise.)**"
   ]
  },
  {
   "cell_type": "markdown",
   "id": "2bfeeace",
   "metadata": {},
   "source": [
    "*Answer to 1.5*"
   ]
  },
  {
   "cell_type": "markdown",
   "id": "cd4bf524",
   "metadata": {},
   "source": [
    "## Part 2. Lobbying and Corruption in All Seeing Mode"
   ]
  },
  {
   "cell_type": "markdown",
   "id": "f03d82b3",
   "metadata": {},
   "source": [
    "A common concern in many democratic (and less-than democratic) countries is that those with resources can use lobbying, campaign contributions, or outright bribes to get politicians to do their bidding. Often, the evidence used to make this argument is that those who receive lots of money from a particular interest group tend to vote in a way that the interest group wants (a friend of mine has expressed this in <a href=\"https://www.hrothstein.com/#/the-cost-of-denial/\">art form</a>).\n",
    "\n",
    "Let's think about what causal theories are consistent with this evidence. We will simulate a legislature with 500 members. We assume they all have an ideology which ranges from 0 to 1, where we will interpret this as their predisposition to vote in a \"pro-business\" fashion.\n"
   ]
  },
  {
   "cell_type": "code",
   "execution_count": 98,
   "id": "02c6a5ca",
   "metadata": {},
   "outputs": [
    {
     "data": {
      "text/html": [
       "<table border=\"1\" class=\"dataframe\">\n",
       "    <thead>\n",
       "        <tr>\n",
       "            <th>Ideology</th>\n",
       "        </tr>\n",
       "    </thead>\n",
       "    <tbody>\n",
       "        <tr>\n",
       "            <td>0.364649 </td>\n",
       "        </tr>\n",
       "        <tr>\n",
       "            <td>0.104616 </td>\n",
       "        </tr>\n",
       "        <tr>\n",
       "            <td>0.488303 </td>\n",
       "        </tr>\n",
       "        <tr>\n",
       "            <td>0.40909  </td>\n",
       "        </tr>\n",
       "        <tr>\n",
       "            <td>0.0620965</td>\n",
       "        </tr>\n",
       "        <tr>\n",
       "            <td>0.522891 </td>\n",
       "        </tr>\n",
       "        <tr>\n",
       "            <td>0.169154 </td>\n",
       "        </tr>\n",
       "        <tr>\n",
       "            <td>0.474163 </td>\n",
       "        </tr>\n",
       "        <tr>\n",
       "            <td>0.751836 </td>\n",
       "        </tr>\n",
       "        <tr>\n",
       "            <td>0.617603 </td>\n",
       "        </tr>\n",
       "    </tbody>\n",
       "</table>\n",
       "<p>... (490 rows omitted)</p>"
      ],
      "text/plain": [
       "Ideology\n",
       "0.364649\n",
       "0.104616\n",
       "0.488303\n",
       "0.40909\n",
       "0.0620965\n",
       "0.522891\n",
       "0.169154\n",
       "0.474163\n",
       "0.751836\n",
       "0.617603\n",
       "... (490 rows omitted)"
      ]
     },
     "execution_count": 98,
     "metadata": {},
     "output_type": "execute_result"
    }
   ],
   "source": [
    "n_leg = 500\n",
    "leg_ideol = np.random.rand(n_leg)\n",
    "leg_data = Table().with_column(\"Ideology\", leg_ideol)\n",
    "leg_data"
   ]
  },
  {
   "cell_type": "markdown",
   "id": "10518ece",
   "metadata": {},
   "source": [
    "We may be interested in how legislators vote on particular bills, or their overall voting behavior. Since it will make some calculations a bit more natural, we will do the latter.\n",
    "\n",
    "An outcome we might care about is what proportion of \"pro-business\" bills the legislator votes for, which will range from 0 to 1. If our ideology has any meaning, then those with a higher ideology should be more likely to vote for these bills. There are probably other factors that matter as well. To capture these ideas, we are going to assume that the proportion of pro-business bills they  vote for can be written:\n",
    "$$\n",
    "\\text{pro} = b_{leg} \\times \\text{ideology} + (1-b_{leg}) \\times e\n",
    "$$\n",
    "where $e$ is an *error term* which is a uniform random number between 0 and 1. The $b_{leg}$ variable measures how much ideology is important relative to other considerations. Here is code for this *data generating process*:"
   ]
  },
  {
   "cell_type": "code",
   "execution_count": 99,
   "id": "4bfbfa55",
   "metadata": {},
   "outputs": [
    {
     "data": {
      "text/html": [
       "<table border=\"1\" class=\"dataframe\">\n",
       "    <thead>\n",
       "        <tr>\n",
       "            <th>Ideology</th> <th>Pro B Votes</th>\n",
       "        </tr>\n",
       "    </thead>\n",
       "    <tbody>\n",
       "        <tr>\n",
       "            <td>0.364649 </td> <td>0.316457   </td>\n",
       "        </tr>\n",
       "        <tr>\n",
       "            <td>0.104616 </td> <td>0.290102   </td>\n",
       "        </tr>\n",
       "        <tr>\n",
       "            <td>0.488303 </td> <td>0.352061   </td>\n",
       "        </tr>\n",
       "        <tr>\n",
       "            <td>0.40909  </td> <td>0.464841   </td>\n",
       "        </tr>\n",
       "        <tr>\n",
       "            <td>0.0620965</td> <td>0.434734   </td>\n",
       "        </tr>\n",
       "        <tr>\n",
       "            <td>0.522891 </td> <td>0.718556   </td>\n",
       "        </tr>\n",
       "        <tr>\n",
       "            <td>0.169154 </td> <td>0.364137   </td>\n",
       "        </tr>\n",
       "        <tr>\n",
       "            <td>0.474163 </td> <td>0.683617   </td>\n",
       "        </tr>\n",
       "        <tr>\n",
       "            <td>0.751836 </td> <td>0.595216   </td>\n",
       "        </tr>\n",
       "        <tr>\n",
       "            <td>0.617603 </td> <td>0.534581   </td>\n",
       "        </tr>\n",
       "    </tbody>\n",
       "</table>\n",
       "<p>... (490 rows omitted)</p>"
      ],
      "text/plain": [
       "Ideology  | Pro B Votes\n",
       "0.364649  | 0.316457\n",
       "0.104616  | 0.290102\n",
       "0.488303  | 0.352061\n",
       "0.40909   | 0.464841\n",
       "0.0620965 | 0.434734\n",
       "0.522891  | 0.718556\n",
       "0.169154  | 0.364137\n",
       "0.474163  | 0.683617\n",
       "0.751836  | 0.595216\n",
       "0.617603  | 0.534581\n",
       "... (490 rows omitted)"
      ]
     },
     "execution_count": 99,
     "metadata": {},
     "output_type": "execute_result"
    }
   ],
   "source": [
    "b_leg = 1/2\n",
    "pro = b_leg * leg_ideol + (1-b_leg)*np.random.rand(n_leg)\n",
    "leg_data = leg_data.with_column(\"Pro B Votes\", pro)\n",
    "leg_data"
   ]
  },
  {
   "cell_type": "markdown",
   "id": "66e720f6",
   "metadata": {},
   "source": [
    "Note we haven't said anything about the donor behavior yet; so we have implicitly assumed that this doesn't affect the vote! One theory about donor behavior is that they will give money to those with an aligned ideology in order to help them get re-elected. \n",
    "\n",
    "We can model this with a simple utility framework. Suppose the \"cost\" to donating is $c$, and the benefit is equal to:\n",
    "$$\n",
    "\\text{benefit} = b_{don} \\times \\text{ideology} + (1-b_{don}) \\times e\n",
    "$$\n",
    "where $e$ is a uniform random number between 0 and 1. So, when $b$ is high, the donor puts more weight on ideology, and when $b$  is low they put more weight on other factors. The donor utility is:\n",
    "$$\n",
    "u_{don} = \\text{benefit} - c\n",
    "$$\n",
    "\n",
    "**Question 2.1. Write code to set $b_{don}=1/2$, $c=1/2$, compute the expected utility to donate, and make a variable called `Donate` which is equal to 1 when this is greater than or equal to the cost. (Hint: use the `np.where` function.)**"
   ]
  },
  {
   "cell_type": "code",
   "execution_count": 130,
   "id": "d68f349b",
   "metadata": {},
   "outputs": [],
   "source": [
    "# Code for 2.1"
   ]
  },
  {
   "cell_type": "markdown",
   "id": "99b9e0d4",
   "metadata": {},
   "source": [
    "**Question 2.2. What is the average of the `Pro B Votes` variable among those who receive a donation? Among those who do not? What is the difference of means?**"
   ]
  },
  {
   "cell_type": "code",
   "execution_count": 131,
   "id": "a6b18b92",
   "metadata": {},
   "outputs": [],
   "source": [
    "#Code for 2.2"
   ]
  },
  {
   "cell_type": "markdown",
   "id": "99fb076b",
   "metadata": {},
   "source": [
    "**Question 2.3. You should get that there is a positive difference of means. But we set this up in a way that there is no real causal effect: the legislator behavior was unaffected of what the donor did. If someone were to say to you \"this just goes to show that politicians do whatever lobbyists want them to do!\" what would be a good response based on what we learned this week?**"
   ]
  },
  {
   "cell_type": "markdown",
   "id": "9be63e73",
   "metadata": {},
   "source": [
    "*Answer to 2.3*"
   ]
  },
  {
   "cell_type": "markdown",
   "id": "3355c10b",
   "metadata": {},
   "source": [
    "**Question 2.4. One thing we might want to study is how the parameters of this data generating process affect the observed difference of means. Write a function called `getdm(b_leg,b_don,c)` which replicates the analysis above, but with these variables as arguments. (That is, create a Table with the legislator ideology as a variable, then add variables for the legislator voting behavior and the donor choice, then compute the difference of means in voting behavior among those who received donations vs those who did not). Check that `getdm(.5, .5, .5)` gives a similar answer to what you got for 2.2 (it won't be exactly the same due to randomness).**"
   ]
  },
  {
   "cell_type": "code",
   "execution_count": 132,
   "id": "5ec34d90",
   "metadata": {},
   "outputs": [],
   "source": [
    "# Code for 2.4"
   ]
  },
  {
   "cell_type": "markdown",
   "id": "43051efc",
   "metadata": {},
   "source": [
    "**Question 2.5. See what happens if you increase or decrease the `b_leg` parameter. What does this mean in words? Does this lead to more or less selection bias, and why?**"
   ]
  },
  {
   "cell_type": "code",
   "execution_count": 133,
   "id": "7d7c1cde",
   "metadata": {},
   "outputs": [],
   "source": [
    "#Code for 2.5"
   ]
  },
  {
   "cell_type": "markdown",
   "id": "c7e523ba",
   "metadata": {},
   "source": [
    "*Answer to 2.5*"
   ]
  },
  {
   "cell_type": "markdown",
   "id": "c3bd2790",
   "metadata": {},
   "source": [
    "**Question 2.6. Say we want to simulate a donor who is *anti-business*, or prefers to donate to those with a less pro-business ideology. Write code to simulate whether legislators who get contributions from such a donor are more or less likely to vote yes on pro-business legislation**"
   ]
  },
  {
   "cell_type": "code",
   "execution_count": null,
   "id": "dbcc080e",
   "metadata": {},
   "outputs": [],
   "source": [
    "# Code for 2.6"
   ]
  },
  {
   "cell_type": "markdown",
   "id": "e9c6e8cd",
   "metadata": {},
   "source": [
    "*Words for 2.6*"
   ]
  },
  {
   "cell_type": "markdown",
   "id": "01ec7ba2",
   "metadata": {},
   "source": [
    "## Part 3. Donations with causation"
   ]
  },
  {
   "cell_type": "markdown",
   "id": "770d436b",
   "metadata": {},
   "source": [
    "Now let's do a variant of the analysis above, but where there is a real causal effect of donations. To do that, we will first create a table called `leg_data2` with the legislator ideology and the donation choice, which we treat the same as above."
   ]
  },
  {
   "cell_type": "code",
   "execution_count": 114,
   "id": "313569c0",
   "metadata": {},
   "outputs": [],
   "source": [
    "b_leg=.5\n",
    "b_don=.5\n",
    "c=.5\n",
    "leg_data2 = Table().with_column(\"Ideology\", leg_ideol)\n",
    "u_don = b_don*leg_ideol + (1-b_don)*np.random.rand(n_leg)\n",
    "leg_data2=leg_data2.with_column(\"Donate\", 1*(u_don > c))"
   ]
  },
  {
   "cell_type": "markdown",
   "id": "e9e9adbd",
   "metadata": {},
   "source": [
    "Let's suppose that if a legislator does not receive a donation, they vote as we assumed above. If they do receive a donation, they will vote in a more pro-business fashion by $0.2$. We will create two separate variabels for the potential voting behavior without a donation (`Pro B Votes 0`) and with a donation (`Pro B Votes 1`)."
   ]
  },
  {
   "cell_type": "code",
   "execution_count": 115,
   "id": "1b72f879",
   "metadata": {},
   "outputs": [
    {
     "data": {
      "text/html": [
       "<table border=\"1\" class=\"dataframe\">\n",
       "    <thead>\n",
       "        <tr>\n",
       "            <th>Ideology</th> <th>Donate</th> <th>Pro B Votes 0</th> <th>Pro B Votes 1</th>\n",
       "        </tr>\n",
       "    </thead>\n",
       "    <tbody>\n",
       "        <tr>\n",
       "            <td>0.364649 </td> <td>0     </td> <td>0.662683     </td> <td>0.862683     </td>\n",
       "        </tr>\n",
       "        <tr>\n",
       "            <td>0.104616 </td> <td>0     </td> <td>0.270537     </td> <td>0.470537     </td>\n",
       "        </tr>\n",
       "        <tr>\n",
       "            <td>0.488303 </td> <td>0     </td> <td>0.630846     </td> <td>0.830846     </td>\n",
       "        </tr>\n",
       "        <tr>\n",
       "            <td>0.40909  </td> <td>0     </td> <td>0.256343     </td> <td>0.456343     </td>\n",
       "        </tr>\n",
       "        <tr>\n",
       "            <td>0.0620965</td> <td>0     </td> <td>0.272727     </td> <td>0.472727     </td>\n",
       "        </tr>\n",
       "        <tr>\n",
       "            <td>0.522891 </td> <td>0     </td> <td>0.367734     </td> <td>0.567734     </td>\n",
       "        </tr>\n",
       "        <tr>\n",
       "            <td>0.169154 </td> <td>0     </td> <td>0.336469     </td> <td>0.536469     </td>\n",
       "        </tr>\n",
       "        <tr>\n",
       "            <td>0.474163 </td> <td>1     </td> <td>0.24887      </td> <td>0.44887      </td>\n",
       "        </tr>\n",
       "        <tr>\n",
       "            <td>0.751836 </td> <td>0     </td> <td>0.392424     </td> <td>0.592424     </td>\n",
       "        </tr>\n",
       "        <tr>\n",
       "            <td>0.617603 </td> <td>1     </td> <td>0.690552     </td> <td>0.890552     </td>\n",
       "        </tr>\n",
       "    </tbody>\n",
       "</table>\n",
       "<p>... (490 rows omitted)</p>"
      ],
      "text/plain": [
       "Ideology  | Donate | Pro B Votes 0 | Pro B Votes 1\n",
       "0.364649  | 0      | 0.662683      | 0.862683\n",
       "0.104616  | 0      | 0.270537      | 0.470537\n",
       "0.488303  | 0      | 0.630846      | 0.830846\n",
       "0.40909   | 0      | 0.256343      | 0.456343\n",
       "0.0620965 | 0      | 0.272727      | 0.472727\n",
       "0.522891  | 0      | 0.367734      | 0.567734\n",
       "0.169154  | 0      | 0.336469      | 0.536469\n",
       "0.474163  | 1      | 0.24887       | 0.44887\n",
       "0.751836  | 0      | 0.392424      | 0.592424\n",
       "0.617603  | 1      | 0.690552      | 0.890552\n",
       "... (490 rows omitted)"
      ]
     },
     "execution_count": 115,
     "metadata": {},
     "output_type": "execute_result"
    }
   ],
   "source": [
    "b_bribe = .2\n",
    "pro0 = b_leg * leg_ideol + (1-b_leg)*np.random.rand(n_leg)\n",
    "pro1 = pro0 + b_bribe\n",
    "leg_data2 = leg_data2.with_column(\"Pro B Votes 0\", pro0)\n",
    "leg_data2 = leg_data2.with_column(\"Pro B Votes 1\", pro1)\n",
    "leg_data2"
   ]
  },
  {
   "cell_type": "markdown",
   "id": "1a05856f",
   "metadata": {},
   "source": [
    "**Question 3.1. Create a variable which corresponds to the realized voting behavior; that is, the potential outcome with not donation for those not receiving a donation, and the potential outcome with a donation for those who do receive one. Add this variable to the `leg_data2` table with the name \"Pro B Votes\" (Hint: use the `np.where` function.**"
   ]
  },
  {
   "cell_type": "code",
   "execution_count": 134,
   "id": "5e1d3a65",
   "metadata": {},
   "outputs": [],
   "source": [
    "# Code for 3.1"
   ]
  },
  {
   "cell_type": "markdown",
   "id": "8301448e",
   "metadata": {},
   "source": [
    "**Question 3.2. Compute the difference of means in realized voting behavior among those who received a donation versus not.**"
   ]
  },
  {
   "cell_type": "code",
   "execution_count": 135,
   "id": "3ed53fcc",
   "metadata": {},
   "outputs": [],
   "source": [
    "# Code for 3.2"
   ]
  },
  {
   "cell_type": "markdown",
   "id": "2e1b9f21",
   "metadata": {},
   "source": [
    "**Question 3.3. Compute the selection bias in this estimate by comparing the difference in the average of \"Pro B Votes 0\" among those who received a donation versus not.**"
   ]
  },
  {
   "cell_type": "code",
   "execution_count": 137,
   "id": "4b7aef63",
   "metadata": {},
   "outputs": [],
   "source": [
    "#Code for 3.3"
   ]
  },
  {
   "cell_type": "markdown",
   "id": "d262706c",
   "metadata": {},
   "source": [
    "**Question 3.4. Do a calculation which illustrates the Difference of Means = Causal Effect + Selection Bias formula for this case**"
   ]
  },
  {
   "cell_type": "code",
   "execution_count": 138,
   "id": "61f1116d",
   "metadata": {},
   "outputs": [],
   "source": [
    "# Code for 3.4"
   ]
  },
  {
   "cell_type": "markdown",
   "id": "5da5798d",
   "metadata": {},
   "source": [
    "Suppose researchers studying this question also have the data on the legislator ideology, which is measured in a way that is independent of their voting beahvior/who donates to them (which are incidentally the two main sources of data we use to estimate ideology!) \n",
    "\n",
    "Even without knowing how the data was generated, we can get a sense of whether this might be driving selection bias by looking at the relationship between ideology and donations and the relationship between ideology and voting.\n",
    "\n",
    "**Question 3.5. Create a scatter plot with \"Ideology\" on the x axis and \"Pro B Votes\" on the y axis, using `leg_data2`**"
   ]
  },
  {
   "cell_type": "code",
   "execution_count": 139,
   "id": "530f986b",
   "metadata": {},
   "outputs": [],
   "source": [
    "#Code for 3.5"
   ]
  },
  {
   "cell_type": "markdown",
   "id": "cf09b64d",
   "metadata": {},
   "source": [
    "**Question 3.6. Now compare the difference in the mean of the \"Ideology\" variable among those who received donations vs not (in `leg_data2`). Interpret this difference**"
   ]
  },
  {
   "cell_type": "code",
   "execution_count": 124,
   "id": "4b9c05d0",
   "metadata": {},
   "outputs": [
    {
     "data": {
      "text/plain": [
       "0.3463941783873179"
      ]
     },
     "execution_count": 124,
     "metadata": {},
     "output_type": "execute_result"
    }
   ],
   "source": [
    "#Code for 3.6"
   ]
  },
  {
   "cell_type": "markdown",
   "id": "1dcbdf52",
   "metadata": {},
   "source": [
    "*Words for 3.6*"
   ]
  },
  {
   "cell_type": "markdown",
   "id": "44bf7116",
   "metadata": {},
   "source": [
    "**Question 3.7. We can see all three of these variables together by making a scatterplot of with the \"Ideology\" variable on the x axis and the \"Pro B Votes\" variable on the y axis, using a `group=` option to plot those receiving donations in a different color.**"
   ]
  },
  {
   "cell_type": "code",
   "execution_count": 141,
   "id": "6bf74445",
   "metadata": {},
   "outputs": [],
   "source": [
    "#Code for 3.7"
   ]
  },
  {
   "cell_type": "markdown",
   "id": "6be8831b",
   "metadata": {},
   "source": [
    "**Question 3.8. Use what you found in the last three questions to argue that comparing the voting behavior of those who received donations vs not isn't a *ceteris paribus* comparison.**"
   ]
  },
  {
   "cell_type": "markdown",
   "id": "fee8caa1",
   "metadata": {},
   "source": [
    "*Answer to 3.8*"
   ]
  },
  {
   "cell_type": "markdown",
   "id": "653496b2",
   "metadata": {},
   "source": [
    "**Question 3.9 [OPTIONAL]. Create the same graph as you did in 3.7 but using the `legdata` table where there was no causal effect. Compare the two.**"
   ]
  },
  {
   "cell_type": "code",
   "execution_count": 140,
   "id": "ad2501a3",
   "metadata": {},
   "outputs": [],
   "source": [
    "# Code for 3.9"
   ]
  }
 ],
 "metadata": {
  "kernelspec": {
   "display_name": "Python 3 (ipykernel)",
   "language": "python",
   "name": "python3"
  },
  "language_info": {
   "codemirror_mode": {
    "name": "ipython",
    "version": 3
   },
   "file_extension": ".py",
   "mimetype": "text/x-python",
   "name": "python",
   "nbconvert_exporter": "python",
   "pygments_lexer": "ipython3",
   "version": "3.9.7"
  }
 },
 "nbformat": 4,
 "nbformat_minor": 5
}
